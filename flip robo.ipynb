{
 "cells": [
  {
   "cell_type": "markdown",
   "id": "9fab2473",
   "metadata": {},
   "source": [
    "# Question-1"
   ]
  },
  {
   "cell_type": "code",
   "execution_count": 2,
   "id": "9b71ba4a",
   "metadata": {},
   "outputs": [],
   "source": [
    " from urllib.request import urlopen"
   ]
  },
  {
   "cell_type": "code",
   "execution_count": 3,
   "id": "29a9dae3",
   "metadata": {},
   "outputs": [],
   "source": [
    " from bs4 import BeautifulSoup"
   ]
  },
  {
   "cell_type": "code",
   "execution_count": 4,
   "id": "e26efddf",
   "metadata": {},
   "outputs": [],
   "source": [
    " import requests"
   ]
  },
  {
   "cell_type": "code",
   "execution_count": 5,
   "id": "93a683ad",
   "metadata": {},
   "outputs": [],
   "source": [
    " html = urlopen (\"https://en.wikipedia.org/wiki/Main_Page\")"
   ]
  },
  {
   "cell_type": "code",
   "execution_count": 6,
   "id": "fefbea96",
   "metadata": {},
   "outputs": [],
   "source": [
    " bs = BeautifulSoup(html, \"html.parser\")"
   ]
  },
  {
   "cell_type": "code",
   "execution_count": 7,
   "id": "619534f3",
   "metadata": {},
   "outputs": [],
   "source": [
    " titles = bs.find_all(['h1', 'h2','h3','h4','h5','h6'])"
   ]
  },
  {
   "cell_type": "code",
   "execution_count": 8,
   "id": "62fb39db",
   "metadata": {
    "scrolled": false
   },
   "outputs": [
    {
     "name": "stdout",
     "output_type": "stream",
     "text": [
      "List all the header tags :/n/n<h1 class=\"firstHeading mw-first-heading\" id=\"firstHeading\" style=\"display: none\">Main Page</h1>/n/n<h1><span class=\"mw-headline\" id=\"Welcome_to_Wikipedia\">Welcome to <a href=\"/wiki/Wikipedia\" title=\"Wikipedia\">Wikipedia</a></span></h1>/n/n<h2 class=\"mp-h2\" id=\"mp-tfa-h2\"><span id=\"From_today.27s_featured_article\"></span><span class=\"mw-headline\" id=\"From_today's_featured_article\">From today's featured article</span></h2>/n/n<h2 class=\"mp-h2\" id=\"mp-dyk-h2\"><span class=\"mw-headline\" id=\"Did_you_know_...\">Did you know ...</span></h2>/n/n<h2 class=\"mp-h2\" id=\"mp-itn-h2\"><span class=\"mw-headline\" id=\"In_the_news\">In the news</span></h2>/n/n<h2 class=\"mp-h2\" id=\"mp-otd-h2\"><span class=\"mw-headline\" id=\"On_this_day\">On this day</span></h2>/n/n<h2 class=\"mp-h2\" id=\"mp-tfp-h2\"><span id=\"Today.27s_featured_picture\"></span><span class=\"mw-headline\" id=\"Today's_featured_picture\">Today's featured picture</span></h2>/n/n<h2 class=\"mp-h2\" id=\"mp-other\"><span class=\"mw-headline\" id=\"Other_areas_of_Wikipedia\">Other areas of Wikipedia</span></h2>/n/n<h2 class=\"mp-h2\" id=\"mp-sister\"><span id=\"Wikipedia.27s_sister_projects\"></span><span class=\"mw-headline\" id=\"Wikipedia's_sister_projects\">Wikipedia's sister projects</span></h2>/n/n<h2 class=\"mp-h2\" id=\"mp-lang\"><span class=\"mw-headline\" id=\"Wikipedia_languages\">Wikipedia languages</span></h2>/n/n<h2>Navigation menu</h2>/n/n<h3 class=\"vector-menu-heading\" id=\"p-personal-label\">\n",
      "<span class=\"vector-menu-heading-label\">Personal tools</span>\n",
      "</h3>/n/n<h3 class=\"vector-menu-heading\" id=\"p-namespaces-label\">\n",
      "<span class=\"vector-menu-heading-label\">Namespaces</span>\n",
      "</h3>/n/n<h3 class=\"vector-menu-heading\" id=\"p-views-label\">\n",
      "<span class=\"vector-menu-heading-label\">Views</span>\n",
      "</h3>/n/n<h3>\n",
      "<label for=\"searchInput\">Search</label>\n",
      "</h3>/n/n<h3 class=\"vector-menu-heading\" id=\"p-navigation-label\">\n",
      "<span class=\"vector-menu-heading-label\">Navigation</span>\n",
      "</h3>/n/n<h3 class=\"vector-menu-heading\" id=\"p-interaction-label\">\n",
      "<span class=\"vector-menu-heading-label\">Contribute</span>\n",
      "</h3>/n/n<h3 class=\"vector-menu-heading\" id=\"p-tb-label\">\n",
      "<span class=\"vector-menu-heading-label\">Tools</span>\n",
      "</h3>/n/n<h3 class=\"vector-menu-heading\" id=\"p-coll-print_export-label\">\n",
      "<span class=\"vector-menu-heading-label\">Print/export</span>\n",
      "</h3>/n/n<h3 class=\"vector-menu-heading\" id=\"p-wikibase-otherprojects-label\">\n",
      "<span class=\"vector-menu-heading-label\">In other projects</span>\n",
      "</h3>/n/n<h3 class=\"vector-menu-heading\" id=\"p-lang-label\">\n",
      "<span class=\"vector-menu-heading-label\">Languages</span>\n",
      "</h3>\n"
     ]
    }
   ],
   "source": [
    " print ('List all the header tags :', *titles, sep ='/n/n')"
   ]
  },
  {
   "cell_type": "markdown",
   "id": "600132e3",
   "metadata": {},
   "source": [
    "# Question-2"
   ]
  },
  {
   "cell_type": "code",
   "execution_count": 35,
   "id": "5f609db8",
   "metadata": {},
   "outputs": [],
   "source": [
    "from requests import get"
   ]
  },
  {
   "cell_type": "code",
   "execution_count": 36,
   "id": "98634876",
   "metadata": {},
   "outputs": [],
   "source": [
    "urll = get('https://www.imdb.com/search/title/?groups=top_100&sort=user_rating,desc')"
   ]
  },
  {
   "cell_type": "code",
   "execution_count": 37,
   "id": "ec843660",
   "metadata": {},
   "outputs": [],
   "source": [
    "request  = urll.text"
   ]
  },
  {
   "cell_type": "code",
   "execution_count": 38,
   "id": "06267b4d",
   "metadata": {},
   "outputs": [],
   "source": [
    "from bs4 import BeautifulSoup as Soup"
   ]
  },
  {
   "cell_type": "code",
   "execution_count": 39,
   "id": "725f75e1",
   "metadata": {},
   "outputs": [],
   "source": [
    "soup_data = Soup( request, 'html.parser' )"
   ]
  },
  {
   "cell_type": "code",
   "execution_count": 40,
   "id": "fcf63672",
   "metadata": {},
   "outputs": [
    {
     "data": {
      "text/plain": [
       "'IMDb \"Top 100\"\\n(Sorted by IMDb Rating Descending) - IMDb'"
      ]
     },
     "execution_count": 40,
     "metadata": {},
     "output_type": "execute_result"
    }
   ],
   "source": [
    "soup_data.title.text"
   ]
  },
  {
   "cell_type": "code",
   "execution_count": 41,
   "id": "312d8b19",
   "metadata": {},
   "outputs": [],
   "source": [
    "movies = soup_data.findAll ('div',{'class':\"lister-item mode-advanced\"})"
   ]
  },
  {
   "cell_type": "code",
   "execution_count": 42,
   "id": "5049744d",
   "metadata": {},
   "outputs": [],
   "source": [
    "first_movie = movies[0]"
   ]
  },
  {
   "cell_type": "code",
   "execution_count": 43,
   "id": "b6fd746a",
   "metadata": {},
   "outputs": [
    {
     "data": {
      "text/plain": [
       "'The Shawshank Redemption'"
      ]
     },
     "execution_count": 43,
     "metadata": {},
     "output_type": "execute_result"
    }
   ],
   "source": [
    "first_movie.h3.a.text"
   ]
  },
  {
   "cell_type": "code",
   "execution_count": 44,
   "id": "c147ae97",
   "metadata": {},
   "outputs": [
    {
     "data": {
      "text/plain": [
       "'1994'"
      ]
     },
     "execution_count": 44,
     "metadata": {},
     "output_type": "execute_result"
    }
   ],
   "source": [
    "first_movie.find('span',{'class':\"lister-item-year text-muted unbold\"}).text[1:5]"
   ]
  },
  {
   "cell_type": "code",
   "execution_count": 45,
   "id": "cb2a1183",
   "metadata": {},
   "outputs": [
    {
     "data": {
      "text/plain": [
       "'9.3'"
      ]
     },
     "execution_count": 45,
     "metadata": {},
     "output_type": "execute_result"
    }
   ],
   "source": [
    "first_movie.find('div',{'class':\"inline-block ratings-imdb-rating\"})['data-value']"
   ]
  },
  {
   "cell_type": "code",
   "execution_count": 46,
   "id": "92e93178",
   "metadata": {},
   "outputs": [
    {
     "data": {
      "text/plain": [
       "'81'"
      ]
     },
     "execution_count": 46,
     "metadata": {},
     "output_type": "execute_result"
    }
   ],
   "source": [
    "first_movie.find('div',{'class':\"inline-block ratings-metascore\"}).span.text.strip()"
   ]
  },
  {
   "cell_type": "code",
   "execution_count": 47,
   "id": "482ef11c",
   "metadata": {},
   "outputs": [
    {
     "data": {
      "text/plain": [
       "'2602951'"
      ]
     },
     "execution_count": 47,
     "metadata": {},
     "output_type": "execute_result"
    }
   ],
   "source": [
    "first_movie.find('span',{'name':'nv'})['data-value']"
   ]
  },
  {
   "cell_type": "code",
   "execution_count": 48,
   "id": "0695591c",
   "metadata": {},
   "outputs": [],
   "source": [
    "Name = []\n",
    "Year = []\n",
    "Rating = []\n",
    "Meta_score = []\n",
    "Votes = []\n",
    "for i in movies:\n",
    "    Name.append(i.h3.a.text)\n",
    "    Year.append(i.find('span',{'class':\"lister-item-year text-muted unbold\"}).text[1:5])\n",
    "    Rating.append(i.find('div',{'class':\"inline-block ratings-imdb-rating\"})['data-value'])\n",
    "    try:\n",
    "        Meta_score.append(i.find('div',{'class':\"inline-block ratings-metascore\"}).span.text.strip())\n",
    "    except:\n",
    "        Meta_score.append(0)\n",
    "    Votes.append(i.find('span',{'name':'nv'})['data-value'])"
   ]
  },
  {
   "cell_type": "code",
   "execution_count": 49,
   "id": "13b288c1",
   "metadata": {},
   "outputs": [],
   "source": [
    "data = list(zip(Name,Year,Rating,Meta_score,Votes))"
   ]
  },
  {
   "cell_type": "code",
   "execution_count": 50,
   "id": "6a045951",
   "metadata": {},
   "outputs": [],
   "source": [
    "import pandas as pd\n",
    "df = pd.DataFrame(data,columns=[\"Name\",\"Year\",\"Rating\",\"Meta_score\",\"Votes\"])"
   ]
  },
  {
   "cell_type": "code",
   "execution_count": 51,
   "id": "67e81ead",
   "metadata": {},
   "outputs": [
    {
     "data": {
      "text/html": [
       "<div>\n",
       "<style scoped>\n",
       "    .dataframe tbody tr th:only-of-type {\n",
       "        vertical-align: middle;\n",
       "    }\n",
       "\n",
       "    .dataframe tbody tr th {\n",
       "        vertical-align: top;\n",
       "    }\n",
       "\n",
       "    .dataframe thead th {\n",
       "        text-align: right;\n",
       "    }\n",
       "</style>\n",
       "<table border=\"1\" class=\"dataframe\">\n",
       "  <thead>\n",
       "    <tr style=\"text-align: right;\">\n",
       "      <th></th>\n",
       "      <th>Name</th>\n",
       "      <th>Year</th>\n",
       "      <th>Rating</th>\n",
       "      <th>Meta_score</th>\n",
       "      <th>Votes</th>\n",
       "    </tr>\n",
       "  </thead>\n",
       "  <tbody>\n",
       "    <tr>\n",
       "      <th>0</th>\n",
       "      <td>The Shawshank Redemption</td>\n",
       "      <td>1994</td>\n",
       "      <td>9.3</td>\n",
       "      <td>81</td>\n",
       "      <td>2602951</td>\n",
       "    </tr>\n",
       "    <tr>\n",
       "      <th>1</th>\n",
       "      <td>The Godfather</td>\n",
       "      <td>1972</td>\n",
       "      <td>9.2</td>\n",
       "      <td>100</td>\n",
       "      <td>1798381</td>\n",
       "    </tr>\n",
       "    <tr>\n",
       "      <th>2</th>\n",
       "      <td>The Dark Knight</td>\n",
       "      <td>2008</td>\n",
       "      <td>9</td>\n",
       "      <td>84</td>\n",
       "      <td>2574403</td>\n",
       "    </tr>\n",
       "    <tr>\n",
       "      <th>3</th>\n",
       "      <td>The Lord of the Rings: The Return of the King</td>\n",
       "      <td>2003</td>\n",
       "      <td>9</td>\n",
       "      <td>94</td>\n",
       "      <td>1787496</td>\n",
       "    </tr>\n",
       "    <tr>\n",
       "      <th>4</th>\n",
       "      <td>Schindler's List</td>\n",
       "      <td>1993</td>\n",
       "      <td>9</td>\n",
       "      <td>94</td>\n",
       "      <td>1323619</td>\n",
       "    </tr>\n",
       "  </tbody>\n",
       "</table>\n",
       "</div>"
      ],
      "text/plain": [
       "                                            Name  Year Rating Meta_score  \\\n",
       "0                       The Shawshank Redemption  1994    9.3         81   \n",
       "1                                  The Godfather  1972    9.2        100   \n",
       "2                                The Dark Knight  2008      9         84   \n",
       "3  The Lord of the Rings: The Return of the King  2003      9         94   \n",
       "4                               Schindler's List  1993      9         94   \n",
       "\n",
       "     Votes  \n",
       "0  2602951  \n",
       "1  1798381  \n",
       "2  2574403  \n",
       "3  1787496  \n",
       "4  1323619  "
      ]
     },
     "execution_count": 51,
     "metadata": {},
     "output_type": "execute_result"
    }
   ],
   "source": [
    "df.head()"
   ]
  },
  {
   "cell_type": "markdown",
   "id": "0f96cc81",
   "metadata": {},
   "source": [
    "# Question-3"
   ]
  },
  {
   "cell_type": "code",
   "execution_count": 60,
   "id": "bd6d84d6",
   "metadata": {},
   "outputs": [],
   "source": [
    "page = requests.get('https://www.imdb.com/india/top-rated-indian-movies/')"
   ]
  },
  {
   "cell_type": "code",
   "execution_count": 61,
   "id": "365bf0e9",
   "metadata": {},
   "outputs": [
    {
     "data": {
      "text/html": [
       "<div>\n",
       "<style scoped>\n",
       "    .dataframe tbody tr th:only-of-type {\n",
       "        vertical-align: middle;\n",
       "    }\n",
       "\n",
       "    .dataframe tbody tr th {\n",
       "        vertical-align: top;\n",
       "    }\n",
       "\n",
       "    .dataframe thead th {\n",
       "        text-align: right;\n",
       "    }\n",
       "</style>\n",
       "<table border=\"1\" class=\"dataframe\">\n",
       "  <thead>\n",
       "    <tr style=\"text-align: right;\">\n",
       "      <th></th>\n",
       "      <th>Movie Names</th>\n",
       "      <th>Ratings</th>\n",
       "    </tr>\n",
       "  </thead>\n",
       "  <tbody>\n",
       "    <tr>\n",
       "      <th>0</th>\n",
       "      <td>1.      Jai Bhim(2021)</td>\n",
       "      <td>8.4</td>\n",
       "    </tr>\n",
       "    <tr>\n",
       "      <th>1</th>\n",
       "      <td>2.      Anbe Sivam(2003)</td>\n",
       "      <td>8.4</td>\n",
       "    </tr>\n",
       "    <tr>\n",
       "      <th>2</th>\n",
       "      <td>3.      Golmaal(1979)</td>\n",
       "      <td>8.4</td>\n",
       "    </tr>\n",
       "    <tr>\n",
       "      <th>3</th>\n",
       "      <td>4.      Nayakan(1987)</td>\n",
       "      <td>8.4</td>\n",
       "    </tr>\n",
       "    <tr>\n",
       "      <th>4</th>\n",
       "      <td>5.      Pariyerum Perumal(2018)</td>\n",
       "      <td>8.4</td>\n",
       "    </tr>\n",
       "    <tr>\n",
       "      <th>...</th>\n",
       "      <td>...</td>\n",
       "      <td>...</td>\n",
       "    </tr>\n",
       "    <tr>\n",
       "      <th>95</th>\n",
       "      <td>96.      Masaan(2015)</td>\n",
       "      <td>8.0</td>\n",
       "    </tr>\n",
       "    <tr>\n",
       "      <th>96</th>\n",
       "      <td>97.      Kahaani(2012)</td>\n",
       "      <td>8.0</td>\n",
       "    </tr>\n",
       "    <tr>\n",
       "      <th>97</th>\n",
       "      <td>98.      Baahubali 2: The Conclusion(2017)</td>\n",
       "      <td>8.0</td>\n",
       "    </tr>\n",
       "    <tr>\n",
       "      <th>98</th>\n",
       "      <td>99.      Dil Chahta Hai(2001)</td>\n",
       "      <td>8.0</td>\n",
       "    </tr>\n",
       "    <tr>\n",
       "      <th>99</th>\n",
       "      <td>100.      Maheshinte Prathikaaram(2016)</td>\n",
       "      <td>8.0</td>\n",
       "    </tr>\n",
       "  </tbody>\n",
       "</table>\n",
       "<p>100 rows × 2 columns</p>\n",
       "</div>"
      ],
      "text/plain": [
       "                                   Movie Names Ratings\n",
       "0                       1.      Jai Bhim(2021)     8.4\n",
       "1                     2.      Anbe Sivam(2003)     8.4\n",
       "2                        3.      Golmaal(1979)     8.4\n",
       "3                        4.      Nayakan(1987)     8.4\n",
       "4              5.      Pariyerum Perumal(2018)     8.4\n",
       "..                                         ...     ...\n",
       "95                       96.      Masaan(2015)     8.0\n",
       "96                      97.      Kahaani(2012)     8.0\n",
       "97  98.      Baahubali 2: The Conclusion(2017)     8.0\n",
       "98               99.      Dil Chahta Hai(2001)     8.0\n",
       "99     100.      Maheshinte Prathikaaram(2016)     8.0\n",
       "\n",
       "[100 rows x 2 columns]"
      ]
     },
     "execution_count": 61,
     "metadata": {},
     "output_type": "execute_result"
    }
   ],
   "source": [
    "ind_soup = BeautifulSoup(page.content)\n",
    "ind_movietitle = ind_soup.find_all('td', class_=\"titleColumn\")\n",
    "ind_movietitle\n",
    "\n",
    "ind_movies = []\n",
    "\n",
    "for ind_movie in ind_movietitle:\n",
    "    ind_movie = ind_movie.get_text().replace('\\n', \"\")\n",
    "    ind_movie = ind_movie.strip(\" \")\n",
    "    ind_movies.append(ind_movie)\n",
    "ind_movies[:100]\n",
    "    \n",
    "ind_scraped_ratings = ind_soup.find_all('td', class_='ratingColumn imdbRating')\n",
    "ind_ratings = []\n",
    "for ind_rating in ind_scraped_ratings:\n",
    "    ind_rating = ind_rating.get_text().replace('\\n', '')\n",
    "    ind_ratings.append(ind_rating)\n",
    "ind_ratings\n",
    "\n",
    "import pandas as pd\n",
    "ind_data = pd.DataFrame()\n",
    "ind_data['Movie Names'] = ind_movies[:100]\n",
    "ind_data['Ratings'] = ind_ratings[:100]\n",
    "ind_data"
   ]
  },
  {
   "cell_type": "markdown",
   "id": "8214d762",
   "metadata": {},
   "source": [
    "# Question-4"
   ]
  },
  {
   "cell_type": "code",
   "execution_count": 62,
   "id": "e82037fc",
   "metadata": {},
   "outputs": [],
   "source": [
    "page = requests.get('https://presidentofindia.nic.in/former-presidents.htm')"
   ]
  },
  {
   "cell_type": "code",
   "execution_count": 63,
   "id": "38fa8ca6",
   "metadata": {},
   "outputs": [
    {
     "data": {
      "text/plain": [
       "['Shri Pranab Mukherjee (1935-2020)',\n",
       " 'Smt Pratibha Devisingh Patil (birth - 1934)',\n",
       " 'DR. A.P.J. Abdul Kalam (1931-2015)',\n",
       " 'Shri K. R. Narayanan (1920 - 2005)',\n",
       " 'Dr Shankar Dayal Sharma (1918-1999)',\n",
       " 'Shri R Venkataraman (1910-2009)',\n",
       " 'Giani Zail Singh (1916-1994)',\n",
       " 'Shri Neelam Sanjiva Reddy (1913-1996)',\n",
       " 'Dr. Fakhruddin Ali Ahmed (1905-1977)',\n",
       " 'Shri Varahagiri Venkata Giri (1894-1980)',\n",
       " 'Dr. Zakir Husain (1897-1969)',\n",
       " 'Dr. Sarvepalli Radhakrishnan (1888-1975)',\n",
       " 'Dr. Rajendra Prasad (1884-1963)']"
      ]
     },
     "execution_count": 63,
     "metadata": {},
     "output_type": "execute_result"
    }
   ],
   "source": [
    "president_soup = BeautifulSoup(page.content) \n",
    "tag = [\"h3\"]\n",
    "presidentname = []\n",
    "for tags in president_soup.find_all(tag):\n",
    "    tags = tags.get_text().strip()\n",
    "    presidentname.append(tags)\n",
    "presidentname"
   ]
  },
  {
   "cell_type": "code",
   "execution_count": 64,
   "id": "4e7236cb",
   "metadata": {},
   "outputs": [
    {
     "data": {
      "text/plain": [
       "['25 July, 2012 to 25 July, 2017',\n",
       " '25 July, 2007 to 25 July, 2012',\n",
       " '25 July, 2002 to 25 July, 2007',\n",
       " '25 July, 1997 to 25 July, 2002',\n",
       " '25 July, 1992 to 25 July, 1997',\n",
       " '25 July, 1987 to 25 July, 1992',\n",
       " '25 July, 1982 to 25 July, 1987',\n",
       " '25 July, 1977 to 25 July, 1982',\n",
       " '24 August, 1974 to 11 February, 1977',\n",
       " '3 May, 1969 to 20 July, 1969 and 24 August, 1969 to 24 August, 1974',\n",
       " '13 May, 1967 to 3 May, 1969',\n",
       " '13 May, 1962 to 13 May, 1967',\n",
       " '26 January, 1950 to 13 May, 1962']"
      ]
     },
     "execution_count": 64,
     "metadata": {},
     "output_type": "execute_result"
    }
   ],
   "source": [
    "tag2 = [\"p\"]\n",
    "term = []\n",
    "for tag1 in president_soup.find_all(tag2):\n",
    "    tag1 = tag1.get_text().strip()\n",
    "    tag1 = tag1.replace('Term of Office: ', \"\")\n",
    "    term.append(tag1)\n",
    "term.remove(\"http://pranabmukherjee.nic.in\")\n",
    "term.remove(\"http://pratibhapatil.nic.in\")\n",
    "term.remove(\"http://abdulkalam.nic.in\")\n",
    "term[:13]"
   ]
  },
  {
   "cell_type": "code",
   "execution_count": 66,
   "id": "fda8fe5e",
   "metadata": {},
   "outputs": [
    {
     "data": {
      "text/html": [
       "<div>\n",
       "<style scoped>\n",
       "    .dataframe tbody tr th:only-of-type {\n",
       "        vertical-align: middle;\n",
       "    }\n",
       "\n",
       "    .dataframe tbody tr th {\n",
       "        vertical-align: top;\n",
       "    }\n",
       "\n",
       "    .dataframe thead th {\n",
       "        text-align: right;\n",
       "    }\n",
       "</style>\n",
       "<table border=\"1\" class=\"dataframe\">\n",
       "  <thead>\n",
       "    <tr style=\"text-align: right;\">\n",
       "      <th></th>\n",
       "      <th>President Name</th>\n",
       "      <th>Term of Office</th>\n",
       "    </tr>\n",
       "  </thead>\n",
       "  <tbody>\n",
       "    <tr>\n",
       "      <th>0</th>\n",
       "      <td>Shri Pranab Mukherjee (1935-2020)</td>\n",
       "      <td>25 July, 2012 to 25 July, 2017</td>\n",
       "    </tr>\n",
       "    <tr>\n",
       "      <th>1</th>\n",
       "      <td>Smt Pratibha Devisingh Patil (birth - 1934)</td>\n",
       "      <td>25 July, 2007 to 25 July, 2012</td>\n",
       "    </tr>\n",
       "    <tr>\n",
       "      <th>2</th>\n",
       "      <td>DR. A.P.J. Abdul Kalam (1931-2015)</td>\n",
       "      <td>25 July, 2002 to 25 July, 2007</td>\n",
       "    </tr>\n",
       "    <tr>\n",
       "      <th>3</th>\n",
       "      <td>Shri K. R. Narayanan (1920 - 2005)</td>\n",
       "      <td>25 July, 1997 to 25 July, 2002</td>\n",
       "    </tr>\n",
       "    <tr>\n",
       "      <th>4</th>\n",
       "      <td>Dr Shankar Dayal Sharma (1918-1999)</td>\n",
       "      <td>25 July, 1992 to 25 July, 1997</td>\n",
       "    </tr>\n",
       "    <tr>\n",
       "      <th>5</th>\n",
       "      <td>Shri R Venkataraman (1910-2009)</td>\n",
       "      <td>25 July, 1987 to 25 July, 1992</td>\n",
       "    </tr>\n",
       "    <tr>\n",
       "      <th>6</th>\n",
       "      <td>Giani Zail Singh (1916-1994)</td>\n",
       "      <td>25 July, 1982 to 25 July, 1987</td>\n",
       "    </tr>\n",
       "    <tr>\n",
       "      <th>7</th>\n",
       "      <td>Shri Neelam Sanjiva Reddy (1913-1996)</td>\n",
       "      <td>25 July, 1977 to 25 July, 1982</td>\n",
       "    </tr>\n",
       "    <tr>\n",
       "      <th>8</th>\n",
       "      <td>Dr. Fakhruddin Ali Ahmed (1905-1977)</td>\n",
       "      <td>24 August, 1974 to 11 February, 1977</td>\n",
       "    </tr>\n",
       "    <tr>\n",
       "      <th>9</th>\n",
       "      <td>Shri Varahagiri Venkata Giri (1894-1980)</td>\n",
       "      <td>3 May, 1969 to 20 July, 1969 and 24 August, 19...</td>\n",
       "    </tr>\n",
       "    <tr>\n",
       "      <th>10</th>\n",
       "      <td>Dr. Zakir Husain (1897-1969)</td>\n",
       "      <td>13 May, 1967 to 3 May, 1969</td>\n",
       "    </tr>\n",
       "    <tr>\n",
       "      <th>11</th>\n",
       "      <td>Dr. Sarvepalli Radhakrishnan (1888-1975)</td>\n",
       "      <td>13 May, 1962 to 13 May, 1967</td>\n",
       "    </tr>\n",
       "    <tr>\n",
       "      <th>12</th>\n",
       "      <td>Dr. Rajendra Prasad (1884-1963)</td>\n",
       "      <td>26 January, 1950 to 13 May, 1962</td>\n",
       "    </tr>\n",
       "  </tbody>\n",
       "</table>\n",
       "</div>"
      ],
      "text/plain": [
       "                                 President Name  \\\n",
       "0             Shri Pranab Mukherjee (1935-2020)   \n",
       "1   Smt Pratibha Devisingh Patil (birth - 1934)   \n",
       "2            DR. A.P.J. Abdul Kalam (1931-2015)   \n",
       "3            Shri K. R. Narayanan (1920 - 2005)   \n",
       "4           Dr Shankar Dayal Sharma (1918-1999)   \n",
       "5               Shri R Venkataraman (1910-2009)   \n",
       "6                  Giani Zail Singh (1916-1994)   \n",
       "7         Shri Neelam Sanjiva Reddy (1913-1996)   \n",
       "8          Dr. Fakhruddin Ali Ahmed (1905-1977)   \n",
       "9      Shri Varahagiri Venkata Giri (1894-1980)   \n",
       "10                 Dr. Zakir Husain (1897-1969)   \n",
       "11     Dr. Sarvepalli Radhakrishnan (1888-1975)   \n",
       "12              Dr. Rajendra Prasad (1884-1963)   \n",
       "\n",
       "                                       Term of Office  \n",
       "0                      25 July, 2012 to 25 July, 2017  \n",
       "1                      25 July, 2007 to 25 July, 2012  \n",
       "2                      25 July, 2002 to 25 July, 2007  \n",
       "3                      25 July, 1997 to 25 July, 2002  \n",
       "4                      25 July, 1992 to 25 July, 1997  \n",
       "5                      25 July, 1987 to 25 July, 1992  \n",
       "6                      25 July, 1982 to 25 July, 1987  \n",
       "7                      25 July, 1977 to 25 July, 1982  \n",
       "8                24 August, 1974 to 11 February, 1977  \n",
       "9   3 May, 1969 to 20 July, 1969 and 24 August, 19...  \n",
       "10                        13 May, 1967 to 3 May, 1969  \n",
       "11                       13 May, 1962 to 13 May, 1967  \n",
       "12                   26 January, 1950 to 13 May, 1962  "
      ]
     },
     "execution_count": 66,
     "metadata": {},
     "output_type": "execute_result"
    }
   ],
   "source": [
    "import pandas as pd\n",
    "presidentlist = pd.DataFrame()\n",
    "presidentlist['President Name'] = presidentname\n",
    "presidentlist['Term of Office'] = term[:13]\n",
    "presidentlist"
   ]
  },
  {
   "cell_type": "markdown",
   "id": "d5895224",
   "metadata": {},
   "source": [
    "# Question-5 (a)"
   ]
  },
  {
   "cell_type": "code",
   "execution_count": 166,
   "id": "ad2317e8",
   "metadata": {},
   "outputs": [],
   "source": [
    "import  requests\n",
    "from  bs4 import BeautifulSoup"
   ]
  },
  {
   "cell_type": "code",
   "execution_count": 167,
   "id": "0feb4206",
   "metadata": {},
   "outputs": [],
   "source": [
    "url = \"https://www.icc-cricket.com/rankings/mens/team-rankings/odi\""
   ]
  },
  {
   "cell_type": "code",
   "execution_count": 168,
   "id": "1807a842",
   "metadata": {},
   "outputs": [],
   "source": [
    "def Top_Mens_Teams(url):\n",
    "    page = requests.get(url)"
   ]
  },
  {
   "cell_type": "code",
   "execution_count": 169,
   "id": "11e525ed",
   "metadata": {},
   "outputs": [],
   "source": [
    "page = requests.get(url)"
   ]
  },
  {
   "cell_type": "code",
   "execution_count": 170,
   "id": "a60eb71c",
   "metadata": {},
   "outputs": [],
   "source": [
    "soup = BeautifulSoup(page.text,\"html.parser\")"
   ]
  },
  {
   "cell_type": "code",
   "execution_count": 171,
   "id": "4b8816c3",
   "metadata": {
    "scrolled": true
   },
   "outputs": [],
   "source": [
    "table = soup.find(\"tbody\")"
   ]
  },
  {
   "cell_type": "code",
   "execution_count": 172,
   "id": "c3746acc",
   "metadata": {},
   "outputs": [],
   "source": [
    "team_name = table.find_all(\"span\",class_=\"u-hide-phablet\")[0:10]"
   ]
  },
  {
   "cell_type": "code",
   "execution_count": 173,
   "id": "c709f155",
   "metadata": {},
   "outputs": [],
   "source": [
    "teams = []\n",
    "for i in team_name:\n",
    "    teams.append(i.text)"
   ]
  },
  {
   "cell_type": "code",
   "execution_count": 174,
   "id": "09bdf2d9",
   "metadata": {},
   "outputs": [],
   "source": [
    "match =  table.find_all(\"td\",class_=\"table-body__cell u-center-text\")"
   ]
  },
  {
   "cell_type": "code",
   "execution_count": 175,
   "id": "31216394",
   "metadata": {},
   "outputs": [],
   "source": [
    "f_match = table.find(\"td\",class_=\"rankings-block__banner--matches\").text"
   ]
  },
  {
   "cell_type": "code",
   "execution_count": 176,
   "id": "25cf9461",
   "metadata": {},
   "outputs": [],
   "source": [
    "f_match = table.find(\"td\",class_=\"rankings-block__banner--matches\").text"
   ]
  },
  {
   "cell_type": "code",
   "execution_count": 177,
   "id": "6bbeaaf2",
   "metadata": {},
   "outputs": [],
   "source": [
    "matches = ['f_match','f_points']\n",
    "for i in match:\n",
    "    matches.append(i.text)"
   ]
  },
  {
   "cell_type": "code",
   "execution_count": 178,
   "id": "ddd4ebe7",
   "metadata": {},
   "outputs": [],
   "source": [
    "m_records = matches[0:20:2]"
   ]
  },
  {
   "cell_type": "code",
   "execution_count": 179,
   "id": "724c35a0",
   "metadata": {},
   "outputs": [],
   "source": [
    "m_points = matches[1:20:2]"
   ]
  },
  {
   "cell_type": "code",
   "execution_count": 180,
   "id": "b6a9fd50",
   "metadata": {},
   "outputs": [],
   "source": [
    "f_rating = table.find(\"td\",class_=\"rankings-block__banner--rating u-text-right\").text.replace('\\n','').strip()"
   ]
  },
  {
   "cell_type": "code",
   "execution_count": 181,
   "id": "7052650b",
   "metadata": {},
   "outputs": [],
   "source": [
    "ratings = table.find_all(\"td\",class_=\"table-body__cell u-text-right rating\")[0:9]"
   ]
  },
  {
   "cell_type": "code",
   "execution_count": 182,
   "id": "affb83e9",
   "metadata": {},
   "outputs": [],
   "source": [
    "team_rating = [f_rating]\n",
    "for i in ratings:\n",
    "    team_rating.append(i.text)"
   ]
  },
  {
   "cell_type": "code",
   "execution_count": 183,
   "id": "9ca33ffd",
   "metadata": {
    "scrolled": true
   },
   "outputs": [
    {
     "data": {
      "text/html": [
       "<div>\n",
       "<style scoped>\n",
       "    .dataframe tbody tr th:only-of-type {\n",
       "        vertical-align: middle;\n",
       "    }\n",
       "\n",
       "    .dataframe tbody tr th {\n",
       "        vertical-align: top;\n",
       "    }\n",
       "\n",
       "    .dataframe thead th {\n",
       "        text-align: right;\n",
       "    }\n",
       "</style>\n",
       "<table border=\"1\" class=\"dataframe\">\n",
       "  <thead>\n",
       "    <tr style=\"text-align: right;\">\n",
       "      <th></th>\n",
       "      <th>Team Name</th>\n",
       "      <th>Matches</th>\n",
       "      <th>Points</th>\n",
       "      <th>Ratings</th>\n",
       "    </tr>\n",
       "  </thead>\n",
       "  <tbody>\n",
       "    <tr>\n",
       "      <th>0</th>\n",
       "      <td>New Zealand</td>\n",
       "      <td>f_match</td>\n",
       "      <td>f_points</td>\n",
       "      <td>125</td>\n",
       "    </tr>\n",
       "    <tr>\n",
       "      <th>1</th>\n",
       "      <td>England</td>\n",
       "      <td>22</td>\n",
       "      <td>2,756</td>\n",
       "      <td>125</td>\n",
       "    </tr>\n",
       "    <tr>\n",
       "      <th>2</th>\n",
       "      <td>Pakistan</td>\n",
       "      <td>19</td>\n",
       "      <td>2,005</td>\n",
       "      <td>106</td>\n",
       "    </tr>\n",
       "    <tr>\n",
       "      <th>3</th>\n",
       "      <td>India</td>\n",
       "      <td>22</td>\n",
       "      <td>2,304</td>\n",
       "      <td>105</td>\n",
       "    </tr>\n",
       "    <tr>\n",
       "      <th>4</th>\n",
       "      <td>Australia</td>\n",
       "      <td>23</td>\n",
       "      <td>2,325</td>\n",
       "      <td>101</td>\n",
       "    </tr>\n",
       "    <tr>\n",
       "      <th>5</th>\n",
       "      <td>South Africa</td>\n",
       "      <td>19</td>\n",
       "      <td>1,872</td>\n",
       "      <td>99</td>\n",
       "    </tr>\n",
       "    <tr>\n",
       "      <th>6</th>\n",
       "      <td>Bangladesh</td>\n",
       "      <td>24</td>\n",
       "      <td>2,275</td>\n",
       "      <td>95</td>\n",
       "    </tr>\n",
       "    <tr>\n",
       "      <th>7</th>\n",
       "      <td>Sri Lanka</td>\n",
       "      <td>29</td>\n",
       "      <td>2,658</td>\n",
       "      <td>92</td>\n",
       "    </tr>\n",
       "    <tr>\n",
       "      <th>8</th>\n",
       "      <td>West Indies</td>\n",
       "      <td>32</td>\n",
       "      <td>2,306</td>\n",
       "      <td>72</td>\n",
       "    </tr>\n",
       "    <tr>\n",
       "      <th>9</th>\n",
       "      <td>Afghanistan</td>\n",
       "      <td>18</td>\n",
       "      <td>1,238</td>\n",
       "      <td>69</td>\n",
       "    </tr>\n",
       "  </tbody>\n",
       "</table>\n",
       "</div>"
      ],
      "text/plain": [
       "      Team Name  Matches    Points Ratings\n",
       "0   New Zealand  f_match  f_points     125\n",
       "1       England       22     2,756     125\n",
       "2      Pakistan       19     2,005     106\n",
       "3         India       22     2,304     105\n",
       "4     Australia       23     2,325     101\n",
       "5  South Africa       19     1,872      99\n",
       "6    Bangladesh       24     2,275      95\n",
       "7     Sri Lanka       29     2,658      92\n",
       "8   West Indies       32     2,306      72\n",
       "9   Afghanistan       18     1,238      69"
      ]
     },
     "execution_count": 183,
     "metadata": {},
     "output_type": "execute_result"
    }
   ],
   "source": [
    "data = list(zip(teams,m_records,m_points,team_rating))\n",
    "import pandas as pd\n",
    "df = pd.DataFrame(data, columns = [\"Team Name\",\"Matches\",\"Points\",\"Ratings\"])\n",
    "df"
   ]
  },
  {
   "cell_type": "markdown",
   "id": "ce1e9014",
   "metadata": {},
   "source": [
    "# Question-5(b)"
   ]
  },
  {
   "cell_type": "code",
   "execution_count": 105,
   "id": "11ce6fb0",
   "metadata": {},
   "outputs": [],
   "source": [
    "url = \"https://www.icc-cricket.com/rankings/mens/player-rankings/odi/batting\""
   ]
  },
  {
   "cell_type": "code",
   "execution_count": 106,
   "id": "523f6649",
   "metadata": {},
   "outputs": [],
   "source": [
    "page = requests.get(url)"
   ]
  },
  {
   "cell_type": "code",
   "execution_count": 109,
   "id": "2fc2d90c",
   "metadata": {},
   "outputs": [],
   "source": [
    "soup = BeautifulSoup(page.text,\"html.parser\")"
   ]
  },
  {
   "cell_type": "code",
   "execution_count": 110,
   "id": "fc49bd5a",
   "metadata": {},
   "outputs": [],
   "source": [
    "table = soup.find(\"table\",class_=\"table rankings-table\")"
   ]
  },
  {
   "cell_type": "code",
   "execution_count": 147,
   "id": "38eeaa6f",
   "metadata": {},
   "outputs": [],
   "source": [
    "first_player = table.find(\"div\",class_=\"rankings-block__banner--name-large\").text\n",
    "first_team = table.find(\"div\",class_=\"rankings-block__banner--nationality\").text.replace('\\n','')\n",
    "first_rating = table.find(\"div\",class_=\"rankings-block__banner--rating\").text"
   ]
  },
  {
   "cell_type": "code",
   "execution_count": 148,
   "id": "4428c9db",
   "metadata": {},
   "outputs": [],
   "source": [
    "players = table.find_all(\"td\",class_=\"table-body__cell rankings-table__name name\")[0:9]"
   ]
  },
  {
   "cell_type": "code",
   "execution_count": 149,
   "id": "3c5c5a8e",
   "metadata": {},
   "outputs": [],
   "source": [
    "player = [first_player]\n",
    "for i in players:\n",
    "    player.append(i.text.replace('\\n',''))"
   ]
  },
  {
   "cell_type": "code",
   "execution_count": 150,
   "id": "20de788b",
   "metadata": {},
   "outputs": [],
   "source": [
    "teams= table.find_all(\"span\",class_=\"table-body__logo-text\")[0:9]"
   ]
  },
  {
   "cell_type": "code",
   "execution_count": 151,
   "id": "21de2123",
   "metadata": {},
   "outputs": [],
   "source": [
    "team = [first_team]\n",
    "for i in teams:\n",
    "    team.append(i.text)"
   ]
  },
  {
   "cell_type": "code",
   "execution_count": 152,
   "id": "cc86447e",
   "metadata": {},
   "outputs": [],
   "source": [
    "ratings = table.find_all(\"td\",class_=\"table-body__cell rating\")[0:9]"
   ]
  },
  {
   "cell_type": "code",
   "execution_count": 153,
   "id": "ce7d33ec",
   "metadata": {},
   "outputs": [],
   "source": [
    "rating = [first_rating]\n",
    "for i in ratings:\n",
    "    rating.append(i.text)"
   ]
  },
  {
   "cell_type": "code",
   "execution_count": 154,
   "id": "d26daac7",
   "metadata": {
    "scrolled": true
   },
   "outputs": [
    {
     "data": {
      "text/html": [
       "<div>\n",
       "<style scoped>\n",
       "    .dataframe tbody tr th:only-of-type {\n",
       "        vertical-align: middle;\n",
       "    }\n",
       "\n",
       "    .dataframe tbody tr th {\n",
       "        vertical-align: top;\n",
       "    }\n",
       "\n",
       "    .dataframe thead th {\n",
       "        text-align: right;\n",
       "    }\n",
       "</style>\n",
       "<table border=\"1\" class=\"dataframe\">\n",
       "  <thead>\n",
       "    <tr style=\"text-align: right;\">\n",
       "      <th></th>\n",
       "      <th>Player Name</th>\n",
       "      <th>Team</th>\n",
       "      <th>Rating</th>\n",
       "    </tr>\n",
       "  </thead>\n",
       "  <tbody>\n",
       "    <tr>\n",
       "      <th>0</th>\n",
       "      <td>Babar Azam</td>\n",
       "      <td>PAK</td>\n",
       "      <td>892</td>\n",
       "    </tr>\n",
       "    <tr>\n",
       "      <th>1</th>\n",
       "      <td>Imam-ul-Haq</td>\n",
       "      <td>PAK</td>\n",
       "      <td>815</td>\n",
       "    </tr>\n",
       "    <tr>\n",
       "      <th>2</th>\n",
       "      <td>Virat Kohli</td>\n",
       "      <td>IND</td>\n",
       "      <td>811</td>\n",
       "    </tr>\n",
       "    <tr>\n",
       "      <th>3</th>\n",
       "      <td>Rohit Sharma</td>\n",
       "      <td>IND</td>\n",
       "      <td>791</td>\n",
       "    </tr>\n",
       "    <tr>\n",
       "      <th>4</th>\n",
       "      <td>Quinton de Kock</td>\n",
       "      <td>SA</td>\n",
       "      <td>789</td>\n",
       "    </tr>\n",
       "    <tr>\n",
       "      <th>5</th>\n",
       "      <td>Ross Taylor</td>\n",
       "      <td>NZ</td>\n",
       "      <td>775</td>\n",
       "    </tr>\n",
       "    <tr>\n",
       "      <th>6</th>\n",
       "      <td>Rassie van der Dussen</td>\n",
       "      <td>SA</td>\n",
       "      <td>769</td>\n",
       "    </tr>\n",
       "    <tr>\n",
       "      <th>7</th>\n",
       "      <td>Jonny Bairstow</td>\n",
       "      <td>ENG</td>\n",
       "      <td>760</td>\n",
       "    </tr>\n",
       "    <tr>\n",
       "      <th>8</th>\n",
       "      <td>David Warner</td>\n",
       "      <td>AUS</td>\n",
       "      <td>745</td>\n",
       "    </tr>\n",
       "    <tr>\n",
       "      <th>9</th>\n",
       "      <td>Aaron Finch</td>\n",
       "      <td>AUS</td>\n",
       "      <td>727</td>\n",
       "    </tr>\n",
       "  </tbody>\n",
       "</table>\n",
       "</div>"
      ],
      "text/plain": [
       "             Player Name Team Rating\n",
       "0             Babar Azam  PAK    892\n",
       "1            Imam-ul-Haq  PAK    815\n",
       "2            Virat Kohli  IND    811\n",
       "3           Rohit Sharma  IND    791\n",
       "4        Quinton de Kock   SA    789\n",
       "5            Ross Taylor   NZ    775\n",
       "6  Rassie van der Dussen   SA    769\n",
       "7         Jonny Bairstow  ENG    760\n",
       "8           David Warner  AUS    745\n",
       "9            Aaron Finch  AUS    727"
      ]
     },
     "execution_count": 154,
     "metadata": {},
     "output_type": "execute_result"
    }
   ],
   "source": [
    "data = list(zip(player,team,rating))\n",
    "import pandas as pd\n",
    "df = pd.DataFrame(data, columns = [\"Player Name\",\"Team\",\"Rating\"])\n",
    "df"
   ]
  },
  {
   "cell_type": "markdown",
   "id": "23925c80",
   "metadata": {},
   "source": [
    "# Question-5(c)"
   ]
  },
  {
   "cell_type": "code",
   "execution_count": 125,
   "id": "773bc627",
   "metadata": {},
   "outputs": [],
   "source": [
    "url = \"https://www.icc-cricket.com/rankings/mens/player-rankings/odi/bowling\""
   ]
  },
  {
   "cell_type": "code",
   "execution_count": 126,
   "id": "1fea49db",
   "metadata": {},
   "outputs": [],
   "source": [
    "table = soup.find(\"table\",class_=\"table rankings-table\")"
   ]
  },
  {
   "cell_type": "code",
   "execution_count": 127,
   "id": "f68db50f",
   "metadata": {},
   "outputs": [],
   "source": [
    "f_bowler = table.find(\"div\",class_=\"rankings-block__banner--name-large\").text"
   ]
  },
  {
   "cell_type": "code",
   "execution_count": 140,
   "id": "9feba35e",
   "metadata": {},
   "outputs": [],
   "source": [
    "b_team= table.find(\"div\",class_=\"rankings-block__banner--nationality\").text.replace('\\n','')\n",
    "b_rating = table.find(\"div\",class_=\"rankings-block__banner--rating\").text\n",
    "bowlers = table.find_all(\"td\",class_=\"table-body__cell rankings-table__name name\")[0:9]"
   ]
  },
  {
   "cell_type": "code",
   "execution_count": 141,
   "id": "67373fe0",
   "metadata": {},
   "outputs": [],
   "source": [
    "bowler = [f_bowler]\n",
    "for i in bowlers:\n",
    "    bowler.append(i.text.replace('\\n',''))"
   ]
  },
  {
   "cell_type": "code",
   "execution_count": 142,
   "id": "13906642",
   "metadata": {},
   "outputs": [],
   "source": [
    "teams = table.find_all(\"span\",class_=\"table-body__logo-text\")[0:9]"
   ]
  },
  {
   "cell_type": "code",
   "execution_count": 143,
   "id": "71a825b6",
   "metadata": {},
   "outputs": [],
   "source": [
    "ratings = table.find_all(\"td\",class_=\"table-body__cell rating\")[0:9]"
   ]
  },
  {
   "cell_type": "code",
   "execution_count": 144,
   "id": "b826db86",
   "metadata": {},
   "outputs": [],
   "source": [
    "rating = [b_rating]\n",
    "for i in ratings:\n",
    "    rating.append(i.text)"
   ]
  },
  {
   "cell_type": "code",
   "execution_count": 145,
   "id": "8c22aa22",
   "metadata": {},
   "outputs": [
    {
     "data": {
      "text/html": [
       "<div>\n",
       "<style scoped>\n",
       "    .dataframe tbody tr th:only-of-type {\n",
       "        vertical-align: middle;\n",
       "    }\n",
       "\n",
       "    .dataframe tbody tr th {\n",
       "        vertical-align: top;\n",
       "    }\n",
       "\n",
       "    .dataframe thead th {\n",
       "        text-align: right;\n",
       "    }\n",
       "</style>\n",
       "<table border=\"1\" class=\"dataframe\">\n",
       "  <thead>\n",
       "    <tr style=\"text-align: right;\">\n",
       "      <th></th>\n",
       "      <th>Bowler Name</th>\n",
       "      <th>Ratings</th>\n",
       "    </tr>\n",
       "  </thead>\n",
       "  <tbody>\n",
       "    <tr>\n",
       "      <th>0</th>\n",
       "      <td>Babar Azam</td>\n",
       "      <td>892</td>\n",
       "    </tr>\n",
       "    <tr>\n",
       "      <th>1</th>\n",
       "      <td>Imam-ul-Haq</td>\n",
       "      <td>815</td>\n",
       "    </tr>\n",
       "    <tr>\n",
       "      <th>2</th>\n",
       "      <td>Virat Kohli</td>\n",
       "      <td>811</td>\n",
       "    </tr>\n",
       "    <tr>\n",
       "      <th>3</th>\n",
       "      <td>Rohit Sharma</td>\n",
       "      <td>791</td>\n",
       "    </tr>\n",
       "    <tr>\n",
       "      <th>4</th>\n",
       "      <td>Quinton de Kock</td>\n",
       "      <td>789</td>\n",
       "    </tr>\n",
       "    <tr>\n",
       "      <th>5</th>\n",
       "      <td>Ross Taylor</td>\n",
       "      <td>775</td>\n",
       "    </tr>\n",
       "    <tr>\n",
       "      <th>6</th>\n",
       "      <td>Rassie van der Dussen</td>\n",
       "      <td>769</td>\n",
       "    </tr>\n",
       "    <tr>\n",
       "      <th>7</th>\n",
       "      <td>Jonny Bairstow</td>\n",
       "      <td>760</td>\n",
       "    </tr>\n",
       "    <tr>\n",
       "      <th>8</th>\n",
       "      <td>David Warner</td>\n",
       "      <td>745</td>\n",
       "    </tr>\n",
       "    <tr>\n",
       "      <th>9</th>\n",
       "      <td>Aaron Finch</td>\n",
       "      <td>727</td>\n",
       "    </tr>\n",
       "  </tbody>\n",
       "</table>\n",
       "</div>"
      ],
      "text/plain": [
       "             Bowler Name Ratings\n",
       "0             Babar Azam     892\n",
       "1            Imam-ul-Haq     815\n",
       "2            Virat Kohli     811\n",
       "3           Rohit Sharma     791\n",
       "4        Quinton de Kock     789\n",
       "5            Ross Taylor     775\n",
       "6  Rassie van der Dussen     769\n",
       "7         Jonny Bairstow     760\n",
       "8           David Warner     745\n",
       "9            Aaron Finch     727"
      ]
     },
     "execution_count": 145,
     "metadata": {},
     "output_type": "execute_result"
    }
   ],
   "source": [
    "data = list(zip(bowler,rating))\n",
    "import pandas as pd\n",
    "df = pd.DataFrame(data, columns = [\"Bowler Name\",\"Ratings\"])\n",
    "df"
   ]
  },
  {
   "cell_type": "markdown",
   "id": "1330a89f",
   "metadata": {},
   "source": [
    "# Question-6(a)"
   ]
  },
  {
   "cell_type": "code",
   "execution_count": 184,
   "id": "afc434bc",
   "metadata": {},
   "outputs": [],
   "source": [
    "url = \"https://www.icc-cricket.com/rankings/womens/team-rankings/odi\""
   ]
  },
  {
   "cell_type": "code",
   "execution_count": 185,
   "id": "3e0ad307",
   "metadata": {},
   "outputs": [],
   "source": [
    "def Top_Womens_Team(url):\n",
    "    page = requests.get(url)"
   ]
  },
  {
   "cell_type": "code",
   "execution_count": 187,
   "id": "73c911fb",
   "metadata": {},
   "outputs": [],
   "source": [
    "table = soup.find(\"table\",class_=\"table rankings-table\")\n",
    "table = soup.find(\"tbody\")\n",
    "team_name = table.find_all(\"span\",class_=\"u-hide-phablet\")[0:10]"
   ]
  },
  {
   "cell_type": "code",
   "execution_count": 188,
   "id": "2f8ab4f6",
   "metadata": {},
   "outputs": [],
   "source": [
    "teams = []\n",
    "for i in team_name:\n",
    "    teams.append(i.text)"
   ]
  },
  {
   "cell_type": "code",
   "execution_count": 189,
   "id": "f4428f0c",
   "metadata": {},
   "outputs": [],
   "source": [
    "match = table.find(\"td\",class_=\"rankings-block__banner--matches\").text\n",
    "point = table.find(\"td\",class_=\"rankings-block__banner--points\").text\n",
    "matches = table.find_all(\"td\",class_=\"table-body__cell u-center-text\")"
   ]
  },
  {
   "cell_type": "code",
   "execution_count": 190,
   "id": "518f918e",
   "metadata": {},
   "outputs": [],
   "source": [
    "matches_ = [match,point]\n",
    "for i in matches:\n",
    "    matches_.append(i.text)\n",
    "    "
   ]
  },
  {
   "cell_type": "code",
   "execution_count": 191,
   "id": "11d2f7f4",
   "metadata": {},
   "outputs": [],
   "source": [
    "m_record = matches_[0:20:2]\n",
    "m_points = matches_[1:20:2]\n",
    "f_rating = table.find(\"td\",class_=\"rankings-block__banner--rating u-text-right\").text.replace('\\n','')\n",
    "ratings = table.find_all(\"td\",class_=\"table-body__cell u-text-right rating\")\n",
    "rating = [f_rating]\n",
    "for i in ratings:\n",
    "    rating.append(i.text)"
   ]
  },
  {
   "cell_type": "code",
   "execution_count": 192,
   "id": "86ec5128",
   "metadata": {},
   "outputs": [
    {
     "data": {
      "text/html": [
       "<div>\n",
       "<style scoped>\n",
       "    .dataframe tbody tr th:only-of-type {\n",
       "        vertical-align: middle;\n",
       "    }\n",
       "\n",
       "    .dataframe tbody tr th {\n",
       "        vertical-align: top;\n",
       "    }\n",
       "\n",
       "    .dataframe thead th {\n",
       "        text-align: right;\n",
       "    }\n",
       "</style>\n",
       "<table border=\"1\" class=\"dataframe\">\n",
       "  <thead>\n",
       "    <tr style=\"text-align: right;\">\n",
       "      <th></th>\n",
       "      <th>Team Name</th>\n",
       "      <th>Matches</th>\n",
       "      <th>Points</th>\n",
       "      <th>Ratings</th>\n",
       "    </tr>\n",
       "  </thead>\n",
       "  <tbody>\n",
       "    <tr>\n",
       "      <th>0</th>\n",
       "      <td>New Zealand</td>\n",
       "      <td>12</td>\n",
       "      <td>1,505</td>\n",
       "      <td>125               ...</td>\n",
       "    </tr>\n",
       "    <tr>\n",
       "      <th>1</th>\n",
       "      <td>England</td>\n",
       "      <td>22</td>\n",
       "      <td>2,756</td>\n",
       "      <td>125</td>\n",
       "    </tr>\n",
       "    <tr>\n",
       "      <th>2</th>\n",
       "      <td>Pakistan</td>\n",
       "      <td>19</td>\n",
       "      <td>2,005</td>\n",
       "      <td>106</td>\n",
       "    </tr>\n",
       "    <tr>\n",
       "      <th>3</th>\n",
       "      <td>India</td>\n",
       "      <td>22</td>\n",
       "      <td>2,304</td>\n",
       "      <td>105</td>\n",
       "    </tr>\n",
       "    <tr>\n",
       "      <th>4</th>\n",
       "      <td>Australia</td>\n",
       "      <td>23</td>\n",
       "      <td>2,325</td>\n",
       "      <td>101</td>\n",
       "    </tr>\n",
       "    <tr>\n",
       "      <th>5</th>\n",
       "      <td>South Africa</td>\n",
       "      <td>19</td>\n",
       "      <td>1,872</td>\n",
       "      <td>99</td>\n",
       "    </tr>\n",
       "    <tr>\n",
       "      <th>6</th>\n",
       "      <td>Bangladesh</td>\n",
       "      <td>24</td>\n",
       "      <td>2,275</td>\n",
       "      <td>95</td>\n",
       "    </tr>\n",
       "    <tr>\n",
       "      <th>7</th>\n",
       "      <td>Sri Lanka</td>\n",
       "      <td>29</td>\n",
       "      <td>2,658</td>\n",
       "      <td>92</td>\n",
       "    </tr>\n",
       "    <tr>\n",
       "      <th>8</th>\n",
       "      <td>West Indies</td>\n",
       "      <td>32</td>\n",
       "      <td>2,306</td>\n",
       "      <td>72</td>\n",
       "    </tr>\n",
       "    <tr>\n",
       "      <th>9</th>\n",
       "      <td>Afghanistan</td>\n",
       "      <td>18</td>\n",
       "      <td>1,238</td>\n",
       "      <td>69</td>\n",
       "    </tr>\n",
       "  </tbody>\n",
       "</table>\n",
       "</div>"
      ],
      "text/plain": [
       "      Team Name Matches Points  \\\n",
       "0   New Zealand      12  1,505   \n",
       "1       England      22  2,756   \n",
       "2      Pakistan      19  2,005   \n",
       "3         India      22  2,304   \n",
       "4     Australia      23  2,325   \n",
       "5  South Africa      19  1,872   \n",
       "6    Bangladesh      24  2,275   \n",
       "7     Sri Lanka      29  2,658   \n",
       "8   West Indies      32  2,306   \n",
       "9   Afghanistan      18  1,238   \n",
       "\n",
       "                                             Ratings  \n",
       "0                              125               ...  \n",
       "1                                                125  \n",
       "2                                                106  \n",
       "3                                                105  \n",
       "4                                                101  \n",
       "5                                                 99  \n",
       "6                                                 95  \n",
       "7                                                 92  \n",
       "8                                                 72  \n",
       "9                                                 69  "
      ]
     },
     "execution_count": 192,
     "metadata": {},
     "output_type": "execute_result"
    }
   ],
   "source": [
    "data = list(zip(teams,m_record,m_points,rating))\n",
    "df = pd.DataFrame(data,columns = [\"Team Name\",\"Matches\",\"Points\",\"Ratings\"])\n",
    "df"
   ]
  },
  {
   "cell_type": "markdown",
   "id": "24a50e1b",
   "metadata": {},
   "source": [
    "# Question-6(b)"
   ]
  },
  {
   "cell_type": "code",
   "execution_count": 193,
   "id": "02277440",
   "metadata": {},
   "outputs": [],
   "source": [
    "url = \"https://www.icc-cricket.com/rankings/womens/player-rankings/odi/batting\""
   ]
  },
  {
   "cell_type": "code",
   "execution_count": 202,
   "id": "0af36647",
   "metadata": {},
   "outputs": [],
   "source": [
    "page = requests.get(url)"
   ]
  },
  {
   "cell_type": "code",
   "execution_count": 203,
   "id": "c90d652a",
   "metadata": {},
   "outputs": [],
   "source": [
    "soup = BeautifulSoup(page.text,\"html.parser\")"
   ]
  },
  {
   "cell_type": "code",
   "execution_count": 204,
   "id": "c56ff57b",
   "metadata": {},
   "outputs": [],
   "source": [
    "table = soup.find(\"table\",class_=\"table rankings-table\")"
   ]
  },
  {
   "cell_type": "code",
   "execution_count": 205,
   "id": "18401f94",
   "metadata": {},
   "outputs": [],
   "source": [
    "first_player = table.find(\"div\",class_=\"rankings-block__banner--name-large\").text\n",
    "first_team = table.find(\"div\",class_=\"rankings-block__banner--nationality\").text.replace('\\n','')\n",
    "first_rating= table.find(\"div\",class_=\"rankings-block__banner--rating\").text"
   ]
  },
  {
   "cell_type": "code",
   "execution_count": 207,
   "id": "463c5f01",
   "metadata": {},
   "outputs": [],
   "source": [
    "w_players = table.find_all(\"td\",class_=\"table-body__cell rankings-table__name name\")[0:9]\n",
    "w_player = [first_player]\n",
    "for i in w_players:\n",
    "    w_player.append(i.text.replace('\\n',''))"
   ]
  },
  {
   "cell_type": "code",
   "execution_count": 208,
   "id": "9f0e30dc",
   "metadata": {},
   "outputs": [],
   "source": [
    "w_teams = table.find_all(\"span\",class_=\"table-body__logo-text\")[0:9]\n",
    "w_team = [first_team]\n",
    "for i in w_teams:\n",
    "    w_team.append(i.text)"
   ]
  },
  {
   "cell_type": "code",
   "execution_count": 209,
   "id": "e9ac462c",
   "metadata": {},
   "outputs": [],
   "source": [
    "w_ratings = table.find_all(\"td\",class_=\"table-body__cell rating\")[0:9]\n",
    "w_rating = [first_rating]\n",
    "for i in w_ratings:\n",
    "    w_rating.append(i.text)"
   ]
  },
  {
   "cell_type": "code",
   "execution_count": 210,
   "id": "8d2e6dec",
   "metadata": {
    "scrolled": true
   },
   "outputs": [
    {
     "data": {
      "text/html": [
       "<div>\n",
       "<style scoped>\n",
       "    .dataframe tbody tr th:only-of-type {\n",
       "        vertical-align: middle;\n",
       "    }\n",
       "\n",
       "    .dataframe tbody tr th {\n",
       "        vertical-align: top;\n",
       "    }\n",
       "\n",
       "    .dataframe thead th {\n",
       "        text-align: right;\n",
       "    }\n",
       "</style>\n",
       "<table border=\"1\" class=\"dataframe\">\n",
       "  <thead>\n",
       "    <tr style=\"text-align: right;\">\n",
       "      <th></th>\n",
       "      <th>Bowler Name</th>\n",
       "      <th>Team</th>\n",
       "      <th>Rating</th>\n",
       "    </tr>\n",
       "  </thead>\n",
       "  <tbody>\n",
       "    <tr>\n",
       "      <th>0</th>\n",
       "      <td>Alyssa Healy</td>\n",
       "      <td>AUS</td>\n",
       "      <td>785</td>\n",
       "    </tr>\n",
       "    <tr>\n",
       "      <th>1</th>\n",
       "      <td>Natalie Sciver</td>\n",
       "      <td>ENG</td>\n",
       "      <td>750</td>\n",
       "    </tr>\n",
       "    <tr>\n",
       "      <th>2</th>\n",
       "      <td>Beth Mooney</td>\n",
       "      <td>AUS</td>\n",
       "      <td>748</td>\n",
       "    </tr>\n",
       "    <tr>\n",
       "      <th>3</th>\n",
       "      <td>Laura Wolvaardt</td>\n",
       "      <td>SA</td>\n",
       "      <td>713</td>\n",
       "    </tr>\n",
       "    <tr>\n",
       "      <th>4</th>\n",
       "      <td>Meg Lanning</td>\n",
       "      <td>AUS</td>\n",
       "      <td>710</td>\n",
       "    </tr>\n",
       "    <tr>\n",
       "      <th>5</th>\n",
       "      <td>Rachael Haynes</td>\n",
       "      <td>AUS</td>\n",
       "      <td>701</td>\n",
       "    </tr>\n",
       "    <tr>\n",
       "      <th>6</th>\n",
       "      <td>Amy Satterthwaite</td>\n",
       "      <td>NZ</td>\n",
       "      <td>681</td>\n",
       "    </tr>\n",
       "    <tr>\n",
       "      <th>7</th>\n",
       "      <td>Smriti Mandhana</td>\n",
       "      <td>IND</td>\n",
       "      <td>669</td>\n",
       "    </tr>\n",
       "    <tr>\n",
       "      <th>8</th>\n",
       "      <td>Tammy Beaumont</td>\n",
       "      <td>ENG</td>\n",
       "      <td>659</td>\n",
       "    </tr>\n",
       "    <tr>\n",
       "      <th>9</th>\n",
       "      <td>Ellyse Perry</td>\n",
       "      <td>AUS</td>\n",
       "      <td>642</td>\n",
       "    </tr>\n",
       "  </tbody>\n",
       "</table>\n",
       "</div>"
      ],
      "text/plain": [
       "         Bowler Name Team Rating\n",
       "0       Alyssa Healy  AUS    785\n",
       "1     Natalie Sciver  ENG    750\n",
       "2        Beth Mooney  AUS    748\n",
       "3    Laura Wolvaardt   SA    713\n",
       "4        Meg Lanning  AUS    710\n",
       "5     Rachael Haynes  AUS    701\n",
       "6  Amy Satterthwaite   NZ    681\n",
       "7    Smriti Mandhana  IND    669\n",
       "8     Tammy Beaumont  ENG    659\n",
       "9       Ellyse Perry  AUS    642"
      ]
     },
     "execution_count": 210,
     "metadata": {},
     "output_type": "execute_result"
    }
   ],
   "source": [
    "data = list(zip(w_player,w_team,w_rating))\n",
    "df = pd.DataFrame(data, columns = [\"Bowler Name\",\"Team\",\"Rating\"])\n",
    "df"
   ]
  },
  {
   "cell_type": "markdown",
   "id": "fa8e3df8",
   "metadata": {},
   "source": [
    "# Question6-(c)"
   ]
  },
  {
   "cell_type": "code",
   "execution_count": 212,
   "id": "6017dfe3",
   "metadata": {},
   "outputs": [],
   "source": [
    "url = \"https://www.icc-cricket.com/rankings/womens/player-rankings/odi/all-rounder\"\n",
    "page = requests.get(url)"
   ]
  },
  {
   "cell_type": "code",
   "execution_count": 213,
   "id": "229591b2",
   "metadata": {},
   "outputs": [],
   "source": [
    " a_table = soup.find(\"table\",class_=\"table rankings-table\")"
   ]
  },
  {
   "cell_type": "code",
   "execution_count": 215,
   "id": "a152fa53",
   "metadata": {},
   "outputs": [],
   "source": [
    "f_allrounder = a_table.find(\"div\",class_=\"rankings-block__banner--name-large\").text\n",
    "a_team = a_table.find(\"div\",class_=\"rankings-block__banner--nationality\").text.replace('\\n','')\n",
    "a_rating = a_table.find(\"div\",class_=\"rankings-block__banner--rating\").text\n",
    "allrounders = a_table.find_all(\"td\",class_=\"table-body__cell rankings-table__name name\")[0:9]\n",
    "allrounder = [f_allrounder]\n",
    "for i in allrounders:\n",
    "    allrounder.append(i.text.replace('\\n',''))"
   ]
  },
  {
   "cell_type": "code",
   "execution_count": 218,
   "id": "a0e13630",
   "metadata": {},
   "outputs": [],
   "source": [
    "all_teams = a_table.find_all(\"span\",class_=\"table-body__logo-text\")[0:9]\n",
    "all_team = [a_team]\n",
    "for i in all_teams:\n",
    "    all_team.append(i.text)"
   ]
  },
  {
   "cell_type": "code",
   "execution_count": 219,
   "id": "831a9e53",
   "metadata": {},
   "outputs": [],
   "source": [
    "all_ratings = a_table.find_all(\"td\",class_=\"table-body__cell rating\")[0:9]\n",
    "all_rating = [a_rating]\n",
    "for i in all_ratings:\n",
    "    all_rating.append(i.text)"
   ]
  },
  {
   "cell_type": "code",
   "execution_count": 220,
   "id": "f4e440cc",
   "metadata": {},
   "outputs": [
    {
     "data": {
      "text/html": [
       "<div>\n",
       "<style scoped>\n",
       "    .dataframe tbody tr th:only-of-type {\n",
       "        vertical-align: middle;\n",
       "    }\n",
       "\n",
       "    .dataframe tbody tr th {\n",
       "        vertical-align: top;\n",
       "    }\n",
       "\n",
       "    .dataframe thead th {\n",
       "        text-align: right;\n",
       "    }\n",
       "</style>\n",
       "<table border=\"1\" class=\"dataframe\">\n",
       "  <thead>\n",
       "    <tr style=\"text-align: right;\">\n",
       "      <th></th>\n",
       "      <th>Allrounder Name</th>\n",
       "      <th>Team</th>\n",
       "      <th>Rating</th>\n",
       "    </tr>\n",
       "  </thead>\n",
       "  <tbody>\n",
       "    <tr>\n",
       "      <th>0</th>\n",
       "      <td>Alyssa Healy</td>\n",
       "      <td>AUS</td>\n",
       "      <td>785</td>\n",
       "    </tr>\n",
       "    <tr>\n",
       "      <th>1</th>\n",
       "      <td>Natalie Sciver</td>\n",
       "      <td>ENG</td>\n",
       "      <td>750</td>\n",
       "    </tr>\n",
       "    <tr>\n",
       "      <th>2</th>\n",
       "      <td>Beth Mooney</td>\n",
       "      <td>AUS</td>\n",
       "      <td>748</td>\n",
       "    </tr>\n",
       "    <tr>\n",
       "      <th>3</th>\n",
       "      <td>Laura Wolvaardt</td>\n",
       "      <td>SA</td>\n",
       "      <td>713</td>\n",
       "    </tr>\n",
       "    <tr>\n",
       "      <th>4</th>\n",
       "      <td>Meg Lanning</td>\n",
       "      <td>AUS</td>\n",
       "      <td>710</td>\n",
       "    </tr>\n",
       "    <tr>\n",
       "      <th>5</th>\n",
       "      <td>Rachael Haynes</td>\n",
       "      <td>AUS</td>\n",
       "      <td>701</td>\n",
       "    </tr>\n",
       "    <tr>\n",
       "      <th>6</th>\n",
       "      <td>Amy Satterthwaite</td>\n",
       "      <td>NZ</td>\n",
       "      <td>681</td>\n",
       "    </tr>\n",
       "    <tr>\n",
       "      <th>7</th>\n",
       "      <td>Smriti Mandhana</td>\n",
       "      <td>IND</td>\n",
       "      <td>669</td>\n",
       "    </tr>\n",
       "    <tr>\n",
       "      <th>8</th>\n",
       "      <td>Tammy Beaumont</td>\n",
       "      <td>ENG</td>\n",
       "      <td>659</td>\n",
       "    </tr>\n",
       "    <tr>\n",
       "      <th>9</th>\n",
       "      <td>Ellyse Perry</td>\n",
       "      <td>AUS</td>\n",
       "      <td>642</td>\n",
       "    </tr>\n",
       "  </tbody>\n",
       "</table>\n",
       "</div>"
      ],
      "text/plain": [
       "     Allrounder Name Team Rating\n",
       "0       Alyssa Healy  AUS    785\n",
       "1     Natalie Sciver  ENG    750\n",
       "2        Beth Mooney  AUS    748\n",
       "3    Laura Wolvaardt   SA    713\n",
       "4        Meg Lanning  AUS    710\n",
       "5     Rachael Haynes  AUS    701\n",
       "6  Amy Satterthwaite   NZ    681\n",
       "7    Smriti Mandhana  IND    669\n",
       "8     Tammy Beaumont  ENG    659\n",
       "9       Ellyse Perry  AUS    642"
      ]
     },
     "execution_count": 220,
     "metadata": {},
     "output_type": "execute_result"
    }
   ],
   "source": [
    "data = list(zip(allrounder,all_team,all_rating))\n",
    "df = pd.DataFrame(data, columns = [\"Allrounder Name\",\"Team\",\"Rating\"])\n",
    "df"
   ]
  },
  {
   "cell_type": "markdown",
   "id": "e94e0315",
   "metadata": {},
   "source": [
    "# Question-7"
   ]
  },
  {
   "cell_type": "code",
   "execution_count": 259,
   "id": "1e1d5cf6",
   "metadata": {},
   "outputs": [],
   "source": [
    "import  requests\n",
    "from  bs4 import BeautifulSoup"
   ]
  },
  {
   "cell_type": "code",
   "execution_count": 265,
   "id": "6ad4b0ea",
   "metadata": {},
   "outputs": [],
   "source": [
    "url = \"https://www.cnbc.com/world/?region=world\""
   ]
  },
  {
   "cell_type": "code",
   "execution_count": 266,
   "id": "bd6356c3",
   "metadata": {},
   "outputs": [],
   "source": [
    "def Top_Mens_Teams(url):\n",
    "    page = requests.get(url)"
   ]
  },
  {
   "cell_type": "code",
   "execution_count": 267,
   "id": "6e015998",
   "metadata": {},
   "outputs": [],
   "source": [
    "page = requests.get(url)"
   ]
  },
  {
   "cell_type": "code",
   "execution_count": 270,
   "id": "ea73964d",
   "metadata": {},
   "outputs": [
    {
     "data": {
      "text/plain": [
       "[]"
      ]
     },
     "execution_count": 270,
     "metadata": {},
     "output_type": "execute_result"
    }
   ],
   "source": [
    "news_headline = []\n",
    "for i in soup.find_all(\"a\", class_='LatestNews-headline'):\n",
    "    news_headline.append(i.text)\n",
    "news_headline"
   ]
  },
  {
   "cell_type": "code",
   "execution_count": 271,
   "id": "e8a08e47",
   "metadata": {},
   "outputs": [
    {
     "data": {
      "text/plain": [
       "[]"
      ]
     },
     "execution_count": 271,
     "metadata": {},
     "output_type": "execute_result"
    }
   ],
   "source": [
    "news_time = []\n",
    "for i in soup.find_all(\"span\",class_=\"LatestNews-wrapper\"):\n",
    "    news_time.append(i.text)\n",
    "news_time"
   ]
  },
  {
   "cell_type": "code",
   "execution_count": 272,
   "id": "fab484f6",
   "metadata": {},
   "outputs": [
    {
     "data": {
      "text/plain": [
       "[]"
      ]
     },
     "execution_count": 272,
     "metadata": {},
     "output_type": "execute_result"
    }
   ],
   "source": [
    "news_link = []\n",
    "for i in soup.find_all(\"a\", class_='LatestNews-headline'):\n",
    "    news_link.append(i.get('href'))\n",
    "news_link"
   ]
  },
  {
   "cell_type": "markdown",
   "id": "10fa106a",
   "metadata": {},
   "source": [
    "# Question-8"
   ]
  },
  {
   "cell_type": "code",
   "execution_count": 233,
   "id": "fdb9b1fa",
   "metadata": {},
   "outputs": [],
   "source": [
    "url = \"https://www.journals.elsevier.com/artificial-intelligence/most-downloaded-articles\""
   ]
  },
  {
   "cell_type": "code",
   "execution_count": 234,
   "id": "d2a1da13",
   "metadata": {},
   "outputs": [],
   "source": [
    "def Top_Mens_Teams(url):\n",
    "    page = requests.get(url)"
   ]
  },
  {
   "cell_type": "code",
   "execution_count": 235,
   "id": "e3470297",
   "metadata": {},
   "outputs": [],
   "source": [
    "page = requests.get(url)"
   ]
  },
  {
   "cell_type": "code",
   "execution_count": 236,
   "id": "556cfb77",
   "metadata": {},
   "outputs": [],
   "source": [
    "soup = BeautifulSoup(page.text,\"html.parser\")"
   ]
  },
  {
   "cell_type": "code",
   "execution_count": 237,
   "id": "512a5755",
   "metadata": {},
   "outputs": [
    {
     "data": {
      "text/plain": [
       "['Reward is enough',\n",
       " 'Making sense of raw input',\n",
       " 'Law and logic: A review from an argumentation perspective',\n",
       " 'Creativity and artificial intelligence',\n",
       " 'Artificial cognition for social human–robot interaction: An implementation',\n",
       " 'Explanation in artificial intelligence: Insights from the social sciences',\n",
       " 'Making sense of sensory input',\n",
       " 'Conflict-based search for optimal multi-agent pathfinding',\n",
       " 'Between MDPs and semi-MDPs: A framework for temporal abstraction in reinforcement learning',\n",
       " 'The Hanabi challenge: A new frontier for AI research',\n",
       " 'Evaluating XAI: A comparison of rule-based and example-based explanations',\n",
       " 'Argumentation in artificial intelligence',\n",
       " 'Algorithms for computing strategies in two-player simultaneous move games',\n",
       " 'Multiple object tracking: A literature review',\n",
       " 'Selection of relevant features and examples in machine learning',\n",
       " 'A survey of inverse reinforcement learning: Challenges, methods and progress',\n",
       " 'Explaining individual predictions when features are dependent: More accurate approximations to Shapley values',\n",
       " 'A review of possible effects of cognitive biases on interpretation of rule-based machine learning models',\n",
       " 'Integrating social power into the decision-making of cognitive agents',\n",
       " \"“That's (not) the output I expected!” On the role of end user expectations in creating explanations of AI systems\",\n",
       " 'Explaining black-box classifiers using post-hoc explanations-by-example: The effect of explanations and error-rates in XAI user studies',\n",
       " 'Algorithm runtime prediction: Methods & evaluation',\n",
       " 'Wrappers for feature subset selection',\n",
       " 'Commonsense visual sensemaking for autonomous driving – On generalised neurosymbolic online abduction integrating vision and semantics',\n",
       " 'Quantum computation, quantum theory and AI']"
      ]
     },
     "execution_count": 237,
     "metadata": {},
     "output_type": "execute_result"
    }
   ],
   "source": [
    "title = []\n",
    "for i in soup.find_all('h2', class_=\"sc-1qrq3sd-1 MKjKb sc-1nmom32-0 sc-1nmom32-1 hqhUYH ebTA-dR\"):\n",
    "    title.append(i.text)\n",
    "title"
   ]
  },
  {
   "cell_type": "code",
   "execution_count": 238,
   "id": "c7b48f47",
   "metadata": {},
   "outputs": [
    {
     "data": {
      "text/plain": [
       "['October 2021',\n",
       " 'October 2021',\n",
       " 'October 2015',\n",
       " 'August 1998',\n",
       " 'June 2017',\n",
       " 'February 2019',\n",
       " 'April 2021',\n",
       " 'February 2015',\n",
       " 'August 1999',\n",
       " 'March 2020',\n",
       " 'February 2021',\n",
       " 'October 2007',\n",
       " 'August 2016',\n",
       " 'April 2021',\n",
       " 'December 1997',\n",
       " 'August 2021',\n",
       " 'September 2021',\n",
       " 'June 2021',\n",
       " 'December 2016',\n",
       " 'September 2021',\n",
       " 'May 2021',\n",
       " 'January 2014',\n",
       " 'December 1997',\n",
       " 'October 2021',\n",
       " 'February 2010']"
      ]
     },
     "execution_count": 238,
     "metadata": {},
     "output_type": "execute_result"
    }
   ],
   "source": [
    "pub_date = []\n",
    "for i in soup.find_all('span', class_=\"sc-1thf9ly-2 bKddwo\"):\n",
    "    pub_date.append(i.text)\n",
    "pub_date"
   ]
  },
  {
   "cell_type": "markdown",
   "id": "cb4cec68",
   "metadata": {},
   "source": [
    "# Question-9"
   ]
  },
  {
   "cell_type": "code",
   "execution_count": 246,
   "id": "4fdeb0cd",
   "metadata": {},
   "outputs": [],
   "source": [
    "url = \"https://www.dineout.co.in/delhi-restaurants/buffet-special\""
   ]
  },
  {
   "cell_type": "code",
   "execution_count": 247,
   "id": "11b5c4be",
   "metadata": {},
   "outputs": [
    {
     "data": {
      "text/plain": [
       "['Castle Barbeque',\n",
       " 'Jungle Jamboree',\n",
       " 'Castle Barbeque',\n",
       " 'Cafe Knosh',\n",
       " 'The Barbeque Company',\n",
       " 'India Grill',\n",
       " 'Delhi Barbeque',\n",
       " 'The Monarch - Bar Be Que Village',\n",
       " 'World Cafe',\n",
       " 'Indian Grill Room',\n",
       " 'Mad 4 Bar B Que',\n",
       " 'Barbeque 29',\n",
       " 'Glasshouse']"
      ]
     },
     "execution_count": 247,
     "metadata": {},
     "output_type": "execute_result"
    }
   ],
   "source": [
    "page = requests.get(url)\n",
    "soup = BeautifulSoup(page.text,\"html.parser\")\n",
    "titles = [] \n",
    "for i in soup.find_all(\"div\", class_=\"restnt-info cursor\"):\n",
    "    x = i.find('a').text\n",
    "    titles.append(x)\n",
    "titles"
   ]
  },
  {
   "cell_type": "code",
   "execution_count": 248,
   "id": "154275be",
   "metadata": {},
   "outputs": [
    {
     "data": {
      "text/plain": [
       "['Connaught Place, Central Delhi',\n",
       " '3CS Mall,Lajpat Nagar - 3, South Delhi',\n",
       " 'Pacific Mall,Tagore Garden, West Delhi',\n",
       " 'The Leela Ambience Convention Hotel,Shahdara, East Delhi',\n",
       " 'Gardens Galleria,Sector 38A, Noida',\n",
       " 'Hilton Garden Inn,Saket, South Delhi',\n",
       " 'Taurus Sarovar Portico,Mahipalpur, South Delhi',\n",
       " 'Indirapuram Habitat Centre,Indirapuram, Ghaziabad',\n",
       " 'Vibe by The Lalit Traveller,Sector 35, Faridabad',\n",
       " 'Suncity Business Tower,Golf Course Road, Gurgaon',\n",
       " 'Sector 29, Faridabad',\n",
       " 'NIT, Faridabad',\n",
       " 'DoubleTree By Hilton Gurugram Baani Square,Sector 50, Gurgaon']"
      ]
     },
     "execution_count": 248,
     "metadata": {},
     "output_type": "execute_result"
    }
   ],
   "source": [
    "loc = []\n",
    "for i in soup.find_all(\"div\", class_=\"restnt-loc ellipsis\"):\n",
    "    loc.append(i.text)\n",
    "loc\n",
    "\n"
   ]
  },
  {
   "cell_type": "code",
   "execution_count": 249,
   "id": "af6ff62b",
   "metadata": {},
   "outputs": [
    {
     "data": {
      "text/plain": [
       "['3.5',\n",
       " '3.9',\n",
       " '3.9',\n",
       " '4.3',\n",
       " '4',\n",
       " '3.9',\n",
       " '3.7',\n",
       " '3.8',\n",
       " '4.3',\n",
       " '4.3',\n",
       " '3.6',\n",
       " '4.2',\n",
       " '4']"
      ]
     },
     "execution_count": 249,
     "metadata": {},
     "output_type": "execute_result"
    }
   ],
   "source": [
    "rating = []\n",
    "for i in soup.find_all('div', class_=\"restnt-rating rating-4\"):\n",
    "    rating.append(i.text)\n",
    "rating"
   ]
  },
  {
   "cell_type": "code",
   "execution_count": 250,
   "id": "47418f04",
   "metadata": {},
   "outputs": [
    {
     "data": {
      "text/plain": [
       "['https://im1.dineout.co.in/images/uploads/restaurant/sharpen/8/k/b/p86792-16062953735fbe1f4d3fb7e.jpg?tr=tr:n-medium',\n",
       " 'https://im1.dineout.co.in/images/uploads/restaurant/sharpen/3/h/c/p3643-144497865356209fdd65746.jpg?tr=tr:n-medium',\n",
       " 'https://im1.dineout.co.in/images/uploads/restaurant/sharpen/3/j/o/p38113-15959192065f1fcb666130c.jpg?tr=tr:n-medium',\n",
       " 'https://im1.dineout.co.in/images/uploads/restaurant/sharpen/4/p/m/p406-15438184745c04ccea491bc.jpg?tr=tr:n-medium',\n",
       " 'https://im1.dineout.co.in/images/uploads/restaurant/sharpen/7/p/k/p79307-16051787755fad1597f2bf9.jpg?tr=tr:n-medium',\n",
       " 'https://im1.dineout.co.in/images/uploads/restaurant/sharpen/2/v/t/p2687-1482477169585cce712b90f.jpg?tr=tr:n-medium',\n",
       " 'https://im1.dineout.co.in/images/uploads/restaurant/sharpen/5/v/f/p52501-16006856545f68865616659.jpg?tr=tr:n-medium',\n",
       " 'https://im1.dineout.co.in/images/uploads/restaurant/sharpen/3/n/o/p34822-15599107305cfa594a13c24.jpg?tr=tr:n-medium',\n",
       " 'https://im1.dineout.co.in/images/uploads/restaurant/sharpen/1/p/y/p12366-1466935020576fa6ecdc359.jpg?tr=tr:n-medium',\n",
       " 'https://im1.dineout.co.in/images/uploads/restaurant/sharpen/5/y/f/p549-165000147262590640c0afc.jpg?tr=tr:n-medium',\n",
       " 'https://im1.dineout.co.in/images/uploads/restaurant/sharpen/4/n/t/p43488-1647323111623027e763947.jpg?tr=tr:n-medium',\n",
       " 'https://im1.dineout.co.in/images/uploads/restaurant/sharpen/5/w/r/p58842-15624171585d209806d9143.jpg?tr=tr:n-medium',\n",
       " 'https://im1.dineout.co.in/images/uploads/restaurant/sharpen/9/m/a/p9875-1645177960620f6c68ecfef.jpg?tr=tr:n-medium']"
      ]
     },
     "execution_count": 250,
     "metadata": {},
     "output_type": "execute_result"
    }
   ],
   "source": [
    "image = []\n",
    "for i in soup.find_all('img',class_=\"no-img\"):\n",
    "    image.append(i['data-src'])\n",
    "image"
   ]
  },
  {
   "cell_type": "markdown",
   "id": "c3bf884d",
   "metadata": {},
   "source": [
    "# Question-10"
   ]
  },
  {
   "cell_type": "code",
   "execution_count": 252,
   "id": "9ca9e41e",
   "metadata": {},
   "outputs": [],
   "source": [
    "url = ('https://scholar.google.com/citations?view_op=top_venues&hl=en')"
   ]
  },
  {
   "cell_type": "code",
   "execution_count": 253,
   "id": "e57f9878",
   "metadata": {},
   "outputs": [
    {
     "data": {
      "text/plain": [
       "['1.',\n",
       " '2.',\n",
       " '3.',\n",
       " '4.',\n",
       " '5.',\n",
       " '6.',\n",
       " '7.',\n",
       " '8.',\n",
       " '9.',\n",
       " '10.',\n",
       " '11.',\n",
       " '12.',\n",
       " '13.',\n",
       " '14.',\n",
       " '15.',\n",
       " '16.',\n",
       " '17.',\n",
       " '18.',\n",
       " '19.',\n",
       " '20.',\n",
       " '21.',\n",
       " '22.',\n",
       " '23.',\n",
       " '24.',\n",
       " '25.',\n",
       " '26.',\n",
       " '27.',\n",
       " '28.',\n",
       " '29.',\n",
       " '30.',\n",
       " '31.',\n",
       " '32.',\n",
       " '33.',\n",
       " '34.',\n",
       " '35.',\n",
       " '36.',\n",
       " '37.',\n",
       " '38.',\n",
       " '39.',\n",
       " '40.',\n",
       " '41.',\n",
       " '42.',\n",
       " '43.',\n",
       " '44.',\n",
       " '45.',\n",
       " '46.',\n",
       " '47.',\n",
       " '48.',\n",
       " '49.',\n",
       " '50.',\n",
       " '51.',\n",
       " '52.',\n",
       " '53.',\n",
       " '54.',\n",
       " '55.',\n",
       " '56.',\n",
       " '57.',\n",
       " '58.',\n",
       " '59.',\n",
       " '60.',\n",
       " '61.',\n",
       " '62.',\n",
       " '63.',\n",
       " '64.',\n",
       " '65.',\n",
       " '66.',\n",
       " '67.',\n",
       " '68.',\n",
       " '69.',\n",
       " '70.',\n",
       " '71.',\n",
       " '72.',\n",
       " '73.',\n",
       " '74.',\n",
       " '75.',\n",
       " '76.',\n",
       " '77.',\n",
       " '78.',\n",
       " '79.',\n",
       " '80.',\n",
       " '81.',\n",
       " '82.',\n",
       " '83.',\n",
       " '84.',\n",
       " '85.',\n",
       " '86.',\n",
       " '87.',\n",
       " '88.',\n",
       " '89.',\n",
       " '90.',\n",
       " '91.',\n",
       " '92.',\n",
       " '93.',\n",
       " '94.',\n",
       " '95.',\n",
       " '96.',\n",
       " '97.',\n",
       " '98.',\n",
       " '99.',\n",
       " '100.']"
      ]
     },
     "execution_count": 253,
     "metadata": {},
     "output_type": "execute_result"
    }
   ],
   "source": [
    "page = requests.get(url)\n",
    "soup = BeautifulSoup(page.text,\"html.parser\")\n",
    "rank = []\n",
    "for i in soup.find_all('td', class_=\"gsc_mvt_p\"):\n",
    "    rank.append(i.text)\n",
    "rank"
   ]
  },
  {
   "cell_type": "code",
   "execution_count": 254,
   "id": "111f5cc4",
   "metadata": {},
   "outputs": [
    {
     "data": {
      "text/plain": [
       "['Nature',\n",
       " 'The New England Journal of Medicine',\n",
       " 'Science',\n",
       " 'IEEE/CVF Conference on Computer Vision and Pattern Recognition',\n",
       " 'The Lancet',\n",
       " 'Advanced Materials',\n",
       " 'Cell',\n",
       " 'Nature Communications',\n",
       " 'Chemical Reviews',\n",
       " 'International Conference on Learning Representations',\n",
       " 'JAMA',\n",
       " 'Neural Information Processing Systems',\n",
       " 'Proceedings of the National Academy of Sciences',\n",
       " 'Journal of the American Chemical Society',\n",
       " 'Angewandte Chemie',\n",
       " 'Chemical Society Reviews',\n",
       " 'Nucleic Acids Research',\n",
       " 'Renewable and Sustainable Energy Reviews',\n",
       " 'Journal of Clinical Oncology',\n",
       " 'Physical Review Letters',\n",
       " 'Advanced Energy Materials',\n",
       " 'Nature Medicine',\n",
       " 'International Conference on Machine Learning',\n",
       " 'Energy & Environmental Science',\n",
       " 'ACS Nano',\n",
       " 'Scientific Reports',\n",
       " 'European Conference on Computer Vision',\n",
       " 'The Lancet Oncology',\n",
       " 'Advanced Functional Materials',\n",
       " 'PLoS ONE',\n",
       " 'IEEE/CVF International Conference on Computer Vision',\n",
       " 'Nature Genetics',\n",
       " 'Journal of Cleaner Production',\n",
       " 'Nature Materials',\n",
       " 'Science of The Total Environment',\n",
       " 'Circulation',\n",
       " 'BMJ',\n",
       " 'Journal of the American College of Cardiology',\n",
       " 'Applied Catalysis B: Environmental',\n",
       " 'Science Advances',\n",
       " 'Nano Letters',\n",
       " 'Nature Energy',\n",
       " 'ACS Applied Materials & Interfaces',\n",
       " 'Journal of Materials Chemistry A',\n",
       " 'IEEE Access',\n",
       " 'Nature Biotechnology',\n",
       " 'Nano Energy',\n",
       " 'Nature Methods',\n",
       " 'Nature Nanotechnology',\n",
       " 'Cochrane Database of Systematic Reviews',\n",
       " 'The Astrophysical Journal',\n",
       " 'The Lancet Infectious Diseases',\n",
       " 'Applied Energy',\n",
       " 'European Heart Journal',\n",
       " 'Blood',\n",
       " 'American Economic Review',\n",
       " 'Immunity',\n",
       " 'Meeting of the Association for Computational Linguistics (ACL)',\n",
       " 'AAAI Conference on Artificial Intelligence',\n",
       " 'Gastroenterology',\n",
       " 'Neuron',\n",
       " 'Journal of High Energy Physics',\n",
       " 'IEEE Communications Surveys & Tutorials',\n",
       " 'Nature Neuroscience',\n",
       " 'Computers in Human Behavior',\n",
       " 'Chemical engineering journal',\n",
       " 'ACS Catalysis',\n",
       " 'Nature Reviews. Molecular Cell Biology',\n",
       " 'International Journal of Molecular Sciences',\n",
       " 'IEEE Transactions on Pattern Analysis and Machine Intelligence',\n",
       " 'Environmental Science & Technology',\n",
       " 'Monthly Notices of the Royal Astronomical Society',\n",
       " 'Cell Metabolism',\n",
       " 'Nature Physics',\n",
       " 'Physical Review D',\n",
       " 'Accounts of Chemical Research',\n",
       " 'Nature Photonics',\n",
       " 'Nature Climate Change',\n",
       " 'Chemistry of Materials',\n",
       " 'Molecular Cell',\n",
       " 'Clinical Infectious Diseases',\n",
       " 'Morbidity and Mortality Weekly Report',\n",
       " 'Nature Reviews Immunology',\n",
       " 'Gut',\n",
       " 'Annals of Oncology',\n",
       " 'Cell Reports',\n",
       " 'Journal of Business Research',\n",
       " 'Clinical Cancer Research',\n",
       " 'Frontiers in Microbiology',\n",
       " 'Journal of Hepatology',\n",
       " 'eLife',\n",
       " 'Bioinformatics',\n",
       " 'The Journal of Clinical Investigation',\n",
       " 'Science Translational Medicine',\n",
       " 'Water Research',\n",
       " 'Frontiers in Immunology',\n",
       " 'Small',\n",
       " 'Nature Immunology',\n",
       " 'JAMA Oncology',\n",
       " 'The Lancet Neurology']"
      ]
     },
     "execution_count": 254,
     "metadata": {},
     "output_type": "execute_result"
    }
   ],
   "source": [
    "publication = []\n",
    "for i in soup.find_all('td',class_=\"gsc_mvt_t\"):\n",
    "    publication.append(i.text)\n",
    "publication"
   ]
  },
  {
   "cell_type": "code",
   "execution_count": 255,
   "id": "d0fa091d",
   "metadata": {},
   "outputs": [
    {
     "data": {
      "text/plain": [
       "['414',\n",
       " '410',\n",
       " '391',\n",
       " '356',\n",
       " '345',\n",
       " '294',\n",
       " '288',\n",
       " '287',\n",
       " '270',\n",
       " '253',\n",
       " '253',\n",
       " '245',\n",
       " '245',\n",
       " '245',\n",
       " '235',\n",
       " '234',\n",
       " '233',\n",
       " '225',\n",
       " '213',\n",
       " '209',\n",
       " '206',\n",
       " '205',\n",
       " '204',\n",
       " '202',\n",
       " '202',\n",
       " '200',\n",
       " '197',\n",
       " '196',\n",
       " '189',\n",
       " '185',\n",
       " '184',\n",
       " '184',\n",
       " '182',\n",
       " '181',\n",
       " '180',\n",
       " '176',\n",
       " '175',\n",
       " '175',\n",
       " '175',\n",
       " '174',\n",
       " '173',\n",
       " '171',\n",
       " '169',\n",
       " '166',\n",
       " '164',\n",
       " '163',\n",
       " '162',\n",
       " '161',\n",
       " '161',\n",
       " '161',\n",
       " '161',\n",
       " '160',\n",
       " '160',\n",
       " '159',\n",
       " '159',\n",
       " '158',\n",
       " '158',\n",
       " '157',\n",
       " '157',\n",
       " '157',\n",
       " '157',\n",
       " '157',\n",
       " '156',\n",
       " '156',\n",
       " '155',\n",
       " '154',\n",
       " '153',\n",
       " '150',\n",
       " '150',\n",
       " '149',\n",
       " '149',\n",
       " '149',\n",
       " '148',\n",
       " '147',\n",
       " '147',\n",
       " '146',\n",
       " '144',\n",
       " '144',\n",
       " '144',\n",
       " '143',\n",
       " '142',\n",
       " '141',\n",
       " '141',\n",
       " '141',\n",
       " '141',\n",
       " '141',\n",
       " '140',\n",
       " '140',\n",
       " '139',\n",
       " '138',\n",
       " '137',\n",
       " '136',\n",
       " '135',\n",
       " '134',\n",
       " '134',\n",
       " '134',\n",
       " '134',\n",
       " '133',\n",
       " '133',\n",
       " '133']"
      ]
     },
     "execution_count": 255,
     "metadata": {},
     "output_type": "execute_result"
    }
   ],
   "source": [
    "h5_index = [] \n",
    "\n",
    "for i in soup.find_all(\"td\",class_=\"gsc_mvt_n\"):\n",
    "    x = i.find(class_=\"gs_ibl gsc_mp_anchor\")\n",
    "    h5_index.append(x.text)\n",
    "    \n",
    "res = h5_index[::2]\n",
    "\n",
    "h5_index = res\n",
    "\n",
    "h5_index\n",
    "    "
   ]
  },
  {
   "cell_type": "code",
   "execution_count": 256,
   "id": "f8a5526d",
   "metadata": {},
   "outputs": [
    {
     "data": {
      "text/plain": [
       "['607',\n",
       " '704',\n",
       " '564',\n",
       " '583',\n",
       " '600',\n",
       " '406',\n",
       " '459',\n",
       " '389',\n",
       " '434',\n",
       " '470',\n",
       " '446',\n",
       " '422',\n",
       " '337',\n",
       " '330',\n",
       " '314',\n",
       " '339',\n",
       " '512',\n",
       " '294',\n",
       " '297',\n",
       " '297',\n",
       " '267',\n",
       " '356',\n",
       " '370',\n",
       " '306',\n",
       " '265',\n",
       " '262',\n",
       " '342',\n",
       " '318',\n",
       " '250',\n",
       " '246',\n",
       " '311',\n",
       " '273',\n",
       " '245',\n",
       " '313',\n",
       " '244',\n",
       " '284',\n",
       " '286',\n",
       " '255',\n",
       " '218',\n",
       " '250',\n",
       " '234',\n",
       " '306',\n",
       " '202',\n",
       " '205',\n",
       " '233',\n",
       " '276',\n",
       " '218',\n",
       " '265',\n",
       " '257',\n",
       " '244',\n",
       " '239',\n",
       " '244',\n",
       " '203',\n",
       " '252',\n",
       " '212',\n",
       " '246',\n",
       " '237',\n",
       " '265',\n",
       " '240',\n",
       " '229',\n",
       " '219',\n",
       " '217',\n",
       " '253',\n",
       " '235',\n",
       " '235',\n",
       " '193',\n",
       " '219',\n",
       " '284',\n",
       " '210',\n",
       " '275',\n",
       " '202',\n",
       " '190',\n",
       " '219',\n",
       " '210',\n",
       " '205',\n",
       " '222',\n",
       " '230',\n",
       " '222',\n",
       " '187',\n",
       " '198',\n",
       " '251',\n",
       " '274',\n",
       " '257',\n",
       " '211',\n",
       " '205',\n",
       " '183',\n",
       " '199',\n",
       " '187',\n",
       " '196',\n",
       " '226',\n",
       " '182',\n",
       " '218',\n",
       " '197',\n",
       " '192',\n",
       " '188',\n",
       " '177',\n",
       " '173',\n",
       " '210',\n",
       " '202',\n",
       " '200']"
      ]
     },
     "execution_count": 256,
     "metadata": {},
     "output_type": "execute_result"
    }
   ],
   "source": [
    "h5_median = []\n",
    "for i in soup.find_all('span', class_=\"gs_ibl gsc_mp_anchor\"):\n",
    "    h5_median.append(i.text)\n",
    "h5_median"
   ]
  },
  {
   "cell_type": "code",
   "execution_count": 257,
   "id": "1ae64a3b",
   "metadata": {},
   "outputs": [
    {
     "name": "stdout",
     "output_type": "stream",
     "text": [
      "100 100 100 100\n"
     ]
    }
   ],
   "source": [
    "print(len(rank), len(publication), len(h5_index), len(h5_median))"
   ]
  },
  {
   "cell_type": "code",
   "execution_count": 258,
   "id": "8b6e9df4",
   "metadata": {},
   "outputs": [
    {
     "data": {
      "text/html": [
       "<div>\n",
       "<style scoped>\n",
       "    .dataframe tbody tr th:only-of-type {\n",
       "        vertical-align: middle;\n",
       "    }\n",
       "\n",
       "    .dataframe tbody tr th {\n",
       "        vertical-align: top;\n",
       "    }\n",
       "\n",
       "    .dataframe thead th {\n",
       "        text-align: right;\n",
       "    }\n",
       "</style>\n",
       "<table border=\"1\" class=\"dataframe\">\n",
       "  <thead>\n",
       "    <tr style=\"text-align: right;\">\n",
       "      <th></th>\n",
       "      <th>Rank</th>\n",
       "      <th>Publication</th>\n",
       "      <th>h5-index</th>\n",
       "      <th>h5-mean</th>\n",
       "    </tr>\n",
       "  </thead>\n",
       "  <tbody>\n",
       "    <tr>\n",
       "      <th>0</th>\n",
       "      <td>1.</td>\n",
       "      <td>Nature</td>\n",
       "      <td>414</td>\n",
       "      <td>607</td>\n",
       "    </tr>\n",
       "    <tr>\n",
       "      <th>1</th>\n",
       "      <td>2.</td>\n",
       "      <td>The New England Journal of Medicine</td>\n",
       "      <td>410</td>\n",
       "      <td>704</td>\n",
       "    </tr>\n",
       "    <tr>\n",
       "      <th>2</th>\n",
       "      <td>3.</td>\n",
       "      <td>Science</td>\n",
       "      <td>391</td>\n",
       "      <td>564</td>\n",
       "    </tr>\n",
       "    <tr>\n",
       "      <th>3</th>\n",
       "      <td>4.</td>\n",
       "      <td>IEEE/CVF Conference on Computer Vision and Pat...</td>\n",
       "      <td>356</td>\n",
       "      <td>583</td>\n",
       "    </tr>\n",
       "    <tr>\n",
       "      <th>4</th>\n",
       "      <td>5.</td>\n",
       "      <td>The Lancet</td>\n",
       "      <td>345</td>\n",
       "      <td>600</td>\n",
       "    </tr>\n",
       "    <tr>\n",
       "      <th>...</th>\n",
       "      <td>...</td>\n",
       "      <td>...</td>\n",
       "      <td>...</td>\n",
       "      <td>...</td>\n",
       "    </tr>\n",
       "    <tr>\n",
       "      <th>95</th>\n",
       "      <td>96.</td>\n",
       "      <td>Frontiers in Immunology</td>\n",
       "      <td>134</td>\n",
       "      <td>177</td>\n",
       "    </tr>\n",
       "    <tr>\n",
       "      <th>96</th>\n",
       "      <td>97.</td>\n",
       "      <td>Small</td>\n",
       "      <td>134</td>\n",
       "      <td>173</td>\n",
       "    </tr>\n",
       "    <tr>\n",
       "      <th>97</th>\n",
       "      <td>98.</td>\n",
       "      <td>Nature Immunology</td>\n",
       "      <td>133</td>\n",
       "      <td>210</td>\n",
       "    </tr>\n",
       "    <tr>\n",
       "      <th>98</th>\n",
       "      <td>99.</td>\n",
       "      <td>JAMA Oncology</td>\n",
       "      <td>133</td>\n",
       "      <td>202</td>\n",
       "    </tr>\n",
       "    <tr>\n",
       "      <th>99</th>\n",
       "      <td>100.</td>\n",
       "      <td>The Lancet Neurology</td>\n",
       "      <td>133</td>\n",
       "      <td>200</td>\n",
       "    </tr>\n",
       "  </tbody>\n",
       "</table>\n",
       "<p>100 rows × 4 columns</p>\n",
       "</div>"
      ],
      "text/plain": [
       "    Rank                                        Publication h5-index h5-mean\n",
       "0     1.                                             Nature      414     607\n",
       "1     2.                The New England Journal of Medicine      410     704\n",
       "2     3.                                            Science      391     564\n",
       "3     4.  IEEE/CVF Conference on Computer Vision and Pat...      356     583\n",
       "4     5.                                         The Lancet      345     600\n",
       "..   ...                                                ...      ...     ...\n",
       "95   96.                            Frontiers in Immunology      134     177\n",
       "96   97.                                              Small      134     173\n",
       "97   98.                                  Nature Immunology      133     210\n",
       "98   99.                                      JAMA Oncology      133     202\n",
       "99  100.                               The Lancet Neurology      133     200\n",
       "\n",
       "[100 rows x 4 columns]"
      ]
     },
     "execution_count": 258,
     "metadata": {},
     "output_type": "execute_result"
    }
   ],
   "source": [
    "df = pd.DataFrame({'Rank':rank, 'Publication':publication, 'h5-index':h5_index, 'h5-mean':h5_median})\n",
    "df"
   ]
  },
  {
   "cell_type": "code",
   "execution_count": null,
   "id": "f205d97b",
   "metadata": {},
   "outputs": [],
   "source": []
  }
 ],
 "metadata": {
  "kernelspec": {
   "display_name": "Python 3 (ipykernel)",
   "language": "python",
   "name": "python3"
  },
  "language_info": {
   "codemirror_mode": {
    "name": "ipython",
    "version": 3
   },
   "file_extension": ".py",
   "mimetype": "text/x-python",
   "name": "python",
   "nbconvert_exporter": "python",
   "pygments_lexer": "ipython3",
   "version": "3.9.12"
  }
 },
 "nbformat": 4,
 "nbformat_minor": 5
}
