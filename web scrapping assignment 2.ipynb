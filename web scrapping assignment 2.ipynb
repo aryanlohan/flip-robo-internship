{
 "cells": [
  {
   "cell_type": "markdown",
   "id": "7e25480d",
   "metadata": {},
   "source": [
    "# Q1: Write a python program to scrape data for “Data Analyst” Job position in “Bangalore” location."
   ]
  },
  {
   "cell_type": "code",
   "execution_count": 118,
   "id": "305a150b",
   "metadata": {
    "scrolled": false
   },
   "outputs": [
    {
     "name": "stdout",
     "output_type": "stream",
     "text": [
      "Requirement already satisfied: selenium in ./opt/anaconda3/lib/python3.9/site-packages (4.2.0)\n",
      "Requirement already satisfied: trio~=0.17 in ./opt/anaconda3/lib/python3.9/site-packages (from selenium) (0.21.0)\n",
      "Requirement already satisfied: trio-websocket~=0.9 in ./opt/anaconda3/lib/python3.9/site-packages (from selenium) (0.9.2)\n",
      "Requirement already satisfied: urllib3[secure,socks]~=1.26 in ./opt/anaconda3/lib/python3.9/site-packages (from selenium) (1.26.10)\n",
      "Requirement already satisfied: sniffio in ./opt/anaconda3/lib/python3.9/site-packages (from trio~=0.17->selenium) (1.2.0)\n",
      "Requirement already satisfied: outcome in ./opt/anaconda3/lib/python3.9/site-packages (from trio~=0.17->selenium) (1.2.0)\n",
      "Requirement already satisfied: async-generator>=1.9 in ./opt/anaconda3/lib/python3.9/site-packages (from trio~=0.17->selenium) (1.10)\n",
      "Requirement already satisfied: attrs>=19.2.0 in ./opt/anaconda3/lib/python3.9/site-packages (from trio~=0.17->selenium) (21.4.0)\n",
      "Requirement already satisfied: sortedcontainers in ./opt/anaconda3/lib/python3.9/site-packages (from trio~=0.17->selenium) (2.4.0)\n",
      "Requirement already satisfied: idna in ./opt/anaconda3/lib/python3.9/site-packages (from trio~=0.17->selenium) (3.3)\n",
      "Requirement already satisfied: wsproto>=0.14 in ./opt/anaconda3/lib/python3.9/site-packages (from trio-websocket~=0.9->selenium) (1.1.0)\n",
      "Requirement already satisfied: pyOpenSSL>=0.14 in ./opt/anaconda3/lib/python3.9/site-packages (from urllib3[secure,socks]~=1.26->selenium) (22.0.0)\n",
      "Requirement already satisfied: cryptography>=1.3.4 in ./opt/anaconda3/lib/python3.9/site-packages (from urllib3[secure,socks]~=1.26->selenium) (37.0.4)\n",
      "Requirement already satisfied: certifi in ./opt/anaconda3/lib/python3.9/site-packages (from urllib3[secure,socks]~=1.26->selenium) (2022.6.15)\n",
      "Requirement already satisfied: PySocks!=1.5.7,<2.0,>=1.5.6 in ./opt/anaconda3/lib/python3.9/site-packages (from urllib3[secure,socks]~=1.26->selenium) (1.7.1)\n",
      "Requirement already satisfied: cffi>=1.12 in ./opt/anaconda3/lib/python3.9/site-packages (from cryptography>=1.3.4->urllib3[secure,socks]~=1.26->selenium) (1.15.1)\n",
      "Requirement already satisfied: pycparser in ./opt/anaconda3/lib/python3.9/site-packages (from cffi>=1.12->cryptography>=1.3.4->urllib3[secure,socks]~=1.26->selenium) (2.21)\n",
      "Requirement already satisfied: h11<1,>=0.9.0 in ./opt/anaconda3/lib/python3.9/site-packages (from wsproto>=0.14->trio-websocket~=0.9->selenium) (0.13.0)\n"
     ]
    }
   ],
   "source": [
    "! pip install selenium"
   ]
  },
  {
   "cell_type": "code",
   "execution_count": 119,
   "id": "5d6690c4",
   "metadata": {},
   "outputs": [],
   "source": [
    "import selenium\n",
    "import pandas as pd\n",
    "from selenium import webdriver\n",
    "import warnings\n",
    "warnings.filterwarnings(\"ignore\")\n",
    "import time"
   ]
  },
  {
   "cell_type": "code",
   "execution_count": 120,
   "id": "0fe8f7b9",
   "metadata": {},
   "outputs": [],
   "source": [
    "driver = webdriver.Chrome('/Users/aryanlohan/downloads/chromedriver')"
   ]
  },
  {
   "cell_type": "code",
   "execution_count": 121,
   "id": "5e3a5460",
   "metadata": {},
   "outputs": [],
   "source": [
    "driver.get('https://www.naukri.com')"
   ]
  },
  {
   "cell_type": "code",
   "execution_count": 122,
   "id": "a3e2a17a",
   "metadata": {},
   "outputs": [],
   "source": [
    "from selenium .webdriver.common.by import By"
   ]
  },
  {
   "cell_type": "code",
   "execution_count": 123,
   "id": "4ca19970",
   "metadata": {},
   "outputs": [
    {
     "data": {
      "text/plain": [
       "[<selenium.webdriver.remote.webelement.WebElement (session=\"54fcfbc6c7c36729ec644473bc5bb2d0\", element=\"cb7a79c1-ef74-4d55-a863-f08b4b8e83e4\")>,\n",
       " <selenium.webdriver.remote.webelement.WebElement (session=\"54fcfbc6c7c36729ec644473bc5bb2d0\", element=\"084522bd-c458-47f3-aef4-a3c79346e009\")>]"
      ]
     },
     "execution_count": 123,
     "metadata": {},
     "output_type": "execute_result"
    }
   ],
   "source": [
    "search_jobs=driver.find_elements(By.CLASS_NAME,\"suggestor-input\")\n",
    "search_jobs"
   ]
  },
  {
   "cell_type": "code",
   "execution_count": 124,
   "id": "4f3ab3ca",
   "metadata": {
    "scrolled": true
   },
   "outputs": [
    {
     "data": {
      "text/plain": [
       "<selenium.webdriver.remote.webelement.WebElement (session=\"54fcfbc6c7c36729ec644473bc5bb2d0\", element=\"084522bd-c458-47f3-aef4-a3c79346e009\")>"
      ]
     },
     "execution_count": 124,
     "metadata": {},
     "output_type": "execute_result"
    }
   ],
   "source": [
    "search_loc = driver.find_element(By.XPATH,\"/html/body/div/div[2]/div[3]/div/div/div[5]/div/div/div/input\")\n",
    "search_loc"
   ]
  },
  {
   "cell_type": "code",
   "execution_count": 125,
   "id": "22de73c8",
   "metadata": {},
   "outputs": [],
   "source": [
    "job_titles = []\n",
    "job_locations = []\n",
    "company_names = []\n",
    "experience_list = []"
   ]
  },
  {
   "cell_type": "code",
   "execution_count": 126,
   "id": "363a6594",
   "metadata": {},
   "outputs": [],
   "source": [
    "search_field_designation=driver.find_element(By.CLASS_NAME,\"suggestor-input\")\n",
    "search_field_designation.send_keys(\"Data Analyst\")"
   ]
  },
  {
   "cell_type": "code",
   "execution_count": 127,
   "id": "db094bdc",
   "metadata": {},
   "outputs": [],
   "source": [
    "search_field_location =driver.find_element(By.XPATH,\"/html/body/div/div[2]/div[3]/div/div/div[5]/div/div/div/input\")\n",
    "search_field_location.send_keys(\"Bangalore\")"
   ]
  },
  {
   "cell_type": "code",
   "execution_count": 128,
   "id": "ef18da2d",
   "metadata": {},
   "outputs": [],
   "source": [
    "search_button = driver.find_element(By.XPATH,\"/html/body/div/div[2]/div[3]/div/div/div[6]\")\n",
    "search_button.click()"
   ]
  },
  {
   "cell_type": "code",
   "execution_count": 129,
   "id": "8f1f754d",
   "metadata": {},
   "outputs": [
    {
     "data": {
      "text/plain": [
       "[<selenium.webdriver.remote.webelement.WebElement (session=\"54fcfbc6c7c36729ec644473bc5bb2d0\", element=\"72f14b03-c18a-42eb-8dc3-71a76fe79f0e\")>,\n",
       " <selenium.webdriver.remote.webelement.WebElement (session=\"54fcfbc6c7c36729ec644473bc5bb2d0\", element=\"b727920e-5b90-4ebc-8717-55387b7cd04d\")>,\n",
       " <selenium.webdriver.remote.webelement.WebElement (session=\"54fcfbc6c7c36729ec644473bc5bb2d0\", element=\"831a2f9a-ad33-4fb2-a9d5-3912e3bdc55f\")>,\n",
       " <selenium.webdriver.remote.webelement.WebElement (session=\"54fcfbc6c7c36729ec644473bc5bb2d0\", element=\"0b7e51a3-8517-43a5-b902-0b2b492d28e0\")>]"
      ]
     },
     "execution_count": 129,
     "metadata": {},
     "output_type": "execute_result"
    }
   ],
   "source": [
    "titles_tag = driver.find_elements(By.XPATH,\"//a[@class='title fw500 ellipsis']\") \n",
    "titles_tag[0:4]"
   ]
  },
  {
   "cell_type": "code",
   "execution_count": 130,
   "id": "59d7b947",
   "metadata": {},
   "outputs": [
    {
     "data": {
      "text/plain": [
       "['Data Analyst I',\n",
       " 'Data Science / Data Engineer / Business Analyst / Full Stack Developer',\n",
       " 'Sr.Business Data Analyst',\n",
       " 'Sr Data Analyst']"
      ]
     },
     "execution_count": 130,
     "metadata": {},
     "output_type": "execute_result"
    }
   ],
   "source": [
    "for i in titles_tag:\n",
    "    title = i.text \n",
    "    job_titles.append(title)\n",
    "job_titles[0:4]"
   ]
  },
  {
   "cell_type": "code",
   "execution_count": 131,
   "id": "d006be9a",
   "metadata": {},
   "outputs": [
    {
     "data": {
      "text/plain": [
       "[<selenium.webdriver.remote.webelement.WebElement (session=\"54fcfbc6c7c36729ec644473bc5bb2d0\", element=\"41e1d986-f78a-4882-b431-849f92faf346\")>,\n",
       " <selenium.webdriver.remote.webelement.WebElement (session=\"54fcfbc6c7c36729ec644473bc5bb2d0\", element=\"bb69658b-ff34-4a83-b1eb-a90270abc2ed\")>,\n",
       " <selenium.webdriver.remote.webelement.WebElement (session=\"54fcfbc6c7c36729ec644473bc5bb2d0\", element=\"3f4ae9cf-090f-4428-b8ff-e31a8de6c150\")>,\n",
       " <selenium.webdriver.remote.webelement.WebElement (session=\"54fcfbc6c7c36729ec644473bc5bb2d0\", element=\"d0c14414-0c22-43c5-9db6-4ea1e299ec2f\")>]"
      ]
     },
     "execution_count": 131,
     "metadata": {},
     "output_type": "execute_result"
    }
   ],
   "source": [
    "companies_tag = driver.find_elements(By.XPATH,\"//a[@class='subTitle ellipsis fleft']\") \n",
    "companies_tag[0:4]"
   ]
  },
  {
   "cell_type": "code",
   "execution_count": 132,
   "id": "4424c823",
   "metadata": {},
   "outputs": [
    {
     "data": {
      "text/plain": [
       "['Cerner',\n",
       " 'NETWORTH DATA PRODUCTS PRIVATE LIMITED',\n",
       " 'Collabera',\n",
       " 'Thomson Reuters']"
      ]
     },
     "execution_count": 132,
     "metadata": {},
     "output_type": "execute_result"
    }
   ],
   "source": [
    "for i in companies_tag:\n",
    "    company_name = i.text \n",
    "    company_names.append(company_name)\n",
    "company_names[0:4]"
   ]
  },
  {
   "cell_type": "code",
   "execution_count": 133,
   "id": "e58d89bc",
   "metadata": {},
   "outputs": [
    {
     "data": {
      "text/plain": [
       "[<selenium.webdriver.remote.webelement.WebElement (session=\"54fcfbc6c7c36729ec644473bc5bb2d0\", element=\"fed86cdb-b8c9-4c91-bc6e-e38793230fc2\")>,\n",
       " <selenium.webdriver.remote.webelement.WebElement (session=\"54fcfbc6c7c36729ec644473bc5bb2d0\", element=\"4f33039a-dc87-4d03-be79-33098ace3891\")>,\n",
       " <selenium.webdriver.remote.webelement.WebElement (session=\"54fcfbc6c7c36729ec644473bc5bb2d0\", element=\"bb2f55d3-d7ea-4a11-9323-48cd36dddde9\")>,\n",
       " <selenium.webdriver.remote.webelement.WebElement (session=\"54fcfbc6c7c36729ec644473bc5bb2d0\", element=\"c758cd87-e3f1-444d-b394-d764cd468e0e\")>]"
      ]
     },
     "execution_count": 133,
     "metadata": {},
     "output_type": "execute_result"
    }
   ],
   "source": [
    "experience_tag = driver.find_elements(By.XPATH,\"//li[@class='fleft grey-text br2 placeHolderLi experience']/span\")\n",
    "experience_tag[0:4]"
   ]
  },
  {
   "cell_type": "code",
   "execution_count": 134,
   "id": "103be0ac",
   "metadata": {},
   "outputs": [
    {
     "data": {
      "text/plain": [
       "['5-10 Yrs', '0-3 Yrs', '6-11 Yrs', '5-8 Yrs']"
      ]
     },
     "execution_count": 134,
     "metadata": {},
     "output_type": "execute_result"
    }
   ],
   "source": [
    "for i in experience_tag:\n",
    "    experience = i.text \n",
    "    experience_list.append(experience)\n",
    "experience_list[0:4]"
   ]
  },
  {
   "cell_type": "code",
   "execution_count": 135,
   "id": "5fbcf0b9",
   "metadata": {},
   "outputs": [
    {
     "data": {
      "text/plain": [
       "[<selenium.webdriver.remote.webelement.WebElement (session=\"54fcfbc6c7c36729ec644473bc5bb2d0\", element=\"5be6184f-c9fc-46c9-a87f-e6ecf4fee159\")>,\n",
       " <selenium.webdriver.remote.webelement.WebElement (session=\"54fcfbc6c7c36729ec644473bc5bb2d0\", element=\"cfb44727-162a-4566-a223-6f8b1489d5f7\")>,\n",
       " <selenium.webdriver.remote.webelement.WebElement (session=\"54fcfbc6c7c36729ec644473bc5bb2d0\", element=\"615fa887-f1c9-4ecb-b930-8bf52b4860b4\")>,\n",
       " <selenium.webdriver.remote.webelement.WebElement (session=\"54fcfbc6c7c36729ec644473bc5bb2d0\", element=\"b69fd213-82fc-4d99-aa36-d1992a4ad8b5\")>]"
      ]
     },
     "execution_count": 135,
     "metadata": {},
     "output_type": "execute_result"
    }
   ],
   "source": [
    "location_tag = driver.find_elements(By.XPATH,\"//li[@class='fleft grey-text br2 placeHolderLi location']/span[1]\")\n",
    "location_tag[0:4] "
   ]
  },
  {
   "cell_type": "code",
   "execution_count": 136,
   "id": "1895a289",
   "metadata": {},
   "outputs": [
    {
     "data": {
      "text/plain": [
       "['Bangalore/Bengaluru',\n",
       " 'Bangalore/Bengaluru',\n",
       " 'Bangalore/Bengaluru, karnataka',\n",
       " 'Bangalore/Bengaluru']"
      ]
     },
     "execution_count": 136,
     "metadata": {},
     "output_type": "execute_result"
    }
   ],
   "source": [
    "for i in location_tag:\n",
    "    location = i.text \n",
    "    job_locations.append(location)\n",
    "job_locations[0:4]"
   ]
  },
  {
   "cell_type": "code",
   "execution_count": 137,
   "id": "7ff9339d",
   "metadata": {},
   "outputs": [
    {
     "name": "stdout",
     "output_type": "stream",
     "text": [
      "20 20 20 20\n"
     ]
    }
   ],
   "source": [
    "print(len(job_titles), len(company_names), len(experience_list), len(job_locations))"
   ]
  },
  {
   "cell_type": "code",
   "execution_count": 138,
   "id": "f4c479f4",
   "metadata": {},
   "outputs": [
    {
     "data": {
      "text/html": [
       "<div>\n",
       "<style scoped>\n",
       "    .dataframe tbody tr th:only-of-type {\n",
       "        vertical-align: middle;\n",
       "    }\n",
       "\n",
       "    .dataframe tbody tr th {\n",
       "        vertical-align: top;\n",
       "    }\n",
       "\n",
       "    .dataframe thead th {\n",
       "        text-align: right;\n",
       "    }\n",
       "</style>\n",
       "<table border=\"1\" class=\"dataframe\">\n",
       "  <thead>\n",
       "    <tr style=\"text-align: right;\">\n",
       "      <th></th>\n",
       "      <th>Job Title</th>\n",
       "      <th>Company</th>\n",
       "      <th>Experience Reqd</th>\n",
       "      <th>Job Location</th>\n",
       "    </tr>\n",
       "  </thead>\n",
       "  <tbody>\n",
       "    <tr>\n",
       "      <th>0</th>\n",
       "      <td>Data Analyst I</td>\n",
       "      <td>Cerner</td>\n",
       "      <td>5-10 Yrs</td>\n",
       "      <td>Bangalore/Bengaluru</td>\n",
       "    </tr>\n",
       "    <tr>\n",
       "      <th>1</th>\n",
       "      <td>Data Science / Data Engineer / Business Analys...</td>\n",
       "      <td>NETWORTH DATA PRODUCTS PRIVATE LIMITED</td>\n",
       "      <td>0-3 Yrs</td>\n",
       "      <td>Bangalore/Bengaluru</td>\n",
       "    </tr>\n",
       "    <tr>\n",
       "      <th>2</th>\n",
       "      <td>Sr.Business Data Analyst</td>\n",
       "      <td>Collabera</td>\n",
       "      <td>6-11 Yrs</td>\n",
       "      <td>Bangalore/Bengaluru, karnataka</td>\n",
       "    </tr>\n",
       "    <tr>\n",
       "      <th>3</th>\n",
       "      <td>Sr Data Analyst</td>\n",
       "      <td>Thomson Reuters</td>\n",
       "      <td>5-8 Yrs</td>\n",
       "      <td>Bangalore/Bengaluru</td>\n",
       "    </tr>\n",
       "    <tr>\n",
       "      <th>4</th>\n",
       "      <td>Data Analyst / Business analyst - US MNC (anal...</td>\n",
       "      <td>Aspyra HR Services</td>\n",
       "      <td>2-7 Yrs</td>\n",
       "      <td>Bangalore/Bengaluru, Gurgaon/Gurugram, Delhi /...</td>\n",
       "    </tr>\n",
       "    <tr>\n",
       "      <th>5</th>\n",
       "      <td>Junior Data Analyst</td>\n",
       "      <td>ICF Next</td>\n",
       "      <td>1-6 Yrs</td>\n",
       "      <td>Bangalore/Bengaluru, New Delhi</td>\n",
       "    </tr>\n",
       "    <tr>\n",
       "      <th>6</th>\n",
       "      <td>Senior Data Analysis Analyst</td>\n",
       "      <td>Capco</td>\n",
       "      <td>7-12 Yrs</td>\n",
       "      <td>Bangalore/Bengaluru, Pune, Chennai</td>\n",
       "    </tr>\n",
       "    <tr>\n",
       "      <th>7</th>\n",
       "      <td>Data Analyst</td>\n",
       "      <td>Everest Fleet Pvt. Ltd.</td>\n",
       "      <td>3-8 Yrs</td>\n",
       "      <td>Bangalore/Bengaluru, Kolkata, Thane, Hyderabad...</td>\n",
       "    </tr>\n",
       "    <tr>\n",
       "      <th>8</th>\n",
       "      <td>Data Analyst</td>\n",
       "      <td>Thomson Reuters</td>\n",
       "      <td>2-3 Yrs</td>\n",
       "      <td>Bangalore/Bengaluru</td>\n",
       "    </tr>\n",
       "    <tr>\n",
       "      <th>9</th>\n",
       "      <td>Senior Data Analyst</td>\n",
       "      <td>Hudsons bay Company (HBC)</td>\n",
       "      <td>3-4 Yrs</td>\n",
       "      <td>Bangalore/Bengaluru</td>\n",
       "    </tr>\n",
       "  </tbody>\n",
       "</table>\n",
       "</div>"
      ],
      "text/plain": [
       "                                           Job Title  \\\n",
       "0                                     Data Analyst I   \n",
       "1  Data Science / Data Engineer / Business Analys...   \n",
       "2                           Sr.Business Data Analyst   \n",
       "3                                    Sr Data Analyst   \n",
       "4  Data Analyst / Business analyst - US MNC (anal...   \n",
       "5                                Junior Data Analyst   \n",
       "6                       Senior Data Analysis Analyst   \n",
       "7                                       Data Analyst   \n",
       "8                                       Data Analyst   \n",
       "9                                Senior Data Analyst   \n",
       "\n",
       "                                  Company Experience Reqd   \\\n",
       "0                                  Cerner         5-10 Yrs   \n",
       "1  NETWORTH DATA PRODUCTS PRIVATE LIMITED          0-3 Yrs   \n",
       "2                               Collabera         6-11 Yrs   \n",
       "3                         Thomson Reuters          5-8 Yrs   \n",
       "4                      Aspyra HR Services          2-7 Yrs   \n",
       "5                                ICF Next          1-6 Yrs   \n",
       "6                                   Capco         7-12 Yrs   \n",
       "7                 Everest Fleet Pvt. Ltd.          3-8 Yrs   \n",
       "8                         Thomson Reuters          2-3 Yrs   \n",
       "9               Hudsons bay Company (HBC)          3-4 Yrs   \n",
       "\n",
       "                                        Job Location  \n",
       "0                                Bangalore/Bengaluru  \n",
       "1                                Bangalore/Bengaluru  \n",
       "2                     Bangalore/Bengaluru, karnataka  \n",
       "3                                Bangalore/Bengaluru  \n",
       "4  Bangalore/Bengaluru, Gurgaon/Gurugram, Delhi /...  \n",
       "5                     Bangalore/Bengaluru, New Delhi  \n",
       "6                 Bangalore/Bengaluru, Pune, Chennai  \n",
       "7  Bangalore/Bengaluru, Kolkata, Thane, Hyderabad...  \n",
       "8                                Bangalore/Bengaluru  \n",
       "9                                Bangalore/Bengaluru  "
      ]
     },
     "execution_count": 138,
     "metadata": {},
     "output_type": "execute_result"
    }
   ],
   "source": [
    "jobs = pd.DataFrame({})\n",
    "jobs['Job Title'] = job_titles[:10:]\n",
    "jobs['Company'] = company_names[:10:]\n",
    "jobs['Experience Reqd '] = experience_list[:10:]\n",
    "jobs['Job Location'] = job_locations[:10:]\n",
    "\n",
    "jobs"
   ]
  },
  {
   "cell_type": "code",
   "execution_count": null,
   "id": "6205ce53",
   "metadata": {},
   "outputs": [],
   "source": []
  },
  {
   "cell_type": "markdown",
   "id": "3b504ba5",
   "metadata": {},
   "source": [
    "# Q2: Write a python program to scrape data for “Data Scientist” Job position in “Bangalore” location. "
   ]
  },
  {
   "cell_type": "code",
   "execution_count": 139,
   "id": "aa1e3904",
   "metadata": {},
   "outputs": [
    {
     "name": "stdout",
     "output_type": "stream",
     "text": [
      "Requirement already satisfied: selenium in ./opt/anaconda3/lib/python3.9/site-packages (4.2.0)\n",
      "Requirement already satisfied: urllib3[secure,socks]~=1.26 in ./opt/anaconda3/lib/python3.9/site-packages (from selenium) (1.26.10)\n",
      "Requirement already satisfied: trio~=0.17 in ./opt/anaconda3/lib/python3.9/site-packages (from selenium) (0.21.0)\n",
      "Requirement already satisfied: trio-websocket~=0.9 in ./opt/anaconda3/lib/python3.9/site-packages (from selenium) (0.9.2)\n",
      "Requirement already satisfied: attrs>=19.2.0 in ./opt/anaconda3/lib/python3.9/site-packages (from trio~=0.17->selenium) (21.4.0)\n",
      "Requirement already satisfied: sniffio in ./opt/anaconda3/lib/python3.9/site-packages (from trio~=0.17->selenium) (1.2.0)\n",
      "Requirement already satisfied: outcome in ./opt/anaconda3/lib/python3.9/site-packages (from trio~=0.17->selenium) (1.2.0)\n",
      "Requirement already satisfied: sortedcontainers in ./opt/anaconda3/lib/python3.9/site-packages (from trio~=0.17->selenium) (2.4.0)\n",
      "Requirement already satisfied: idna in ./opt/anaconda3/lib/python3.9/site-packages (from trio~=0.17->selenium) (3.3)\n",
      "Requirement already satisfied: async-generator>=1.9 in ./opt/anaconda3/lib/python3.9/site-packages (from trio~=0.17->selenium) (1.10)\n",
      "Requirement already satisfied: wsproto>=0.14 in ./opt/anaconda3/lib/python3.9/site-packages (from trio-websocket~=0.9->selenium) (1.1.0)\n",
      "Requirement already satisfied: certifi in ./opt/anaconda3/lib/python3.9/site-packages (from urllib3[secure,socks]~=1.26->selenium) (2022.6.15)\n",
      "Requirement already satisfied: cryptography>=1.3.4 in ./opt/anaconda3/lib/python3.9/site-packages (from urllib3[secure,socks]~=1.26->selenium) (37.0.4)\n",
      "Requirement already satisfied: pyOpenSSL>=0.14 in ./opt/anaconda3/lib/python3.9/site-packages (from urllib3[secure,socks]~=1.26->selenium) (22.0.0)\n",
      "Requirement already satisfied: PySocks!=1.5.7,<2.0,>=1.5.6 in ./opt/anaconda3/lib/python3.9/site-packages (from urllib3[secure,socks]~=1.26->selenium) (1.7.1)\n",
      "Requirement already satisfied: cffi>=1.12 in ./opt/anaconda3/lib/python3.9/site-packages (from cryptography>=1.3.4->urllib3[secure,socks]~=1.26->selenium) (1.15.1)\n",
      "Requirement already satisfied: pycparser in ./opt/anaconda3/lib/python3.9/site-packages (from cffi>=1.12->cryptography>=1.3.4->urllib3[secure,socks]~=1.26->selenium) (2.21)\n",
      "Requirement already satisfied: h11<1,>=0.9.0 in ./opt/anaconda3/lib/python3.9/site-packages (from wsproto>=0.14->trio-websocket~=0.9->selenium) (0.13.0)\n"
     ]
    }
   ],
   "source": [
    "! pip install selenium"
   ]
  },
  {
   "cell_type": "code",
   "execution_count": 140,
   "id": "f293dc0e",
   "metadata": {},
   "outputs": [],
   "source": [
    "import selenium\n",
    "import pandas as pd\n",
    "from selenium import webdriver\n",
    "import warnings\n",
    "warnings.filterwarnings(\"ignore\")\n",
    "import time"
   ]
  },
  {
   "cell_type": "code",
   "execution_count": 141,
   "id": "28e1e7f3",
   "metadata": {},
   "outputs": [],
   "source": [
    "driver = webdriver.Chrome('/Users/aryanlohan/downloads/chromedriver')"
   ]
  },
  {
   "cell_type": "code",
   "execution_count": 142,
   "id": "a92ec755",
   "metadata": {},
   "outputs": [],
   "source": [
    "driver.get('https://www.naukri.com')"
   ]
  },
  {
   "cell_type": "code",
   "execution_count": 143,
   "id": "8c045861",
   "metadata": {},
   "outputs": [],
   "source": [
    "search_field_designation = driver.find_element_by_class_name(\"suggestor-input \")\n",
    "search_field_designation.send_keys(\"Data Scientist\")"
   ]
  },
  {
   "cell_type": "code",
   "execution_count": 144,
   "id": "f794d568",
   "metadata": {},
   "outputs": [],
   "source": [
    "search_field_location = driver.find_element_by_xpath(\"/html/body/div/div[2]/div[3]/div/div/div[5]/div/div/div/input\")\n",
    "search_field_location.send_keys(\"Bangalore\")"
   ]
  },
  {
   "cell_type": "code",
   "execution_count": 145,
   "id": "34379e15",
   "metadata": {},
   "outputs": [],
   "source": [
    "search_button = driver.find_element_by_xpath(\"/html/body/div/div[2]/div[3]/div/div/div[6]\")\n",
    "search_button.click()"
   ]
  },
  {
   "cell_type": "code",
   "execution_count": 146,
   "id": "132fc4a2",
   "metadata": {},
   "outputs": [],
   "source": [
    "job_titles = []\n",
    "company_names = []\n",
    "locations_list = []"
   ]
  },
  {
   "cell_type": "code",
   "execution_count": 147,
   "id": "e5548f3c",
   "metadata": {},
   "outputs": [
    {
     "data": {
      "text/plain": [
       "[<selenium.webdriver.remote.webelement.WebElement (session=\"6cfe1919f4e5b5c4cd48deb9f01eb9c0\", element=\"1b1a178a-332b-41cc-8b03-7ab14220a161\")>,\n",
       " <selenium.webdriver.remote.webelement.WebElement (session=\"6cfe1919f4e5b5c4cd48deb9f01eb9c0\", element=\"730de169-b194-4d28-bd0a-3daa010ea4bb\")>,\n",
       " <selenium.webdriver.remote.webelement.WebElement (session=\"6cfe1919f4e5b5c4cd48deb9f01eb9c0\", element=\"23c82f06-04ed-442e-9062-be78e4870cb8\")>,\n",
       " <selenium.webdriver.remote.webelement.WebElement (session=\"6cfe1919f4e5b5c4cd48deb9f01eb9c0\", element=\"a7cf19ff-2671-4ba9-9704-3599081e7441\")>]"
      ]
     },
     "execution_count": 147,
     "metadata": {},
     "output_type": "execute_result"
    }
   ],
   "source": [
    "titles_tag = driver.find_elements_by_xpath(\"//a[@class='title fw500 ellipsis']\") \n",
    "titles_tag[0:4]"
   ]
  },
  {
   "cell_type": "code",
   "execution_count": 148,
   "id": "156ec300",
   "metadata": {},
   "outputs": [
    {
     "data": {
      "text/plain": [
       "['Urgent Job Opening For AI Practitioner - Data Science at Wipro Holmes',\n",
       " 'Hiring For Senior Data Scientist',\n",
       " 'Senior Data Scientist',\n",
       " 'Dataiku Consultant']"
      ]
     },
     "execution_count": 148,
     "metadata": {},
     "output_type": "execute_result"
    }
   ],
   "source": [
    "for i in titles_tag:\n",
    "    title = i.text \n",
    "    job_titles.append(title)\n",
    "job_titles[0:4]"
   ]
  },
  {
   "cell_type": "code",
   "execution_count": 149,
   "id": "5ae5b004",
   "metadata": {},
   "outputs": [
    {
     "data": {
      "text/plain": [
       "[<selenium.webdriver.remote.webelement.WebElement (session=\"6cfe1919f4e5b5c4cd48deb9f01eb9c0\", element=\"69d79984-859e-456a-a81f-fc0ec3e02ce5\")>,\n",
       " <selenium.webdriver.remote.webelement.WebElement (session=\"6cfe1919f4e5b5c4cd48deb9f01eb9c0\", element=\"818d9172-5bd0-4c1c-8451-07402fb173e3\")>,\n",
       " <selenium.webdriver.remote.webelement.WebElement (session=\"6cfe1919f4e5b5c4cd48deb9f01eb9c0\", element=\"d3b4f604-c808-46ba-bb7d-9a4ef0c03c6c\")>,\n",
       " <selenium.webdriver.remote.webelement.WebElement (session=\"6cfe1919f4e5b5c4cd48deb9f01eb9c0\", element=\"426b76cc-3f61-4841-adc3-f88f258faf0e\")>]"
      ]
     },
     "execution_count": 149,
     "metadata": {},
     "output_type": "execute_result"
    }
   ],
   "source": [
    "companies_tag = driver.find_elements_by_xpath(\"//a[@class='subTitle ellipsis fleft']\") \n",
    "companies_tag[0:4]"
   ]
  },
  {
   "cell_type": "code",
   "execution_count": 150,
   "id": "056e7ce3",
   "metadata": {},
   "outputs": [
    {
     "data": {
      "text/plain": [
       "['Wipro', 'TATA CONSULTANCY SERVICES (TCS)', 'Spiceworks', 'Wipro']"
      ]
     },
     "execution_count": 150,
     "metadata": {},
     "output_type": "execute_result"
    }
   ],
   "source": [
    "for i in companies_tag:\n",
    "    company_name = i.text\n",
    "    company_names.append(company_name)\n",
    "company_names[0:4]"
   ]
  },
  {
   "cell_type": "code",
   "execution_count": 151,
   "id": "acb9094a",
   "metadata": {},
   "outputs": [
    {
     "data": {
      "text/plain": [
       "[<selenium.webdriver.remote.webelement.WebElement (session=\"6cfe1919f4e5b5c4cd48deb9f01eb9c0\", element=\"e4152897-8c50-4efa-bc20-b734189e0e97\")>,\n",
       " <selenium.webdriver.remote.webelement.WebElement (session=\"6cfe1919f4e5b5c4cd48deb9f01eb9c0\", element=\"f1eea2e5-c1b1-4eae-8a4a-9c05cd233eb8\")>,\n",
       " <selenium.webdriver.remote.webelement.WebElement (session=\"6cfe1919f4e5b5c4cd48deb9f01eb9c0\", element=\"36327f3d-f9f4-4cbb-a5b5-c197828a5598\")>,\n",
       " <selenium.webdriver.remote.webelement.WebElement (session=\"6cfe1919f4e5b5c4cd48deb9f01eb9c0\", element=\"8945617a-7365-4eb1-b25f-a8345de04715\")>]"
      ]
     },
     "execution_count": 151,
     "metadata": {},
     "output_type": "execute_result"
    }
   ],
   "source": [
    "location_tag = driver.find_elements_by_xpath(\"//li[@class='fleft grey-text br2 placeHolderLi location']/span[1]\") \n",
    "location_tag[0:4] "
   ]
  },
  {
   "cell_type": "code",
   "execution_count": 152,
   "id": "b4955300",
   "metadata": {},
   "outputs": [
    {
     "data": {
      "text/plain": [
       "['Bangalore/Bengaluru, Kochi/Cochin, New Delhi, Coimbatore, Chennai, Pune, Mumbai, Hyderabad',\n",
       " 'Bangalore/Bengaluru, Pune',\n",
       " 'Bangalore/Bengaluru, Mumbai, Hyderabad/Secunderabad, Pune, REMOTE',\n",
       " 'Bangalore/Bengaluru, Pune, Chennai']"
      ]
     },
     "execution_count": 152,
     "metadata": {},
     "output_type": "execute_result"
    }
   ],
   "source": [
    "for i in location_tag:\n",
    "    location = i.text \n",
    "    locations_list.append(location)\n",
    "locations_list[0:4]"
   ]
  },
  {
   "cell_type": "code",
   "execution_count": 153,
   "id": "071d1784",
   "metadata": {},
   "outputs": [
    {
     "name": "stdout",
     "output_type": "stream",
     "text": [
      "20 20 20\n"
     ]
    }
   ],
   "source": [
    "print(len(job_titles), len(company_names), len(locations_list))"
   ]
  },
  {
   "cell_type": "code",
   "execution_count": 154,
   "id": "0a5cbef4",
   "metadata": {},
   "outputs": [
    {
     "data": {
      "text/html": [
       "<div>\n",
       "<style scoped>\n",
       "    .dataframe tbody tr th:only-of-type {\n",
       "        vertical-align: middle;\n",
       "    }\n",
       "\n",
       "    .dataframe tbody tr th {\n",
       "        vertical-align: top;\n",
       "    }\n",
       "\n",
       "    .dataframe thead th {\n",
       "        text-align: right;\n",
       "    }\n",
       "</style>\n",
       "<table border=\"1\" class=\"dataframe\">\n",
       "  <thead>\n",
       "    <tr style=\"text-align: right;\">\n",
       "      <th></th>\n",
       "      <th>Job Title</th>\n",
       "      <th>Company</th>\n",
       "      <th>Job Location</th>\n",
       "    </tr>\n",
       "  </thead>\n",
       "  <tbody>\n",
       "    <tr>\n",
       "      <th>0</th>\n",
       "      <td>Urgent Job Opening For AI Practitioner - Data ...</td>\n",
       "      <td>Wipro</td>\n",
       "      <td>Bangalore/Bengaluru, Kochi/Cochin, New Delhi, ...</td>\n",
       "    </tr>\n",
       "    <tr>\n",
       "      <th>1</th>\n",
       "      <td>Hiring For Senior Data Scientist</td>\n",
       "      <td>TATA CONSULTANCY SERVICES (TCS)</td>\n",
       "      <td>Bangalore/Bengaluru, Pune</td>\n",
       "    </tr>\n",
       "    <tr>\n",
       "      <th>2</th>\n",
       "      <td>Senior Data Scientist</td>\n",
       "      <td>Spiceworks</td>\n",
       "      <td>Bangalore/Bengaluru, Mumbai, Hyderabad/Secunde...</td>\n",
       "    </tr>\n",
       "    <tr>\n",
       "      <th>3</th>\n",
       "      <td>Dataiku Consultant</td>\n",
       "      <td>Wipro</td>\n",
       "      <td>Bangalore/Bengaluru, Pune, Chennai</td>\n",
       "    </tr>\n",
       "    <tr>\n",
       "      <th>4</th>\n",
       "      <td>Research and Development -AI/ML -(PhD )</td>\n",
       "      <td>EXL</td>\n",
       "      <td>Bangalore/Bengaluru, Noida, Hyderabad/Secunder...</td>\n",
       "    </tr>\n",
       "    <tr>\n",
       "      <th>5</th>\n",
       "      <td>Opportunity For Data Scientist - Female Candid...</td>\n",
       "      <td>PayU</td>\n",
       "      <td>Bangalore/Bengaluru, Gurgaon/Gurugram, Mumbai ...</td>\n",
       "    </tr>\n",
       "    <tr>\n",
       "      <th>6</th>\n",
       "      <td>Senior Data Science Engineer</td>\n",
       "      <td>Fractal Analytics</td>\n",
       "      <td>Bangalore/Bengaluru, Gurgaon/Gurugram, Mumbai ...</td>\n",
       "    </tr>\n",
       "    <tr>\n",
       "      <th>7</th>\n",
       "      <td>Data Science - Engineering Manager</td>\n",
       "      <td>Paytm</td>\n",
       "      <td>Bangalore/Bengaluru, Noida, Mumbai</td>\n",
       "    </tr>\n",
       "    <tr>\n",
       "      <th>8</th>\n",
       "      <td>Data Scientist</td>\n",
       "      <td>Applied Materials</td>\n",
       "      <td>Bangalore/Bengaluru</td>\n",
       "    </tr>\n",
       "    <tr>\n",
       "      <th>9</th>\n",
       "      <td>Data &amp; Analytics Tech - Informatica Cloud- Sen...</td>\n",
       "      <td>PwC</td>\n",
       "      <td>Bangalore/Bengaluru</td>\n",
       "    </tr>\n",
       "  </tbody>\n",
       "</table>\n",
       "</div>"
      ],
      "text/plain": [
       "                                           Job Title  \\\n",
       "0  Urgent Job Opening For AI Practitioner - Data ...   \n",
       "1                   Hiring For Senior Data Scientist   \n",
       "2                              Senior Data Scientist   \n",
       "3                                 Dataiku Consultant   \n",
       "4            Research and Development -AI/ML -(PhD )   \n",
       "5  Opportunity For Data Scientist - Female Candid...   \n",
       "6                       Senior Data Science Engineer   \n",
       "7                 Data Science - Engineering Manager   \n",
       "8                                     Data Scientist   \n",
       "9  Data & Analytics Tech - Informatica Cloud- Sen...   \n",
       "\n",
       "                           Company  \\\n",
       "0                            Wipro   \n",
       "1  TATA CONSULTANCY SERVICES (TCS)   \n",
       "2                       Spiceworks   \n",
       "3                            Wipro   \n",
       "4                              EXL   \n",
       "5                             PayU   \n",
       "6                Fractal Analytics   \n",
       "7                            Paytm   \n",
       "8                Applied Materials   \n",
       "9                              PwC   \n",
       "\n",
       "                                        Job Location  \n",
       "0  Bangalore/Bengaluru, Kochi/Cochin, New Delhi, ...  \n",
       "1                          Bangalore/Bengaluru, Pune  \n",
       "2  Bangalore/Bengaluru, Mumbai, Hyderabad/Secunde...  \n",
       "3                 Bangalore/Bengaluru, Pune, Chennai  \n",
       "4  Bangalore/Bengaluru, Noida, Hyderabad/Secunder...  \n",
       "5  Bangalore/Bengaluru, Gurgaon/Gurugram, Mumbai ...  \n",
       "6  Bangalore/Bengaluru, Gurgaon/Gurugram, Mumbai ...  \n",
       "7                 Bangalore/Bengaluru, Noida, Mumbai  \n",
       "8                                Bangalore/Bengaluru  \n",
       "9                                Bangalore/Bengaluru  "
      ]
     },
     "execution_count": 154,
     "metadata": {},
     "output_type": "execute_result"
    }
   ],
   "source": [
    "jobs = pd.DataFrame({})\n",
    "jobs['Job Title'] = job_titles[:10:]\n",
    "jobs['Company'] = company_names[:10:]\n",
    "jobs['Job Location'] = locations_list[:10:]\n",
    "\n",
    "jobs"
   ]
  },
  {
   "cell_type": "code",
   "execution_count": null,
   "id": "25042ab2",
   "metadata": {},
   "outputs": [],
   "source": []
  },
  {
   "cell_type": "markdown",
   "id": "17635372",
   "metadata": {},
   "source": [
    "# Q3: In this question you have to scrape data using the filters available on the webpage as shown below:"
   ]
  },
  {
   "cell_type": "code",
   "execution_count": 155,
   "id": "98c52170",
   "metadata": {},
   "outputs": [],
   "source": [
    "import selenium\n",
    "import pandas as pd\n",
    "from selenium import webdriver\n",
    "import warnings\n",
    "warnings.filterwarnings(\"ignore\")\n",
    "import time"
   ]
  },
  {
   "cell_type": "code",
   "execution_count": 156,
   "id": "c94ffc21",
   "metadata": {},
   "outputs": [],
   "source": [
    "driver = webdriver.Chrome('/Users/aryanlohan/downloads/chromedriver')"
   ]
  },
  {
   "cell_type": "code",
   "execution_count": 157,
   "id": "f044a11f",
   "metadata": {},
   "outputs": [],
   "source": [
    "driver.get('https://www.naukri.com')"
   ]
  },
  {
   "cell_type": "code",
   "execution_count": 158,
   "id": "48c29fa5",
   "metadata": {},
   "outputs": [],
   "source": [
    "search_field_designation = driver.find_element_by_class_name(\"suggestor-input \")\n",
    "search_field_designation.send_keys(\"Data Scientist\")"
   ]
  },
  {
   "cell_type": "code",
   "execution_count": 159,
   "id": "44640059",
   "metadata": {},
   "outputs": [],
   "source": [
    "search_button = driver.find_element_by_xpath(\"/html/body/div/div[2]/div[3]/div/div/div[6]\")\n",
    "search_button.click()"
   ]
  },
  {
   "cell_type": "code",
   "execution_count": 175,
   "id": "87ef3798",
   "metadata": {},
   "outputs": [],
   "source": [
    "salary_checkbox = driver.find_element_by_xpath(\"/html/body/div[1]/div[3]/div[2]/section[1]/div[2]/div[6]/div[2]/div[2]/label/i\")\n",
    "salary_checkbox.click()\n"
   ]
  },
  {
   "cell_type": "code",
   "execution_count": 176,
   "id": "392445a9",
   "metadata": {},
   "outputs": [],
   "source": [
    "job_titles = []\n",
    "company_names = []\n",
    "locations_list = []\n",
    "experience_list = []"
   ]
  },
  {
   "cell_type": "code",
   "execution_count": 177,
   "id": "0904e962",
   "metadata": {},
   "outputs": [
    {
     "data": {
      "text/plain": [
       "[<selenium.webdriver.remote.webelement.WebElement (session=\"bed7483dbef5245c1e44eb76185517e4\", element=\"d25687c5-5bc1-46dc-a017-7f64efa06690\")>,\n",
       " <selenium.webdriver.remote.webelement.WebElement (session=\"bed7483dbef5245c1e44eb76185517e4\", element=\"d991b22e-2887-4a1c-9cc2-e39b69b011b4\")>,\n",
       " <selenium.webdriver.remote.webelement.WebElement (session=\"bed7483dbef5245c1e44eb76185517e4\", element=\"a2709607-648c-4e31-bb2e-9ad71fc7cbf5\")>,\n",
       " <selenium.webdriver.remote.webelement.WebElement (session=\"bed7483dbef5245c1e44eb76185517e4\", element=\"1625d96d-8766-4ccc-aa96-a2fb9f743329\")>]"
      ]
     },
     "execution_count": 177,
     "metadata": {},
     "output_type": "execute_result"
    }
   ],
   "source": [
    "titles_tag = driver.find_elements_by_xpath(\"//a[@class='title fw500 ellipsis']\") \n",
    "titles_tag[0:4]"
   ]
  },
  {
   "cell_type": "code",
   "execution_count": 178,
   "id": "db3ae639",
   "metadata": {},
   "outputs": [
    {
     "data": {
      "text/plain": [
       "['DigitalBCG GAMMA Data Scientist',\n",
       " 'Data Scientist - IN3',\n",
       " 'Artificial Intelligence, Virtual Reality Developer - L1',\n",
       " 'Data Scientist - Noida/Bangalore']"
      ]
     },
     "execution_count": 178,
     "metadata": {},
     "output_type": "execute_result"
    }
   ],
   "source": [
    "for i in titles_tag:\n",
    "    title = i.text \n",
    "    job_titles.append(title)\n",
    "job_titles[0:4]"
   ]
  },
  {
   "cell_type": "code",
   "execution_count": 179,
   "id": "3c70eb49",
   "metadata": {},
   "outputs": [
    {
     "data": {
      "text/plain": [
       "[<selenium.webdriver.remote.webelement.WebElement (session=\"bed7483dbef5245c1e44eb76185517e4\", element=\"f3e00d92-2ace-4390-ada9-514d3c6036a8\")>,\n",
       " <selenium.webdriver.remote.webelement.WebElement (session=\"bed7483dbef5245c1e44eb76185517e4\", element=\"46cf40b9-b3bb-4232-bedb-22067025ff6d\")>,\n",
       " <selenium.webdriver.remote.webelement.WebElement (session=\"bed7483dbef5245c1e44eb76185517e4\", element=\"2abf5ebf-d2ea-4609-9166-09b1f5f9d45e\")>,\n",
       " <selenium.webdriver.remote.webelement.WebElement (session=\"bed7483dbef5245c1e44eb76185517e4\", element=\"fe477c1c-e59a-4432-8447-d7d07bf77615\")>]"
      ]
     },
     "execution_count": 179,
     "metadata": {},
     "output_type": "execute_result"
    }
   ],
   "source": [
    "companies_tag = driver.find_elements_by_xpath(\"//a[@class='subTitle ellipsis fleft']\") \n",
    "companies_tag[0:4]"
   ]
  },
  {
   "cell_type": "code",
   "execution_count": 180,
   "id": "a3d9b7fd",
   "metadata": {},
   "outputs": [
    {
     "data": {
      "text/plain": [
       "['Boston Consulting Group', 'Walmart', 'ATG Business Solutions', 'EXL']"
      ]
     },
     "execution_count": 180,
     "metadata": {},
     "output_type": "execute_result"
    }
   ],
   "source": [
    "for i in companies_tag:\n",
    "    company_name = i.text\n",
    "    company_names.append(company_name)\n",
    "company_names[0:4]"
   ]
  },
  {
   "cell_type": "code",
   "execution_count": 181,
   "id": "f45a72ad",
   "metadata": {},
   "outputs": [
    {
     "data": {
      "text/plain": [
       "[<selenium.webdriver.remote.webelement.WebElement (session=\"bed7483dbef5245c1e44eb76185517e4\", element=\"ae24fd0d-c937-4396-8ce2-0139e31255a2\")>,\n",
       " <selenium.webdriver.remote.webelement.WebElement (session=\"bed7483dbef5245c1e44eb76185517e4\", element=\"db4c9c8b-4428-447d-aa48-27d9da00860c\")>,\n",
       " <selenium.webdriver.remote.webelement.WebElement (session=\"bed7483dbef5245c1e44eb76185517e4\", element=\"2c60765c-7d65-46a2-99ed-6ce603411174\")>,\n",
       " <selenium.webdriver.remote.webelement.WebElement (session=\"bed7483dbef5245c1e44eb76185517e4\", element=\"8d892cd6-b78a-48a4-a55b-4348314a1588\")>]"
      ]
     },
     "execution_count": 181,
     "metadata": {},
     "output_type": "execute_result"
    }
   ],
   "source": [
    "experience_tag = driver.find_elements_by_xpath(\"//li[@class='fleft grey-text br2 placeHolderLi experience']/span\") \n",
    "experience_tag[0:4]"
   ]
  },
  {
   "cell_type": "code",
   "execution_count": 182,
   "id": "bd18d9b7",
   "metadata": {},
   "outputs": [
    {
     "data": {
      "text/plain": [
       "['2-5 Yrs', '2-5 Yrs', '1-5 Yrs', '5-10 Yrs']"
      ]
     },
     "execution_count": 182,
     "metadata": {},
     "output_type": "execute_result"
    }
   ],
   "source": [
    "for i in experience_tag:\n",
    "    experience = i.text \n",
    "    experience_list.append(experience)\n",
    "experience_list[0:4]"
   ]
  },
  {
   "cell_type": "code",
   "execution_count": 183,
   "id": "71993f76",
   "metadata": {},
   "outputs": [
    {
     "data": {
      "text/plain": [
       "[<selenium.webdriver.remote.webelement.WebElement (session=\"bed7483dbef5245c1e44eb76185517e4\", element=\"d337dd58-952a-4038-9d8a-352dc941d70b\")>,\n",
       " <selenium.webdriver.remote.webelement.WebElement (session=\"bed7483dbef5245c1e44eb76185517e4\", element=\"bf716f29-0b8b-47e2-b42e-d173908b4099\")>,\n",
       " <selenium.webdriver.remote.webelement.WebElement (session=\"bed7483dbef5245c1e44eb76185517e4\", element=\"59949992-ee58-419f-99f2-4f1b928836c5\")>,\n",
       " <selenium.webdriver.remote.webelement.WebElement (session=\"bed7483dbef5245c1e44eb76185517e4\", element=\"a686af8c-ecf2-48a0-b3aa-c353861d2a64\")>]"
      ]
     },
     "execution_count": 183,
     "metadata": {},
     "output_type": "execute_result"
    }
   ],
   "source": [
    "location_tag = driver.find_elements_by_xpath(\"//li[@class='fleft grey-text br2 placeHolderLi location']/span[1]\")\n",
    "location_tag[0:4]"
   ]
  },
  {
   "cell_type": "code",
   "execution_count": 184,
   "id": "82e98c27",
   "metadata": {},
   "outputs": [
    {
     "data": {
      "text/plain": [
       "['New Delhi, Bangalore/Bengaluru',\n",
       " 'Bangalore/Bengaluru',\n",
       " 'Mumbai, Hyderabad/Secunderabad, Bangalore/Bengaluru',\n",
       " 'Noida, Bangalore/Bengaluru']"
      ]
     },
     "execution_count": 184,
     "metadata": {},
     "output_type": "execute_result"
    }
   ],
   "source": [
    "for i in location_tag:\n",
    "    location = i.text \n",
    "    locations_list.append(location)\n",
    "locations_list[0:4]"
   ]
  },
  {
   "cell_type": "code",
   "execution_count": 185,
   "id": "79e5dec0",
   "metadata": {},
   "outputs": [
    {
     "data": {
      "text/html": [
       "<div>\n",
       "<style scoped>\n",
       "    .dataframe tbody tr th:only-of-type {\n",
       "        vertical-align: middle;\n",
       "    }\n",
       "\n",
       "    .dataframe tbody tr th {\n",
       "        vertical-align: top;\n",
       "    }\n",
       "\n",
       "    .dataframe thead th {\n",
       "        text-align: right;\n",
       "    }\n",
       "</style>\n",
       "<table border=\"1\" class=\"dataframe\">\n",
       "  <thead>\n",
       "    <tr style=\"text-align: right;\">\n",
       "      <th></th>\n",
       "      <th>Job Title</th>\n",
       "      <th>Company</th>\n",
       "      <th>Experience Reqd</th>\n",
       "      <th>Job Location</th>\n",
       "    </tr>\n",
       "  </thead>\n",
       "  <tbody>\n",
       "    <tr>\n",
       "      <th>0</th>\n",
       "      <td>DigitalBCG GAMMA Data Scientist</td>\n",
       "      <td>Boston Consulting Group</td>\n",
       "      <td>2-5 Yrs</td>\n",
       "      <td>New Delhi, Bangalore/Bengaluru</td>\n",
       "    </tr>\n",
       "    <tr>\n",
       "      <th>1</th>\n",
       "      <td>Data Scientist - IN3</td>\n",
       "      <td>Walmart</td>\n",
       "      <td>2-5 Yrs</td>\n",
       "      <td>Bangalore/Bengaluru</td>\n",
       "    </tr>\n",
       "    <tr>\n",
       "      <th>2</th>\n",
       "      <td>Artificial Intelligence, Virtual Reality Devel...</td>\n",
       "      <td>ATG Business Solutions</td>\n",
       "      <td>1-5 Yrs</td>\n",
       "      <td>Mumbai, Hyderabad/Secunderabad, Bangalore/Beng...</td>\n",
       "    </tr>\n",
       "    <tr>\n",
       "      <th>3</th>\n",
       "      <td>Data Scientist - Noida/Bangalore</td>\n",
       "      <td>EXL</td>\n",
       "      <td>5-10 Yrs</td>\n",
       "      <td>Noida, Bangalore/Bengaluru</td>\n",
       "    </tr>\n",
       "    <tr>\n",
       "      <th>4</th>\n",
       "      <td>Data Scientist</td>\n",
       "      <td>Applied Materials</td>\n",
       "      <td>2-4 Yrs</td>\n",
       "      <td>Bangalore/Bengaluru</td>\n",
       "    </tr>\n",
       "    <tr>\n",
       "      <th>5</th>\n",
       "      <td>Data Scientist</td>\n",
       "      <td>Applied Materials</td>\n",
       "      <td>4-7 Yrs</td>\n",
       "      <td>Bangalore/Bengaluru</td>\n",
       "    </tr>\n",
       "    <tr>\n",
       "      <th>6</th>\n",
       "      <td>DATA Scientist with Fraud Analytics Experience</td>\n",
       "      <td>Concentrix</td>\n",
       "      <td>2-4 Yrs</td>\n",
       "      <td>Bangalore/Bengaluru</td>\n",
       "    </tr>\n",
       "    <tr>\n",
       "      <th>7</th>\n",
       "      <td>Data Scientist</td>\n",
       "      <td>Infosys</td>\n",
       "      <td>2-7 Yrs</td>\n",
       "      <td>Bangalore/Bengaluru</td>\n",
       "    </tr>\n",
       "    <tr>\n",
       "      <th>8</th>\n",
       "      <td>Machine Learning Engineer</td>\n",
       "      <td>FACTSET SYSTEMS INDIA PVT LTD</td>\n",
       "      <td>2-5 Yrs</td>\n",
       "      <td>Hyderabad/Secunderabad</td>\n",
       "    </tr>\n",
       "    <tr>\n",
       "      <th>9</th>\n",
       "      <td>Senior Associate - Data Science</td>\n",
       "      <td>Black Turtle</td>\n",
       "      <td>4-7 Yrs</td>\n",
       "      <td>Mumbai, Hyderabad/Secunderabad, Gurgaon/Gurugr...</td>\n",
       "    </tr>\n",
       "  </tbody>\n",
       "</table>\n",
       "</div>"
      ],
      "text/plain": [
       "                                           Job Title  \\\n",
       "0                    DigitalBCG GAMMA Data Scientist   \n",
       "1                               Data Scientist - IN3   \n",
       "2  Artificial Intelligence, Virtual Reality Devel...   \n",
       "3                   Data Scientist - Noida/Bangalore   \n",
       "4                                     Data Scientist   \n",
       "5                                     Data Scientist   \n",
       "6     DATA Scientist with Fraud Analytics Experience   \n",
       "7                                     Data Scientist   \n",
       "8                          Machine Learning Engineer   \n",
       "9                    Senior Associate - Data Science   \n",
       "\n",
       "                         Company Experience Reqd   \\\n",
       "0        Boston Consulting Group          2-5 Yrs   \n",
       "1                        Walmart          2-5 Yrs   \n",
       "2         ATG Business Solutions          1-5 Yrs   \n",
       "3                            EXL         5-10 Yrs   \n",
       "4              Applied Materials          2-4 Yrs   \n",
       "5              Applied Materials          4-7 Yrs   \n",
       "6                     Concentrix          2-4 Yrs   \n",
       "7                        Infosys          2-7 Yrs   \n",
       "8  FACTSET SYSTEMS INDIA PVT LTD          2-5 Yrs   \n",
       "9                   Black Turtle          4-7 Yrs   \n",
       "\n",
       "                                        Job Location  \n",
       "0                     New Delhi, Bangalore/Bengaluru  \n",
       "1                                Bangalore/Bengaluru  \n",
       "2  Mumbai, Hyderabad/Secunderabad, Bangalore/Beng...  \n",
       "3                         Noida, Bangalore/Bengaluru  \n",
       "4                                Bangalore/Bengaluru  \n",
       "5                                Bangalore/Bengaluru  \n",
       "6                                Bangalore/Bengaluru  \n",
       "7                                Bangalore/Bengaluru  \n",
       "8                             Hyderabad/Secunderabad  \n",
       "9  Mumbai, Hyderabad/Secunderabad, Gurgaon/Gurugr...  "
      ]
     },
     "execution_count": 185,
     "metadata": {},
     "output_type": "execute_result"
    }
   ],
   "source": [
    "jobs = pd.DataFrame({})\n",
    "jobs['Job Title'] = job_titles[:10:]\n",
    "jobs['Company'] = company_names[:10:]\n",
    "jobs['Experience Reqd '] = experience_list[:10:]\n",
    "jobs['Job Location'] = locations_list[:10:]\n",
    "\n",
    "jobs"
   ]
  },
  {
   "cell_type": "markdown",
   "id": "695dbb17",
   "metadata": {},
   "source": [
    "# Q4: Scrape data of first 100 sunglasses listings on flipkart.com. You have to scrape four attributes:"
   ]
  },
  {
   "cell_type": "code",
   "execution_count": 186,
   "id": "ddb60d4c",
   "metadata": {},
   "outputs": [
    {
     "name": "stdout",
     "output_type": "stream",
     "text": [
      "Requirement already satisfied: selenium in ./opt/anaconda3/lib/python3.9/site-packages (4.2.0)\n",
      "Requirement already satisfied: urllib3[secure,socks]~=1.26 in ./opt/anaconda3/lib/python3.9/site-packages (from selenium) (1.26.10)\n",
      "Requirement already satisfied: trio~=0.17 in ./opt/anaconda3/lib/python3.9/site-packages (from selenium) (0.21.0)\n",
      "Requirement already satisfied: trio-websocket~=0.9 in ./opt/anaconda3/lib/python3.9/site-packages (from selenium) (0.9.2)\n",
      "Requirement already satisfied: async-generator>=1.9 in ./opt/anaconda3/lib/python3.9/site-packages (from trio~=0.17->selenium) (1.10)\n",
      "Requirement already satisfied: idna in ./opt/anaconda3/lib/python3.9/site-packages (from trio~=0.17->selenium) (3.3)\n",
      "Requirement already satisfied: outcome in ./opt/anaconda3/lib/python3.9/site-packages (from trio~=0.17->selenium) (1.2.0)\n",
      "Requirement already satisfied: sniffio in ./opt/anaconda3/lib/python3.9/site-packages (from trio~=0.17->selenium) (1.2.0)\n",
      "Requirement already satisfied: attrs>=19.2.0 in ./opt/anaconda3/lib/python3.9/site-packages (from trio~=0.17->selenium) (21.4.0)\n",
      "Requirement already satisfied: sortedcontainers in ./opt/anaconda3/lib/python3.9/site-packages (from trio~=0.17->selenium) (2.4.0)\n",
      "Requirement already satisfied: wsproto>=0.14 in ./opt/anaconda3/lib/python3.9/site-packages (from trio-websocket~=0.9->selenium) (1.1.0)\n",
      "Requirement already satisfied: PySocks!=1.5.7,<2.0,>=1.5.6 in ./opt/anaconda3/lib/python3.9/site-packages (from urllib3[secure,socks]~=1.26->selenium) (1.7.1)\n",
      "Requirement already satisfied: pyOpenSSL>=0.14 in ./opt/anaconda3/lib/python3.9/site-packages (from urllib3[secure,socks]~=1.26->selenium) (22.0.0)\n",
      "Requirement already satisfied: cryptography>=1.3.4 in ./opt/anaconda3/lib/python3.9/site-packages (from urllib3[secure,socks]~=1.26->selenium) (37.0.4)\n",
      "Requirement already satisfied: certifi in ./opt/anaconda3/lib/python3.9/site-packages (from urllib3[secure,socks]~=1.26->selenium) (2022.6.15)\n",
      "Requirement already satisfied: cffi>=1.12 in ./opt/anaconda3/lib/python3.9/site-packages (from cryptography>=1.3.4->urllib3[secure,socks]~=1.26->selenium) (1.15.1)\n",
      "Requirement already satisfied: pycparser in ./opt/anaconda3/lib/python3.9/site-packages (from cffi>=1.12->cryptography>=1.3.4->urllib3[secure,socks]~=1.26->selenium) (2.21)\n",
      "Requirement already satisfied: h11<1,>=0.9.0 in ./opt/anaconda3/lib/python3.9/site-packages (from wsproto>=0.14->trio-websocket~=0.9->selenium) (0.13.0)\n"
     ]
    }
   ],
   "source": [
    "! pip install selenium"
   ]
  },
  {
   "cell_type": "code",
   "execution_count": 187,
   "id": "82c65a55",
   "metadata": {},
   "outputs": [],
   "source": [
    "import selenium\n",
    "import pandas as pd\n",
    "from selenium import webdriver\n",
    "import warnings\n",
    "warnings.filterwarnings(\"ignore\")\n",
    "import time"
   ]
  },
  {
   "cell_type": "code",
   "execution_count": 188,
   "id": "dd8fa5db",
   "metadata": {},
   "outputs": [],
   "source": [
    "driver = webdriver.Chrome('/Users/aryanlohan/downloads/chromedriver')"
   ]
  },
  {
   "cell_type": "code",
   "execution_count": 189,
   "id": "b22fb095",
   "metadata": {},
   "outputs": [],
   "source": [
    "driver.get('https://www.flipkart.com')"
   ]
  },
  {
   "cell_type": "code",
   "execution_count": 190,
   "id": "5fa3111d",
   "metadata": {},
   "outputs": [],
   "source": [
    "try:\n",
    "    button = driver.find_element_by_xpath(\"//button[@class='_2KpZ6l _2doB4z']\")\n",
    "    button.click()\n",
    "except:\n",
    "    pass"
   ]
  },
  {
   "cell_type": "code",
   "execution_count": 191,
   "id": "6d4ea360",
   "metadata": {},
   "outputs": [],
   "source": [
    "search_sunglass = driver.find_element_by_xpath(\"//input[@class='_3704LK']\")\n",
    "search_sunglass.send_keys(\"Sunglasses\")\n",
    "search_sunglass.send_keys(u'\\ue007')"
   ]
  },
  {
   "cell_type": "code",
   "execution_count": 192,
   "id": "110054f3",
   "metadata": {},
   "outputs": [
    {
     "name": "stdout",
     "output_type": "stream",
     "text": [
      "120\n"
     ]
    }
   ],
   "source": [
    "desc1 = []\n",
    "for counter in range(0,4):\n",
    "    description = driver.find_elements_by_xpath(\"//div[@class='_2B099V']\")\n",
    "    for i in description:\n",
    "        desc1.append(i.text.split('\\n'))\n",
    "    time.sleep(10)\n",
    "    next_button = driver.find_element_by_xpath(\"/html/body/div[1]/div/div[3]/div[1]/div[2]/div[12]/div/div/nav/a[11]\")\n",
    "    next_button.click()\n",
    "    time.sleep(15)\n",
    "    counter=counter+1\n",
    "print(len(desc1))"
   ]
  },
  {
   "cell_type": "code",
   "execution_count": 193,
   "id": "9063022a",
   "metadata": {},
   "outputs": [],
   "source": [
    "brand = [i[0] for i in desc1]"
   ]
  },
  {
   "cell_type": "code",
   "execution_count": 194,
   "id": "7b320504",
   "metadata": {},
   "outputs": [],
   "source": [
    "description = [i[1] for i in desc1]"
   ]
  },
  {
   "cell_type": "code",
   "execution_count": 195,
   "id": "dece5657",
   "metadata": {},
   "outputs": [],
   "source": [
    "price = [i[2] for i in desc1]"
   ]
  },
  {
   "cell_type": "code",
   "execution_count": 197,
   "id": "963e22cd",
   "metadata": {},
   "outputs": [],
   "source": [
    "prod_price = [i.split('₹', 2)[1] for i in price]\n",
    "discount = [i[-7:] for i in price]\n",
    "\n"
   ]
  },
  {
   "cell_type": "code",
   "execution_count": 198,
   "id": "c7acca75",
   "metadata": {},
   "outputs": [
    {
     "name": "stdout",
     "output_type": "stream",
     "text": [
      "120 120 120 120\n"
     ]
    }
   ],
   "source": [
    "print(len(brand), len(description), len(prod_price), len(discount))"
   ]
  },
  {
   "cell_type": "code",
   "execution_count": 199,
   "id": "52d603ef",
   "metadata": {},
   "outputs": [
    {
     "data": {
      "text/html": [
       "<div>\n",
       "<style scoped>\n",
       "    .dataframe tbody tr th:only-of-type {\n",
       "        vertical-align: middle;\n",
       "    }\n",
       "\n",
       "    .dataframe tbody tr th {\n",
       "        vertical-align: top;\n",
       "    }\n",
       "\n",
       "    .dataframe thead th {\n",
       "        text-align: right;\n",
       "    }\n",
       "</style>\n",
       "<table border=\"1\" class=\"dataframe\">\n",
       "  <thead>\n",
       "    <tr style=\"text-align: right;\">\n",
       "      <th></th>\n",
       "      <th>Brand</th>\n",
       "      <th>Description</th>\n",
       "      <th>Price</th>\n",
       "      <th>Discount</th>\n",
       "    </tr>\n",
       "  </thead>\n",
       "  <tbody>\n",
       "    <tr>\n",
       "      <th>0</th>\n",
       "      <td>ROZZETTA CRAFT</td>\n",
       "      <td>UV Protection, Gradient Rectangular Sunglasses...</td>\n",
       "      <td>379</td>\n",
       "      <td>81% off</td>\n",
       "    </tr>\n",
       "    <tr>\n",
       "      <th>1</th>\n",
       "      <td>DEIXELS</td>\n",
       "      <td>UV Protection Aviator Sunglasses (Free Size)</td>\n",
       "      <td>224</td>\n",
       "      <td>81% off</td>\n",
       "    </tr>\n",
       "    <tr>\n",
       "      <th>2</th>\n",
       "      <td>HAMIW COLLECTION</td>\n",
       "      <td>UV Protection Round Sunglasses (53)</td>\n",
       "      <td>199</td>\n",
       "      <td>87% off</td>\n",
       "    </tr>\n",
       "    <tr>\n",
       "      <th>3</th>\n",
       "      <td>kingsunglasses</td>\n",
       "      <td>UV Protection, Riding Glasses, Mirrored Wayfar...</td>\n",
       "      <td>213</td>\n",
       "      <td>82% off</td>\n",
       "    </tr>\n",
       "    <tr>\n",
       "      <th>4</th>\n",
       "      <td>Fastrack</td>\n",
       "      <td>UV Protection Shield Sunglasses (Free Size)</td>\n",
       "      <td>809</td>\n",
       "      <td>10% off</td>\n",
       "    </tr>\n",
       "    <tr>\n",
       "      <th>...</th>\n",
       "      <td>...</td>\n",
       "      <td>...</td>\n",
       "      <td>...</td>\n",
       "      <td>...</td>\n",
       "    </tr>\n",
       "    <tr>\n",
       "      <th>95</th>\n",
       "      <td>ROYAL SON</td>\n",
       "      <td>UV Protection Round, Oval, Cat-eye Sunglasses ...</td>\n",
       "      <td>699</td>\n",
       "      <td>53% off</td>\n",
       "    </tr>\n",
       "    <tr>\n",
       "      <th>96</th>\n",
       "      <td>Ray-Ban</td>\n",
       "      <td>UV Protection Shield Sunglasses (51)</td>\n",
       "      <td>10,390</td>\n",
       "      <td>₹10,390</td>\n",
       "    </tr>\n",
       "    <tr>\n",
       "      <th>97</th>\n",
       "      <td>Urbanic</td>\n",
       "      <td>Others Retro Square Sunglasses (Free Size)</td>\n",
       "      <td>489</td>\n",
       "      <td>45% off</td>\n",
       "    </tr>\n",
       "    <tr>\n",
       "      <th>98</th>\n",
       "      <td>PIRASO</td>\n",
       "      <td>UV Protection Over-sized Sunglasses (60)</td>\n",
       "      <td>199</td>\n",
       "      <td>87% off</td>\n",
       "    </tr>\n",
       "    <tr>\n",
       "      <th>99</th>\n",
       "      <td>HAMIW COLLECTION</td>\n",
       "      <td>UV Protection Wayfarer, Sports, Shield, Rectan...</td>\n",
       "      <td>149</td>\n",
       "      <td>88% off</td>\n",
       "    </tr>\n",
       "  </tbody>\n",
       "</table>\n",
       "<p>100 rows × 4 columns</p>\n",
       "</div>"
      ],
      "text/plain": [
       "               Brand                                        Description  \\\n",
       "0     ROZZETTA CRAFT  UV Protection, Gradient Rectangular Sunglasses...   \n",
       "1            DEIXELS       UV Protection Aviator Sunglasses (Free Size)   \n",
       "2   HAMIW COLLECTION                UV Protection Round Sunglasses (53)   \n",
       "3     kingsunglasses  UV Protection, Riding Glasses, Mirrored Wayfar...   \n",
       "4           Fastrack        UV Protection Shield Sunglasses (Free Size)   \n",
       "..               ...                                                ...   \n",
       "95         ROYAL SON  UV Protection Round, Oval, Cat-eye Sunglasses ...   \n",
       "96           Ray-Ban               UV Protection Shield Sunglasses (51)   \n",
       "97           Urbanic         Others Retro Square Sunglasses (Free Size)   \n",
       "98            PIRASO           UV Protection Over-sized Sunglasses (60)   \n",
       "99  HAMIW COLLECTION  UV Protection Wayfarer, Sports, Shield, Rectan...   \n",
       "\n",
       "     Price Discount  \n",
       "0      379  81% off  \n",
       "1      224  81% off  \n",
       "2      199  87% off  \n",
       "3      213  82% off  \n",
       "4      809  10% off  \n",
       "..     ...      ...  \n",
       "95     699  53% off  \n",
       "96  10,390  ₹10,390  \n",
       "97     489  45% off  \n",
       "98     199  87% off  \n",
       "99     149  88% off  \n",
       "\n",
       "[100 rows x 4 columns]"
      ]
     },
     "execution_count": 199,
     "metadata": {},
     "output_type": "execute_result"
    }
   ],
   "source": [
    "Flipkart = pd.DataFrame()\n",
    "Flipkart['Brand'] = brand[:100]\n",
    "Flipkart['Description'] = description[:100]\n",
    "Flipkart['Price'] = prod_price[:100]\n",
    "Flipkart['Discount'] = discount[:100]\n",
    "Flipkart"
   ]
  },
  {
   "cell_type": "markdown",
   "id": "f2bb3a36",
   "metadata": {},
   "source": [
    "# Q6: Scrape data for first 100 sneakers you find when you visit flipkart.com and search for “sneakers”"
   ]
  },
  {
   "cell_type": "code",
   "execution_count": 262,
   "id": "0b57fa63",
   "metadata": {},
   "outputs": [],
   "source": [
    "import selenium\n",
    "import pandas as pd\n",
    "from selenium import webdriver\n",
    "import warnings\n",
    "warnings.filterwarnings(\"ignore\")\n",
    "import time"
   ]
  },
  {
   "cell_type": "code",
   "execution_count": 263,
   "id": "9c5db446",
   "metadata": {},
   "outputs": [],
   "source": [
    "driver = webdriver.Chrome('/Users/aryanlohan/downloads/chromedriver')"
   ]
  },
  {
   "cell_type": "code",
   "execution_count": 264,
   "id": "81ffb9b9",
   "metadata": {},
   "outputs": [],
   "source": [
    "driver.get('https://www.flipkart.com')"
   ]
  },
  {
   "cell_type": "code",
   "execution_count": 265,
   "id": "d528682a",
   "metadata": {
    "scrolled": true
   },
   "outputs": [],
   "source": [
    "try:\n",
    "    button = driver.find_element_by_xpath(\"//button[@class='_2KpZ6l _2doB4z']\")\n",
    "    button.click()\n",
    "except:\n",
    "    pass\n",
    "search_sneakers = driver.find_element_by_xpath(\"//input[@class='_3704LK']\")\n",
    "search_sneakers.send_keys(\"Sneakers\")\n",
    "search_sneakers.send_keys(u'\\ue007')"
   ]
  },
  {
   "cell_type": "code",
   "execution_count": 266,
   "id": "e89f3784",
   "metadata": {},
   "outputs": [
    {
     "name": "stdout",
     "output_type": "stream",
     "text": [
      "120\n"
     ]
    }
   ],
   "source": [
    "desc1 = []\n",
    "for counter in range(0,4):\n",
    "    description = driver.find_elements_by_xpath(\"//div[@class='_2B099V']\")\n",
    "    for i in description:\n",
    "        desc1.append(i.text.split('\\n'))\n",
    "    #browser.execute_script(\"window.scrollTo(0,document.body.scrollHeight)\")\n",
    "    time.sleep(10)\n",
    "    next_button = driver.find_element_by_xpath(\"/html/body/div[1]/div/div[3]/div[1]/div[2]/div[12]/div/div/nav/a[11]\")\n",
    "    next_button.click()\n",
    "    time.sleep(15)\n",
    "    counter=counter+1\n",
    "print(len(desc1))"
   ]
  },
  {
   "cell_type": "code",
   "execution_count": 267,
   "id": "188703a2",
   "metadata": {},
   "outputs": [
    {
     "data": {
      "text/plain": [
       "[['Skechers',\n",
       "  'TRACK Sneakers For Men',\n",
       "  '₹2,826₹4,79941% off',\n",
       "  'Free delivery',\n",
       "  'Deal of the Day'],\n",
       " ['PUMA',\n",
       "  'x 1DER Rock V2 Sneakers For Men',\n",
       "  '₹1,799₹4,49960% off',\n",
       "  'Free delivery',\n",
       "  'Lowest price since launch'],\n",
       " ['WHITE WALKERS',\n",
       "  'Stylish & Trending Outdoor Walking Comfortable Sneakers...',\n",
       "  '₹509₹1,19957% off',\n",
       "  'Free delivery'],\n",
       " ['HOCKWOOD', 'Sneakers Sneakers For Men', '₹699₹99930% off', 'Free delivery'],\n",
       " ['PUMA',\n",
       "  'one8 V2 Sneakers For Men',\n",
       "  '₹2,078₹3,29937% off',\n",
       "  'Free delivery',\n",
       "  'EOSS'],\n",
       " ['BRUTON',\n",
       "  'Modern Trendy Sneakers Shoes Sneakers For Men',\n",
       "  '₹599₹1,29953% off',\n",
       "  'Free delivery',\n",
       "  'Deal of the Day'],\n",
       " ['VENDOZ',\n",
       "  'Girls Stylish Casual Sports Shoe Sneakers For Women',\n",
       "  '₹499₹99950% off',\n",
       "  'Free delivery'],\n",
       " ['RED TAPE', 'Sneakers For Men', '₹818₹4,09580% off', 'Free delivery'],\n",
       " ['TR', 'Casual White Sneakers For Men', '₹399₹1,49973% off', 'Free delivery'],\n",
       " ['Z Blue',\n",
       "  'YZY FOAM FIRE RUNNER HIGH PREMIUM QUALITY Sneakers For ...',\n",
       "  '₹1,399₹3,99965% off',\n",
       "  'Free delivery'],\n",
       " ['SEGA', 'Sneakers For Men', '₹611₹94935% off', 'Free delivery'],\n",
       " ['Strollin',\n",
       "  'Sneakers For Men',\n",
       "  '₹439₹1,99978% off',\n",
       "  'Free delivery',\n",
       "  'Deal of the Day'],\n",
       " ['PROVOGUE', 'Sneakers For Men', '₹759₹1,99962% off', 'Free delivery'],\n",
       " ['Kzaara',\n",
       "  'Kzaara Sneakers Casual Canvas shoes | Branded Stylish O...',\n",
       "  '₹244₹99975% off',\n",
       "  'Free delivery'],\n",
       " ['Stinson', 'Sneakers For Men', '₹249₹49950% off', 'Free delivery'],\n",
       " ['Bonexy',\n",
       "  'Sneakers For Men',\n",
       "  '₹569₹1,49962% off',\n",
       "  'Free delivery',\n",
       "  'Deal of the Day'],\n",
       " ['T-ROCK',\n",
       "  'Stylish White Casual Sneakers shoes Men and Boys Sneake...',\n",
       "  '₹399₹99960% off',\n",
       "  'Free delivery',\n",
       "  'Deal of the Day'],\n",
       " ['PUMA',\n",
       "  'Blend Sneakers For Men',\n",
       "  '₹1,047₹2,99965% off',\n",
       "  'Free delivery',\n",
       "  'Lowest price since launch'],\n",
       " ['Shozie',\n",
       "  'Stylish Walking Partywear Sneakers Casual Shoes Sneaker...',\n",
       "  '₹594₹99940% off',\n",
       "  'Free delivery'],\n",
       " ['VENDOZ', 'Stylish Sneakers For Women', '₹498₹99950% off', 'Free delivery'],\n",
       " ['SEGA', 'Sneakers For Men', '₹599₹99940% off', 'Free delivery'],\n",
       " ['RapidBox', 'Sneakers For Men', '₹650₹99934% off', 'Free delivery'],\n",
       " ['PUMA',\n",
       "  'Skye Wedge Sneakers For Women',\n",
       "  '₹2,280₹5,99961% off',\n",
       "  'Free delivery',\n",
       "  'EOSS'],\n",
       " ['Strollin',\n",
       "  'Sneakers For Men',\n",
       "  '₹474₹99952% off',\n",
       "  'Free delivery',\n",
       "  'Deal of the Day'],\n",
       " ['Kzaara', 'Sneakers For Men', '₹254₹99974% off', 'Free delivery'],\n",
       " ['PUMA',\n",
       "  'R78 Sneakers For Men',\n",
       "  '₹2,339₹3,99941% off',\n",
       "  'Free delivery',\n",
       "  'Deal of the Day'],\n",
       " ['WHITE WALKERS',\n",
       "  'Stylish & Trending Outdoor Walking Comfortable Sneakers...',\n",
       "  '₹509₹1,19957% off',\n",
       "  'Free delivery'],\n",
       " ['Strollin',\n",
       "  'Sneakers For Men',\n",
       "  '₹474₹1,99976% off',\n",
       "  'Free delivery',\n",
       "  'Deal of the Day'],\n",
       " ['Bata', 'Sneakers For Men', '₹679₹79915% off', 'Free delivery'],\n",
       " ['Strollin',\n",
       "  'Sneakers For Men',\n",
       "  '₹474₹1,99976% off',\n",
       "  'Free delivery',\n",
       "  'Deal of the Day'],\n",
       " ['PROVOGUE',\n",
       "  'Sneakers For Men',\n",
       "  '₹699₹1,79961% off',\n",
       "  'Free delivery',\n",
       "  'Buy 2 items, save extra 5%'],\n",
       " ['RED TAPE', 'Sneakers For Men', '₹1,078₹5,39580% off', 'Free delivery'],\n",
       " ['T-ROCK',\n",
       "  'Stylish White Casual Walking Sneakers Shoes For Men and...',\n",
       "  '₹498₹99950% off',\n",
       "  'Free delivery'],\n",
       " ['ASIAN', 'Sneakers For Men', '₹1,159₹1,99942% off', 'Free delivery'],\n",
       " ['ROCKFIELD', 'Sneakers For Men', '₹299₹99970% off', 'Free delivery'],\n",
       " ['aadi', 'Mesh Sneakers For Men', '₹999₹1,99950% off', 'Free delivery'],\n",
       " ['T-ROCK',\n",
       "  'Stylish Party Wear Casual Sneakers Shoes For Men Sneake...',\n",
       "  '₹699₹99930% off',\n",
       "  'Free delivery'],\n",
       " ['T-ROCK', 'Sneakers For Women', '₹403₹99959% off', 'Free delivery'],\n",
       " ['Chevit',\n",
       "  \"Men's Combo Pack of 02 Shoes for Men Casual Sneakers Ou...\",\n",
       "  '₹649₹1,09940% off',\n",
       "  'Free delivery'],\n",
       " ['PUMA', 'R78 FUTR Sneakers For Men', '₹2,999₹5,99950% off', 'Free delivery'],\n",
       " ['Kirjak',\n",
       "  '1502 sneakers for men Sneakers For Men',\n",
       "  '₹490₹1,99975% off',\n",
       "  'Free delivery'],\n",
       " ['Ophelia',\n",
       "  'Casual partywear printed women walking shoes Sneakers F...',\n",
       "  '₹298₹99970% off',\n",
       "  'Free delivery'],\n",
       " ['Tying',\n",
       "  '1044 Latest Collection Stylish Casual Loafer Sneakers S...',\n",
       "  '₹299₹49940% off',\n",
       "  'Free delivery'],\n",
       " ['Stinson',\n",
       "  'Trendy comfertable Combo pack Of 2 Sneakers For Men',\n",
       "  '₹489₹99951% off',\n",
       "  'Free delivery'],\n",
       " ['PUMA',\n",
       "  'MAPF1 Drift Cat Delta Sneakers For Men',\n",
       "  '₹3,199₹7,99960% off',\n",
       "  'Free delivery'],\n",
       " ['Skechers',\n",
       "  'Go Walk Max-Centric Sneakers For Men',\n",
       "  '₹3,020₹5,29943% off',\n",
       "  'Free delivery',\n",
       "  'EOSS'],\n",
       " ['Dizzler', 'Sneakers For Men', '₹435₹71939% off', 'Free delivery'],\n",
       " ['Roadster',\n",
       "  'Sneakers For Men',\n",
       "  '₹1,379₹4,29967% off',\n",
       "  'Free delivery',\n",
       "  'Deal of the Day'],\n",
       " ['BRUTON',\n",
       "  'Modern Trendy Sneakers Shoes Sneakers For Men',\n",
       "  '₹254₹1,29980% off',\n",
       "  'Free delivery',\n",
       "  'Deal of the Day'],\n",
       " ['RED TAPE', 'Sneakers For Women', '₹1,439₹4,79970% off', 'Free delivery'],\n",
       " ['RapidBox', 'Sneakers For Men', '₹680₹99931% off', 'Free delivery'],\n",
       " ['U.S. POLO ASSN.', 'Sneakers For Men', '₹4,299', 'Free delivery'],\n",
       " ['DUCATI',\n",
       "  'Sneakers For Men',\n",
       "  '₹1,209₹4,49973% off',\n",
       "  'Free delivery',\n",
       "  'Lowest price since launch'],\n",
       " ['KNIGHT WALKERS',\n",
       "  'SS1100 Sneakers For Men',\n",
       "  '₹664₹1,99966% off',\n",
       "  'Free delivery',\n",
       "  'Buy 2 items, save extra 5%'],\n",
       " ['Shoes Icon',\n",
       "  'Stylish White Casual Sneakers | White Party Wear Sneake...',\n",
       "  '₹479₹99952% off',\n",
       "  'Free delivery'],\n",
       " ['RED TAPE', 'Sneakers For Men', '₹1,038₹5,19580% off', 'Free delivery'],\n",
       " ['Strollin',\n",
       "  'Sneakers For Men',\n",
       "  '₹469₹1,99976% off',\n",
       "  'Free delivery',\n",
       "  'Deal of the Day'],\n",
       " ['HimQuen',\n",
       "  \"Shoes For Women's/Ladies/Female/Girls Running Shoe's Fo...\",\n",
       "  '₹521₹99947% off',\n",
       "  'Free delivery'],\n",
       " ['PUMA',\n",
       "  'Pacer X Graphicster Sneakers For Men',\n",
       "  '₹1,519₹3,99962% off',\n",
       "  'Free delivery',\n",
       "  'EOSS'],\n",
       " ['bluemaker',\n",
       "  'casual for men (blue 06) Sneakers For Men',\n",
       "  '₹599₹99940% off',\n",
       "  'Free delivery'],\n",
       " ['BRUTON',\n",
       "  'BRUTON Casual, Lace Up, Sneaker, canvas, Top rated, Lig...',\n",
       "  '₹189₹1,29985% off',\n",
       "  'Free delivery',\n",
       "  'Deal of the Day'],\n",
       " ['Allen Solly',\n",
       "  'Sneakers For Women',\n",
       "  '₹1,349₹2,99955% off',\n",
       "  'Free delivery',\n",
       "  'EOSS'],\n",
       " ['WROGN',\n",
       "  'Sneakers For Men',\n",
       "  '₹1,139₹2,84960% off',\n",
       "  'Free delivery',\n",
       "  'Buy 1, Get 1 Free'],\n",
       " ['PUMA',\n",
       "  'x KL Denver Sneakers For Men',\n",
       "  '₹1,599₹3,99960% off',\n",
       "  'Free delivery'],\n",
       " ['PUMA',\n",
       "  'Focus one8 Sneakers For Men',\n",
       "  '₹1,547₹4,29964% off',\n",
       "  'Free delivery',\n",
       "  'EOSS'],\n",
       " ['Stinson',\n",
       "  'ultra light Comfertable Slip-On and lace-ups combo pack...',\n",
       "  '₹629₹1,49757% off',\n",
       "  'Free delivery'],\n",
       " ['DELMY',\n",
       "  \"Girl's Sneakers Solid/Printed Casual Shoe (Dancing, Run...\",\n",
       "  '₹616₹1,49958% off',\n",
       "  'Free delivery'],\n",
       " ['PUMA',\n",
       "  'Court Star Vulc FS Sneakers For Men',\n",
       "  '₹2,809₹5,99953% off',\n",
       "  'Free delivery',\n",
       "  'Deal of the Day'],\n",
       " ['SPADE CLUB', 'Sneakers For Men', '₹698₹99930% off', 'Free delivery'],\n",
       " ['PUMA',\n",
       "  'RS-Fast Limiter Sneakers For Men',\n",
       "  '₹3,999₹9,99960% off',\n",
       "  'Free delivery',\n",
       "  'EOSS'],\n",
       " ['PUMA',\n",
       "  'RS-Fast Sneakers For Women',\n",
       "  '₹4,800₹9,99951% off',\n",
       "  'Free delivery',\n",
       "  'EOSS'],\n",
       " ['RED TAPE', 'Sneakers For Men', '₹1,074₹4,29975% off', 'Free delivery'],\n",
       " ['Scull Wings', 'Sneakers For Men', '₹449₹1,49970% off', 'Free delivery'],\n",
       " ['Aarron', 'Sneakers For Women', '₹479₹99952% off', 'Free delivery'],\n",
       " ['Locklet', 'Sneakers For Men', '₹624₹1,49958% off', 'Free delivery'],\n",
       " ['HOCKWOOD',\n",
       "  'Street Smart Sneakers For Men',\n",
       "  '₹749₹99925% off',\n",
       "  'Free delivery'],\n",
       " ['PUMA',\n",
       "  'BMW MMS Electron E Pro Sneakers For Men',\n",
       "  '₹3,249₹6,49950% off',\n",
       "  'Free delivery',\n",
       "  'Deal of the Day'],\n",
       " ['VENDOZ', 'Sneakers For Women', '₹499₹99950% off', 'Free delivery'],\n",
       " ['DELMY',\n",
       "  \"Girl's Sneakers Solid/Printed Casual Shoe (Dancing, Run...\",\n",
       "  '₹474₹1,29963% off',\n",
       "  'Free delivery'],\n",
       " ['CARRITO',\n",
       "  \"Carrito Casual shoes /sneakers/boots for women's/ Ladie...\",\n",
       "  '₹398₹99960% off',\n",
       "  'Free delivery'],\n",
       " ['ASIAN',\n",
       "  \"Blade-13 Men's Sports Shoes,Running Shoes,Walking Shoes...\",\n",
       "  '₹698₹1,49953% off',\n",
       "  'Free delivery'],\n",
       " ['AKIMBO',\n",
       "  'A-SHOES-205 Sneakers For Men',\n",
       "  '₹468₹99953% off',\n",
       "  'Free delivery'],\n",
       " ['DUCATI',\n",
       "  'Sneakers For Men',\n",
       "  '₹1,119₹4,29973% off',\n",
       "  'Free delivery',\n",
       "  'Deal of the Day'],\n",
       " ['ROCKFIELD', 'Sneakers For Men', '₹449₹99955% off', 'Free delivery'],\n",
       " ['CALCADOS', 'Sneakers For Men', '₹248₹49950% off', 'Free delivery'],\n",
       " ['SOLE STITCH',\n",
       "  'Heel Sneaks Sneakers For Women',\n",
       "  '₹599₹99940% off',\n",
       "  'Free delivery'],\n",
       " [\"LEVI'S\", 'ADEN Sneakers For Men', '₹1,349₹2,99955% off', 'Free delivery'],\n",
       " ['CALCADOS',\n",
       "  'ultra light Comfertable Slip-On and lace-ups combo pack...',\n",
       "  '₹625₹1,49858% off',\n",
       "  'Free delivery'],\n",
       " ['Extoes', 'Sneakers For Men', '₹218₹49956% off', 'Free delivery'],\n",
       " ['Edoeviv',\n",
       "  'Sneakers For Men (White) Sneakers For Men',\n",
       "  '₹474₹79940% off',\n",
       "  'Free delivery'],\n",
       " ['BRUTON',\n",
       "  'BRUTON Casual, Lace Up, Sneaker, canvas, Top rated, Lig...',\n",
       "  '₹178₹1,29986% off',\n",
       "  'Free delivery',\n",
       "  'Deal of the Day'],\n",
       " ['bluemaker',\n",
       "  'casual for men Sneakers For Men',\n",
       "  '₹599₹99940% off',\n",
       "  'Free delivery'],\n",
       " ['PUMA',\n",
       "  'Caracal Style Sneakers For Women',\n",
       "  '₹1,911₹4,49957% off',\n",
       "  'Free delivery'],\n",
       " ['Myshtezia', 'Sneakers For Women', '₹499₹99950% off', 'Free delivery'],\n",
       " ['BRUTON',\n",
       "  'Modern Trendy Sneakers Shoes Sneakers For Men',\n",
       "  '₹299₹1,29976% off',\n",
       "  'Free delivery',\n",
       "  'Deal of the Day'],\n",
       " ['PUMA',\n",
       "  'Smash v2 Sneakers For Men',\n",
       "  '₹1,919₹3,99952% off',\n",
       "  'Free delivery',\n",
       "  'EOSS'],\n",
       " ['SPARX', 'SM-322 Sneakers For Men', '₹840₹99915% off', 'Free delivery'],\n",
       " ['TR', 'Sneakers For Men', '₹419₹1,49972% off', 'Free delivery'],\n",
       " ['Bretton',\n",
       "  'Classy Stylish Ayasa Sneakers Sneakers For Men',\n",
       "  '₹251₹99974% off',\n",
       "  'Free delivery'],\n",
       " ['Chevit',\n",
       "  'Modern Stylish Combo Pack of 3 Jogging, Walking, Gym Sh...',\n",
       "  '₹799₹2,39766% off',\n",
       "  'Free delivery'],\n",
       " ['PUMA',\n",
       "  'Drift Cat 5 Core Sneaker For Men',\n",
       "  '₹2,957₹5,99950% off',\n",
       "  'Free delivery',\n",
       "  'EOSS'],\n",
       " ['BELLA TOES',\n",
       "  'Women Latest White Casual shoes Sneakers For Women',\n",
       "  '₹629₹1,29951% off',\n",
       "  'Free delivery'],\n",
       " ['Z Blue',\n",
       "  'Led High Light Glowing with USB Cable+ charging color F...',\n",
       "  '₹1,999₹4,99960% off',\n",
       "  'Free delivery'],\n",
       " ['PUMA',\n",
       "  'Puma Smash Vulc Sneakers For Men',\n",
       "  '₹2,241₹3,79941% off',\n",
       "  'Free delivery',\n",
       "  'EOSS'],\n",
       " ['PUMA',\n",
       "  'Glory Sneakers For Men',\n",
       "  '₹1,292₹2,99956% off',\n",
       "  'Free delivery',\n",
       "  'EOSS'],\n",
       " ['asics',\n",
       "  'fuzor B Sneakers For Men',\n",
       "  '₹1,690₹3,79955% off',\n",
       "  'Free delivery',\n",
       "  'EOSS'],\n",
       " ['LE GREEM', 'Sneakers For Men', '₹499₹99950% off', 'Free delivery'],\n",
       " ['bacca bucci',\n",
       "  'Mens Ultraforce Mid-top Athletic-Inspired Retro Fashion...',\n",
       "  '₹1,199₹2,49952% off',\n",
       "  'Free delivery'],\n",
       " ['PUMA',\n",
       "  'Puma Smash Vulc Sneakers For Men',\n",
       "  '₹2,393₹3,79937% off',\n",
       "  'Free delivery',\n",
       "  'EOSS'],\n",
       " ['OUTALYFE',\n",
       "  'Stylish Party Wear Fashionable Lightweight New arrival ...',\n",
       "  '₹448₹1,24964% off',\n",
       "  'Free delivery',\n",
       "  'Buy 2 items, save extra 5%'],\n",
       " ['Creer', 'Sneakers For Women', '₹498₹1,59968% off', 'Free delivery'],\n",
       " ['RICHTOE',\n",
       "  'Sneakers For Women',\n",
       "  '₹423₹99957% off',\n",
       "  'Free delivery',\n",
       "  'Lowest price in the year'],\n",
       " ['HOCKWOOD', 'Sneakers Sneakers For Men', '₹699₹99930% off', 'Free delivery'],\n",
       " ['SWIGGY',\n",
       "  'Casual Shoes , Snekers Shoes,Lace-Up PVC Shoes For Men ...',\n",
       "  '₹249₹49950% off',\n",
       "  'Free delivery',\n",
       "  'Buy 2 items, save extra 5%'],\n",
       " ['SPARX', 'SM-734 Sneakers For Men', '₹849', 'Free delivery'],\n",
       " ['HONEY',\n",
       "  'Stylish Casual Sneakers | Party Wear Sneakers For Men',\n",
       "  '₹439₹99956% off',\n",
       "  'Free delivery'],\n",
       " ['PEXLO',\n",
       "  'Combo Pack of 3 (Outdoors & Walking Shoes) Sneakers For...',\n",
       "  '₹1,017₹2,39757% off',\n",
       "  'Free delivery'],\n",
       " ['PUMA',\n",
       "  'Puma Smash Vulc Sneakers For Men',\n",
       "  '₹1,658₹3,79956% off',\n",
       "  'Free delivery',\n",
       "  'EOSS'],\n",
       " ['SPARX', 'SM-732 Sneakers For Men', '₹934₹1,09915% off', 'Free delivery'],\n",
       " ['STRANGER BROTHERS',\n",
       "  'GREEN SNEAKERS CASUAL SHOES CANVAS SHOES FOR MEN GREEN ...',\n",
       "  '₹599₹1,49960% off',\n",
       "  'Free delivery']]"
      ]
     },
     "execution_count": 267,
     "metadata": {},
     "output_type": "execute_result"
    }
   ],
   "source": [
    "desc1"
   ]
  },
  {
   "cell_type": "code",
   "execution_count": 268,
   "id": "53ba0141",
   "metadata": {},
   "outputs": [],
   "source": [
    "brand = [i[0] for i in desc1]\n",
    "description = [i[1] for i in desc1]\n",
    "price = [i[2] for i in desc1]\n",
    "prod_price = [i.split('₹', 2)[1] for i in price]"
   ]
  },
  {
   "cell_type": "code",
   "execution_count": 269,
   "id": "7ff805e9",
   "metadata": {},
   "outputs": [
    {
     "name": "stdout",
     "output_type": "stream",
     "text": [
      "120 120 120\n"
     ]
    }
   ],
   "source": [
    "print(len(brand), len(description), len(prod_price))"
   ]
  },
  {
   "cell_type": "code",
   "execution_count": 270,
   "id": "825e5d4a",
   "metadata": {},
   "outputs": [
    {
     "data": {
      "text/html": [
       "<div>\n",
       "<style scoped>\n",
       "    .dataframe tbody tr th:only-of-type {\n",
       "        vertical-align: middle;\n",
       "    }\n",
       "\n",
       "    .dataframe tbody tr th {\n",
       "        vertical-align: top;\n",
       "    }\n",
       "\n",
       "    .dataframe thead th {\n",
       "        text-align: right;\n",
       "    }\n",
       "</style>\n",
       "<table border=\"1\" class=\"dataframe\">\n",
       "  <thead>\n",
       "    <tr style=\"text-align: right;\">\n",
       "      <th></th>\n",
       "      <th>Brand</th>\n",
       "      <th>Description</th>\n",
       "      <th>Price</th>\n",
       "    </tr>\n",
       "  </thead>\n",
       "  <tbody>\n",
       "    <tr>\n",
       "      <th>0</th>\n",
       "      <td>Skechers</td>\n",
       "      <td>TRACK Sneakers For Men</td>\n",
       "      <td>2,826</td>\n",
       "    </tr>\n",
       "    <tr>\n",
       "      <th>1</th>\n",
       "      <td>PUMA</td>\n",
       "      <td>x 1DER Rock V2 Sneakers For Men</td>\n",
       "      <td>1,799</td>\n",
       "    </tr>\n",
       "    <tr>\n",
       "      <th>2</th>\n",
       "      <td>WHITE WALKERS</td>\n",
       "      <td>Stylish &amp; Trending Outdoor Walking Comfortable...</td>\n",
       "      <td>509</td>\n",
       "    </tr>\n",
       "    <tr>\n",
       "      <th>3</th>\n",
       "      <td>HOCKWOOD</td>\n",
       "      <td>Sneakers Sneakers For Men</td>\n",
       "      <td>699</td>\n",
       "    </tr>\n",
       "    <tr>\n",
       "      <th>4</th>\n",
       "      <td>PUMA</td>\n",
       "      <td>one8 V2 Sneakers For Men</td>\n",
       "      <td>2,078</td>\n",
       "    </tr>\n",
       "    <tr>\n",
       "      <th>...</th>\n",
       "      <td>...</td>\n",
       "      <td>...</td>\n",
       "      <td>...</td>\n",
       "    </tr>\n",
       "    <tr>\n",
       "      <th>95</th>\n",
       "      <td>PUMA</td>\n",
       "      <td>Smash v2 Sneakers For Men</td>\n",
       "      <td>1,919</td>\n",
       "    </tr>\n",
       "    <tr>\n",
       "      <th>96</th>\n",
       "      <td>SPARX</td>\n",
       "      <td>SM-322 Sneakers For Men</td>\n",
       "      <td>840</td>\n",
       "    </tr>\n",
       "    <tr>\n",
       "      <th>97</th>\n",
       "      <td>TR</td>\n",
       "      <td>Sneakers For Men</td>\n",
       "      <td>419</td>\n",
       "    </tr>\n",
       "    <tr>\n",
       "      <th>98</th>\n",
       "      <td>Bretton</td>\n",
       "      <td>Classy Stylish Ayasa Sneakers Sneakers For Men</td>\n",
       "      <td>251</td>\n",
       "    </tr>\n",
       "    <tr>\n",
       "      <th>99</th>\n",
       "      <td>Chevit</td>\n",
       "      <td>Modern Stylish Combo Pack of 3 Jogging, Walkin...</td>\n",
       "      <td>799</td>\n",
       "    </tr>\n",
       "  </tbody>\n",
       "</table>\n",
       "<p>100 rows × 3 columns</p>\n",
       "</div>"
      ],
      "text/plain": [
       "            Brand                                        Description  Price\n",
       "0        Skechers                             TRACK Sneakers For Men  2,826\n",
       "1            PUMA                    x 1DER Rock V2 Sneakers For Men  1,799\n",
       "2   WHITE WALKERS  Stylish & Trending Outdoor Walking Comfortable...    509\n",
       "3        HOCKWOOD                          Sneakers Sneakers For Men    699\n",
       "4            PUMA                           one8 V2 Sneakers For Men  2,078\n",
       "..            ...                                                ...    ...\n",
       "95           PUMA                          Smash v2 Sneakers For Men  1,919\n",
       "96          SPARX                            SM-322 Sneakers For Men    840\n",
       "97             TR                                   Sneakers For Men    419\n",
       "98        Bretton     Classy Stylish Ayasa Sneakers Sneakers For Men    251\n",
       "99         Chevit  Modern Stylish Combo Pack of 3 Jogging, Walkin...    799\n",
       "\n",
       "[100 rows x 3 columns]"
      ]
     },
     "execution_count": 270,
     "metadata": {},
     "output_type": "execute_result"
    }
   ],
   "source": [
    "Flipkart = pd.DataFrame()\n",
    "Flipkart['Brand'] = brand[:100]\n",
    "Flipkart['Description'] = description[:100]\n",
    "Flipkart['Price'] = prod_price[:100]\n",
    "Flipkart"
   ]
  },
  {
   "cell_type": "markdown",
   "id": "3e24f5b2",
   "metadata": {},
   "source": [
    "# Q7: Go to the link - https://www.myntra.com/shoes"
   ]
  },
  {
   "cell_type": "code",
   "execution_count": 271,
   "id": "cf4e280e",
   "metadata": {},
   "outputs": [],
   "source": [
    "import selenium\n",
    "import pandas as pd\n",
    "from selenium import webdriver\n",
    "import warnings\n",
    "warnings.filterwarnings(\"ignore\")\n",
    "import time"
   ]
  },
  {
   "cell_type": "code",
   "execution_count": 276,
   "id": "8231bc5b",
   "metadata": {},
   "outputs": [],
   "source": [
    "driver = webdriver.Chrome('/Users/aryanlohan/downloads/chromedriver')\n",
    "driver.get(\"https://www.myntra.com/shoes\")"
   ]
  },
  {
   "cell_type": "code",
   "execution_count": 277,
   "id": "35eb4758",
   "metadata": {},
   "outputs": [],
   "source": [
    "time.sleep(0)"
   ]
  },
  {
   "cell_type": "code",
   "execution_count": 279,
   "id": "6469b436",
   "metadata": {},
   "outputs": [],
   "source": [
    "price_selector = driver.find_element_by_xpath(\"/html/body/div[2]/div/div[1]/main/div[3]/div[1]/section/div/div[5]/ul/li[2]/label/div\")\n",
    "price_selector.click()"
   ]
  },
  {
   "cell_type": "code",
   "execution_count": 280,
   "id": "d9bc464a",
   "metadata": {},
   "outputs": [],
   "source": [
    "color_selector = driver.find_element_by_xpath(\"/html/body/div[2]/div/div[1]/main/div[3]/div[1]/section/div/div[6]/ul/li[1]/label/div\")\n",
    "color_selector.click()"
   ]
  },
  {
   "cell_type": "code",
   "execution_count": 281,
   "id": "89041cad",
   "metadata": {},
   "outputs": [
    {
     "name": "stdout",
     "output_type": "stream",
     "text": [
      "150\n"
     ]
    }
   ],
   "source": [
    "desc1 = []\n",
    "for counter in range(0,3):    \n",
    "    time.sleep(5)\n",
    "    if counter==0:\n",
    "        time.sleep(45) \n",
    "    description = driver.find_elements_by_xpath(\"//div[@class='product-productMetaInfo']\")\n",
    "    for i in description:\n",
    "        desc1.append(i.text.split('\\n'))\n",
    "        counter=counter+1\n",
    "print(len(desc1))"
   ]
  },
  {
   "cell_type": "code",
   "execution_count": 282,
   "id": "838c497f",
   "metadata": {},
   "outputs": [],
   "source": [
    "brand = [i[0] for i in desc1]\n",
    "description = [i[1] for i in desc1]\n",
    "price = [i[2] for i in desc1]\n",
    "prod_price = [i.split('Rs.', 2)[1] for i in price]"
   ]
  },
  {
   "cell_type": "code",
   "execution_count": 283,
   "id": "5e1bf4af",
   "metadata": {},
   "outputs": [
    {
     "name": "stdout",
     "output_type": "stream",
     "text": [
      "150 150 150\n"
     ]
    }
   ],
   "source": [
    "print(len(brand), len(description), len(prod_price))"
   ]
  },
  {
   "cell_type": "code",
   "execution_count": 284,
   "id": "7b3d82cd",
   "metadata": {},
   "outputs": [
    {
     "data": {
      "text/html": [
       "<div>\n",
       "<style scoped>\n",
       "    .dataframe tbody tr th:only-of-type {\n",
       "        vertical-align: middle;\n",
       "    }\n",
       "\n",
       "    .dataframe tbody tr th {\n",
       "        vertical-align: top;\n",
       "    }\n",
       "\n",
       "    .dataframe thead th {\n",
       "        text-align: right;\n",
       "    }\n",
       "</style>\n",
       "<table border=\"1\" class=\"dataframe\">\n",
       "  <thead>\n",
       "    <tr style=\"text-align: right;\">\n",
       "      <th></th>\n",
       "      <th>Brand</th>\n",
       "      <th>Description</th>\n",
       "      <th>Price</th>\n",
       "    </tr>\n",
       "  </thead>\n",
       "  <tbody>\n",
       "    <tr>\n",
       "      <th>0</th>\n",
       "      <td>ADIDAS</td>\n",
       "      <td>Men Herlz Running Shoes</td>\n",
       "      <td>2199</td>\n",
       "    </tr>\n",
       "    <tr>\n",
       "      <th>1</th>\n",
       "      <td>Red Tape</td>\n",
       "      <td>Men Walking Shoes</td>\n",
       "      <td>1224</td>\n",
       "    </tr>\n",
       "    <tr>\n",
       "      <th>2</th>\n",
       "      <td>Puma</td>\n",
       "      <td>Men Enzo Running Shoes</td>\n",
       "      <td>2474</td>\n",
       "    </tr>\n",
       "    <tr>\n",
       "      <th>3</th>\n",
       "      <td>Red Tape</td>\n",
       "      <td>Men Walking Shoes</td>\n",
       "      <td>1349</td>\n",
       "    </tr>\n",
       "    <tr>\n",
       "      <th>4</th>\n",
       "      <td>TWIN TOES</td>\n",
       "      <td>Women Sports Shoes</td>\n",
       "      <td>895</td>\n",
       "    </tr>\n",
       "    <tr>\n",
       "      <th>...</th>\n",
       "      <td>...</td>\n",
       "      <td>...</td>\n",
       "      <td>...</td>\n",
       "    </tr>\n",
       "    <tr>\n",
       "      <th>95</th>\n",
       "      <td>Nike</td>\n",
       "      <td>Women CITYREP TR Training Shoe</td>\n",
       "      <td>3746</td>\n",
       "    </tr>\n",
       "    <tr>\n",
       "      <th>96</th>\n",
       "      <td>Sparx</td>\n",
       "      <td>Men Running Shoes</td>\n",
       "      <td>1022</td>\n",
       "    </tr>\n",
       "    <tr>\n",
       "      <th>97</th>\n",
       "      <td>Denill</td>\n",
       "      <td>Pointed Toe Block Pumps</td>\n",
       "      <td>539</td>\n",
       "    </tr>\n",
       "    <tr>\n",
       "      <th>98</th>\n",
       "      <td>Campus</td>\n",
       "      <td>Men Running Shoes</td>\n",
       "      <td>1449</td>\n",
       "    </tr>\n",
       "    <tr>\n",
       "      <th>99</th>\n",
       "      <td>max</td>\n",
       "      <td>Men Woven Design Sneakers</td>\n",
       "      <td>699</td>\n",
       "    </tr>\n",
       "  </tbody>\n",
       "</table>\n",
       "<p>100 rows × 3 columns</p>\n",
       "</div>"
      ],
      "text/plain": [
       "        Brand                     Description  Price\n",
       "0      ADIDAS         Men Herlz Running Shoes   2199\n",
       "1    Red Tape               Men Walking Shoes   1224\n",
       "2        Puma          Men Enzo Running Shoes   2474\n",
       "3    Red Tape               Men Walking Shoes   1349\n",
       "4   TWIN TOES              Women Sports Shoes    895\n",
       "..        ...                             ...    ...\n",
       "95       Nike  Women CITYREP TR Training Shoe   3746\n",
       "96      Sparx               Men Running Shoes   1022\n",
       "97     Denill         Pointed Toe Block Pumps    539\n",
       "98     Campus               Men Running Shoes   1449\n",
       "99        max       Men Woven Design Sneakers    699\n",
       "\n",
       "[100 rows x 3 columns]"
      ]
     },
     "execution_count": 284,
     "metadata": {},
     "output_type": "execute_result"
    }
   ],
   "source": [
    "Myntra = pd.DataFrame()\n",
    "Myntra['Brand'] = brand[:100]\n",
    "Myntra['Description'] = description[:100]\n",
    "Myntra['Price'] = prod_price[:100]\n",
    "Myntra"
   ]
  },
  {
   "cell_type": "markdown",
   "id": "d1ad28db",
   "metadata": {},
   "source": [
    "# Q8: Go to webpage https://www.amazon.in/"
   ]
  },
  {
   "cell_type": "code",
   "execution_count": 446,
   "id": "d4f2fcd2",
   "metadata": {},
   "outputs": [],
   "source": [
    "import selenium\n",
    "import pandas as pd\n",
    "from selenium import webdriver\n",
    "import warnings\n",
    "warnings.filterwarnings(\"ignore\")\n",
    "import time"
   ]
  },
  {
   "cell_type": "code",
   "execution_count": 447,
   "id": "0f69c4c0",
   "metadata": {},
   "outputs": [],
   "source": [
    "from selenium .webdriver.common.by import By"
   ]
  },
  {
   "cell_type": "code",
   "execution_count": 448,
   "id": "8ba4b518",
   "metadata": {},
   "outputs": [],
   "source": [
    "driver = webdriver.Chrome('/Users/aryanlohan/downloads/chromedriver')\n",
    "driver.get('https://www.amazon.in/')"
   ]
  },
  {
   "cell_type": "code",
   "execution_count": 449,
   "id": "de05790b",
   "metadata": {},
   "outputs": [],
   "source": [
    "search_field_designation = driver.find_element_by_xpath(\"/html/body/div[1]/header/div/div[1]/div[2]/div/form/div[2]/div[1]/input\")\n",
    "search_field_designation.send_keys(\"Laptop\")"
   ]
  },
  {
   "cell_type": "code",
   "execution_count": 450,
   "id": "a0eb293e",
   "metadata": {},
   "outputs": [],
   "source": [
    "search_button = driver.find_element_by_xpath(\"/html/body/div[1]/header/div/div[1]/div[2]/div/form/div[3]/div/span/input\")\n",
    "search_button.click()"
   ]
  },
  {
   "cell_type": "code",
   "execution_count": 451,
   "id": "2963c350",
   "metadata": {},
   "outputs": [],
   "source": [
    "titles = []\n",
    "ratings = []\n",
    "price = []"
   ]
  },
  {
   "cell_type": "code",
   "execution_count": 452,
   "id": "85cc28f7",
   "metadata": {},
   "outputs": [
    {
     "data": {
      "text/plain": [
       "[<selenium.webdriver.remote.webelement.WebElement (session=\"e5f958d5883d5e0c137636dbf1d8aa21\", element=\"cfe75d9c-c7ec-4ddb-bc57-a81e52db46ed\")>,\n",
       " <selenium.webdriver.remote.webelement.WebElement (session=\"e5f958d5883d5e0c137636dbf1d8aa21\", element=\"6feb3dca-8237-41aa-87ea-3dfc5ef958f4\")>,\n",
       " <selenium.webdriver.remote.webelement.WebElement (session=\"e5f958d5883d5e0c137636dbf1d8aa21\", element=\"4917b9e9-997e-40bc-8be7-27a30c627798\")>,\n",
       " <selenium.webdriver.remote.webelement.WebElement (session=\"e5f958d5883d5e0c137636dbf1d8aa21\", element=\"a7bebe8a-a578-4f81-81b5-b6fd05ed044f\")>]"
      ]
     },
     "execution_count": 452,
     "metadata": {},
     "output_type": "execute_result"
    }
   ],
   "source": [
    "titles_tag = driver.find_elements_by_xpath(\"//span[@class='a-size-medium a-color-base a-text-normal']\") \n",
    "titles_tag[0:4]"
   ]
  },
  {
   "cell_type": "code",
   "execution_count": 453,
   "id": "674ce745",
   "metadata": {},
   "outputs": [
    {
     "data": {
      "text/plain": [
       "['Hp 15S 11Th Gen Intel Core I5 15.6 Inches Fhd Anti-Glare Display Laptop (8Gb Ram/512Gb Ssd Micro-Edge/Iris Xe Graphics/Backlit Keyboard/Windows 11 Home/Alexa/Dual Speakers/Mso, 15S- Fq4021Tu, 1.69Kg)',\n",
       " 'Lenovo IdeaPad Slim 3 Intel Core i3 11th Gen 15.6\" (39.62cm) FHD Thin & Light Laptop (8GB/512GB SSD/Windows 11/Office 2021/2Yr Warranty/3months Game Pass/Arctic Grey/1.65Kg), 82H802FJIN',\n",
       " 'ASUS VivoBook 15 (2021), 15.6-inch (39.62 cm) HD, Dual Core Intel Celeron N4020, Thin and Light Laptop (4GB RAM/256GB SSD/Integrated Graphics/Windows 11 Home/Transparent Silver/1.8 Kg), X515MA-BR011W',\n",
       " \"Dell New Inspiron 3525 Laptop, AMD Athlon Silver 3050U, Windows 11 + Office'21, 8Gb Gddr4, 256Gb Ssd, Radeon Graphics, 15.6 Inches (39.62Cms) Hd Anti Glare (D560766Win9Be, 1.68Kgs)\"]"
      ]
     },
     "execution_count": 453,
     "metadata": {},
     "output_type": "execute_result"
    }
   ],
   "source": [
    "for i in titles_tag:\n",
    "    title = i.text \n",
    "    titles.append(title)\n",
    "titles[0:4]"
   ]
  },
  {
   "cell_type": "code",
   "execution_count": 454,
   "id": "b231624a",
   "metadata": {},
   "outputs": [
    {
     "data": {
      "text/plain": [
       "[<selenium.webdriver.remote.webelement.WebElement (session=\"e5f958d5883d5e0c137636dbf1d8aa21\", element=\"08b06047-09f3-421b-9a08-6db165caa6d3\")>,\n",
       " <selenium.webdriver.remote.webelement.WebElement (session=\"e5f958d5883d5e0c137636dbf1d8aa21\", element=\"942e6062-7ed7-4f26-a16f-498cee3dbedb\")>,\n",
       " <selenium.webdriver.remote.webelement.WebElement (session=\"e5f958d5883d5e0c137636dbf1d8aa21\", element=\"04808d3c-4ea5-44d7-b2f0-dafd1d5cd98d\")>,\n",
       " <selenium.webdriver.remote.webelement.WebElement (session=\"e5f958d5883d5e0c137636dbf1d8aa21\", element=\"ae3e5b8e-4036-4fd6-aa10-aa53de44e221\")>]"
      ]
     },
     "execution_count": 454,
     "metadata": {},
     "output_type": "execute_result"
    }
   ],
   "source": [
    "price_tag = driver.find_elements_by_xpath(\"//span[@class='a-price']\") \n",
    "price_tag[0:4]"
   ]
  },
  {
   "cell_type": "code",
   "execution_count": 455,
   "id": "d4160ed6",
   "metadata": {},
   "outputs": [
    {
     "data": {
      "text/plain": [
       "['₹52,470', '₹37,990', '₹25,990', '₹31,500']"
      ]
     },
     "execution_count": 455,
     "metadata": {},
     "output_type": "execute_result"
    }
   ],
   "source": [
    "for i in price_tag:\n",
    "    cost = i.text\n",
    "    price.append(cost)\n",
    "price[0:4]"
   ]
  },
  {
   "cell_type": "code",
   "execution_count": 456,
   "id": "ac77028c",
   "metadata": {},
   "outputs": [
    {
     "name": "stdout",
     "output_type": "stream",
     "text": [
      "23 26\n"
     ]
    }
   ],
   "source": [
    "print(len(titles), len(price))"
   ]
  },
  {
   "cell_type": "code",
   "execution_count": 457,
   "id": "d25dd491",
   "metadata": {},
   "outputs": [
    {
     "data": {
      "text/html": [
       "<div>\n",
       "<style scoped>\n",
       "    .dataframe tbody tr th:only-of-type {\n",
       "        vertical-align: middle;\n",
       "    }\n",
       "\n",
       "    .dataframe tbody tr th {\n",
       "        vertical-align: top;\n",
       "    }\n",
       "\n",
       "    .dataframe thead th {\n",
       "        text-align: right;\n",
       "    }\n",
       "</style>\n",
       "<table border=\"1\" class=\"dataframe\">\n",
       "  <thead>\n",
       "    <tr style=\"text-align: right;\">\n",
       "      <th></th>\n",
       "      <th>Title</th>\n",
       "      <th>Price</th>\n",
       "    </tr>\n",
       "  </thead>\n",
       "  <tbody>\n",
       "    <tr>\n",
       "      <th>0</th>\n",
       "      <td>Hp 15S 11Th Gen Intel Core I5 15.6 Inches Fhd ...</td>\n",
       "      <td>₹52,470</td>\n",
       "    </tr>\n",
       "    <tr>\n",
       "      <th>1</th>\n",
       "      <td>Lenovo IdeaPad Slim 3 Intel Core i3 11th Gen 1...</td>\n",
       "      <td>₹37,990</td>\n",
       "    </tr>\n",
       "    <tr>\n",
       "      <th>2</th>\n",
       "      <td>ASUS VivoBook 15 (2021), 15.6-inch (39.62 cm) ...</td>\n",
       "      <td>₹25,990</td>\n",
       "    </tr>\n",
       "    <tr>\n",
       "      <th>3</th>\n",
       "      <td>Dell New Inspiron 3525 Laptop, AMD Athlon Silv...</td>\n",
       "      <td>₹31,500</td>\n",
       "    </tr>\n",
       "    <tr>\n",
       "      <th>4</th>\n",
       "      <td>Lenovo IdeaPad Slim 3 Intel Celeron N4020 15.6...</td>\n",
       "      <td>₹28,980</td>\n",
       "    </tr>\n",
       "    <tr>\n",
       "      <th>5</th>\n",
       "      <td>HP Chromebook x360 Intel Celeron N4120 14 inch...</td>\n",
       "      <td>₹25,490</td>\n",
       "    </tr>\n",
       "    <tr>\n",
       "      <th>6</th>\n",
       "      <td>Lenovo IdeaPad Slim 1 Intel Celeron N4020 11.6...</td>\n",
       "      <td>₹70,000</td>\n",
       "    </tr>\n",
       "    <tr>\n",
       "      <th>7</th>\n",
       "      <td>HP NB 255 G8 Laptop (AMD Ryzen 3-3250U/8GB DDR...</td>\n",
       "      <td>₹68,000</td>\n",
       "    </tr>\n",
       "    <tr>\n",
       "      <th>8</th>\n",
       "      <td>Hp 15S 11Th Gen Intel Core I5 15.6 Inches Fhd ...</td>\n",
       "      <td></td>\n",
       "    </tr>\n",
       "    <tr>\n",
       "      <th>9</th>\n",
       "      <td>Lenovo IdeaPad 3 11th Gen Intel Core i3 15.6\" ...</td>\n",
       "      <td>₹23,606</td>\n",
       "    </tr>\n",
       "  </tbody>\n",
       "</table>\n",
       "</div>"
      ],
      "text/plain": [
       "                                               Title    Price\n",
       "0  Hp 15S 11Th Gen Intel Core I5 15.6 Inches Fhd ...  ₹52,470\n",
       "1  Lenovo IdeaPad Slim 3 Intel Core i3 11th Gen 1...  ₹37,990\n",
       "2  ASUS VivoBook 15 (2021), 15.6-inch (39.62 cm) ...  ₹25,990\n",
       "3  Dell New Inspiron 3525 Laptop, AMD Athlon Silv...  ₹31,500\n",
       "4  Lenovo IdeaPad Slim 3 Intel Celeron N4020 15.6...  ₹28,980\n",
       "5  HP Chromebook x360 Intel Celeron N4120 14 inch...  ₹25,490\n",
       "6  Lenovo IdeaPad Slim 1 Intel Celeron N4020 11.6...  ₹70,000\n",
       "7  HP NB 255 G8 Laptop (AMD Ryzen 3-3250U/8GB DDR...  ₹68,000\n",
       "8  Hp 15S 11Th Gen Intel Core I5 15.6 Inches Fhd ...         \n",
       "9  Lenovo IdeaPad 3 11th Gen Intel Core i3 15.6\" ...  ₹23,606"
      ]
     },
     "execution_count": 457,
     "metadata": {},
     "output_type": "execute_result"
    }
   ],
   "source": [
    "laptop = pd.DataFrame()\n",
    "laptop['Title'] = titles[:10]\n",
    "laptop['Price'] = price[:10]\n",
    "laptop"
   ]
  },
  {
   "cell_type": "markdown",
   "id": "00b26d37",
   "metadata": {},
   "source": [
    "# Q10: Write a python program to scrape the salary data for Data Scientist designation."
   ]
  },
  {
   "cell_type": "code",
   "execution_count": null,
   "id": "3752b521",
   "metadata": {},
   "outputs": [],
   "source": [
    "import selenium\n",
    "import pandas as pd\n",
    "from selenium import webdriver\n",
    "import warnings\n",
    "warnings.filterwarnings(\"ignore\")\n",
    "import time"
   ]
  },
  {
   "cell_type": "code",
   "execution_count": 464,
   "id": "ee3cbd1e",
   "metadata": {},
   "outputs": [],
   "source": [
    "driver = webdriver.Chrome('/Users/aryanlohan/downloads/chromedriver')\n",
    "driver.get('https://www.ambitionbox.com/')"
   ]
  },
  {
   "cell_type": "code",
   "execution_count": 465,
   "id": "f0e6be34",
   "metadata": {},
   "outputs": [],
   "source": [
    "salaries = driver.find_element_by_xpath(\"//a[@class='link salaries']\")\n",
    "salaries.click()"
   ]
  },
  {
   "cell_type": "code",
   "execution_count": 466,
   "id": "9eb20429",
   "metadata": {},
   "outputs": [],
   "source": [
    "designation = driver.find_element_by_xpath(\"/html/body/div/div/div/main/section[1]/div[2]/div[1]/span/input\")\n",
    "designation.send_keys(\"Data Scientist\")"
   ]
  },
  {
   "cell_type": "code",
   "execution_count": 467,
   "id": "e4edecd1",
   "metadata": {},
   "outputs": [],
   "source": [
    "search_button = driver.find_element_by_xpath(\"/html/body/div/div/div/main/section[1]/div[2]/div[1]/i[1]\")\n",
    "search_button.click()"
   ]
  },
  {
   "cell_type": "code",
   "execution_count": 468,
   "id": "d8c99df1",
   "metadata": {},
   "outputs": [],
   "source": [
    "result = driver.find_elements_by_xpath(\"//div[@class='result-row']\")\n",
    "results = []\n",
    "for i in result:\n",
    "    results.append(i.text.split('\\n'))"
   ]
  },
  {
   "cell_type": "code",
   "execution_count": 469,
   "id": "26d37453",
   "metadata": {},
   "outputs": [],
   "source": [
    "company_name = [i[0] for i in results]"
   ]
  },
  {
   "cell_type": "code",
   "execution_count": 470,
   "id": "5873176f",
   "metadata": {},
   "outputs": [],
   "source": [
    "salary_record = [i[1] for i in results]"
   ]
  },
  {
   "cell_type": "code",
   "execution_count": 471,
   "id": "db1e0d39",
   "metadata": {},
   "outputs": [],
   "source": [
    "average_salary = [i[4] for i in results]"
   ]
  },
  {
   "cell_type": "code",
   "execution_count": 472,
   "id": "191fbe08",
   "metadata": {},
   "outputs": [],
   "source": [
    "min_salary = [i[5] for i in results]"
   ]
  },
  {
   "cell_type": "code",
   "execution_count": 473,
   "id": "127104c3",
   "metadata": {},
   "outputs": [],
   "source": [
    "exp_reqd = [i[3] for i in results]"
   ]
  },
  {
   "cell_type": "code",
   "execution_count": 474,
   "id": "c420cd09",
   "metadata": {},
   "outputs": [
    {
     "data": {
      "text/html": [
       "<div>\n",
       "<style scoped>\n",
       "    .dataframe tbody tr th:only-of-type {\n",
       "        vertical-align: middle;\n",
       "    }\n",
       "\n",
       "    .dataframe tbody tr th {\n",
       "        vertical-align: top;\n",
       "    }\n",
       "\n",
       "    .dataframe thead th {\n",
       "        text-align: right;\n",
       "    }\n",
       "</style>\n",
       "<table border=\"1\" class=\"dataframe\">\n",
       "  <thead>\n",
       "    <tr style=\"text-align: right;\">\n",
       "      <th></th>\n",
       "      <th>Company Name</th>\n",
       "      <th>Total Salary Record</th>\n",
       "      <th>Average Salary</th>\n",
       "      <th>Minimum Salary</th>\n",
       "      <th>Experience Required</th>\n",
       "    </tr>\n",
       "  </thead>\n",
       "  <tbody>\n",
       "    <tr>\n",
       "      <th>0</th>\n",
       "      <td>Google</td>\n",
       "      <td>Software Engineer Salary</td>\n",
       "      <td>₹ 11.0L</td>\n",
       "      <td>₹ 65.0L</td>\n",
       "      <td>₹ 31.3L</td>\n",
       "    </tr>\n",
       "    <tr>\n",
       "      <th>1</th>\n",
       "      <td>Microsoft Corporation</td>\n",
       "      <td>Software Engineer Salary</td>\n",
       "      <td>₹ 13.0L</td>\n",
       "      <td>₹ 50.0L</td>\n",
       "      <td>₹ 24.0L</td>\n",
       "    </tr>\n",
       "    <tr>\n",
       "      <th>2</th>\n",
       "      <td>Goldman Sachs</td>\n",
       "      <td>Software Engineer Salary</td>\n",
       "      <td>₹ 12.0L</td>\n",
       "      <td>₹ 34.0L</td>\n",
       "      <td>₹ 23.0L</td>\n",
       "    </tr>\n",
       "    <tr>\n",
       "      <th>3</th>\n",
       "      <td>Tekion</td>\n",
       "      <td>Software Engineer Salary</td>\n",
       "      <td>₹ 12.0L</td>\n",
       "      <td>₹ 33.0L</td>\n",
       "      <td>₹ 21.2L</td>\n",
       "    </tr>\n",
       "    <tr>\n",
       "      <th>4</th>\n",
       "      <td>Amazon</td>\n",
       "      <td>Software Engineer Salary</td>\n",
       "      <td>₹ 8.0L</td>\n",
       "      <td>₹ 45.0L</td>\n",
       "      <td>₹ 21.0L</td>\n",
       "    </tr>\n",
       "    <tr>\n",
       "      <th>5</th>\n",
       "      <td>Servicenow Software Development India</td>\n",
       "      <td>Software Engineer Salary</td>\n",
       "      <td>₹ 13.0L</td>\n",
       "      <td>₹ 28.0L</td>\n",
       "      <td>₹ 20.5L</td>\n",
       "    </tr>\n",
       "    <tr>\n",
       "      <th>6</th>\n",
       "      <td>Flipkart</td>\n",
       "      <td>Software Engineer Salary</td>\n",
       "      <td>₹ 7.5L</td>\n",
       "      <td>₹ 31.0L</td>\n",
       "      <td>₹ 20.4L</td>\n",
       "    </tr>\n",
       "    <tr>\n",
       "      <th>7</th>\n",
       "      <td>Walmart</td>\n",
       "      <td>Software Engineer Salary</td>\n",
       "      <td>₹ 11.4L</td>\n",
       "      <td>₹ 32.5L</td>\n",
       "      <td>₹ 20.0L</td>\n",
       "    </tr>\n",
       "    <tr>\n",
       "      <th>8</th>\n",
       "      <td>PayPal</td>\n",
       "      <td>Software Engineer Salary</td>\n",
       "      <td>₹ 11.0L</td>\n",
       "      <td>₹ 31.0L</td>\n",
       "      <td>₹ 19.9L</td>\n",
       "    </tr>\n",
       "    <tr>\n",
       "      <th>9</th>\n",
       "      <td>Myntra</td>\n",
       "      <td>Software Engineer Salary</td>\n",
       "      <td>₹ 14.0L</td>\n",
       "      <td>₹ 27.0L</td>\n",
       "      <td>₹ 19.5L</td>\n",
       "    </tr>\n",
       "  </tbody>\n",
       "</table>\n",
       "</div>"
      ],
      "text/plain": [
       "                            Company Name       Total Salary Record  \\\n",
       "0                                 Google  Software Engineer Salary   \n",
       "1                  Microsoft Corporation  Software Engineer Salary   \n",
       "2                          Goldman Sachs  Software Engineer Salary   \n",
       "3                                 Tekion  Software Engineer Salary   \n",
       "4                                 Amazon  Software Engineer Salary   \n",
       "5  Servicenow Software Development India  Software Engineer Salary   \n",
       "6                               Flipkart  Software Engineer Salary   \n",
       "7                                Walmart  Software Engineer Salary   \n",
       "8                                 PayPal  Software Engineer Salary   \n",
       "9                                 Myntra  Software Engineer Salary   \n",
       "\n",
       "  Average Salary Minimum Salary Experience Required  \n",
       "0        ₹ 11.0L        ₹ 65.0L             ₹ 31.3L  \n",
       "1        ₹ 13.0L        ₹ 50.0L             ₹ 24.0L  \n",
       "2        ₹ 12.0L        ₹ 34.0L             ₹ 23.0L  \n",
       "3        ₹ 12.0L        ₹ 33.0L             ₹ 21.2L  \n",
       "4         ₹ 8.0L        ₹ 45.0L             ₹ 21.0L  \n",
       "5        ₹ 13.0L        ₹ 28.0L             ₹ 20.5L  \n",
       "6         ₹ 7.5L        ₹ 31.0L             ₹ 20.4L  \n",
       "7        ₹ 11.4L        ₹ 32.5L             ₹ 20.0L  \n",
       "8        ₹ 11.0L        ₹ 31.0L             ₹ 19.9L  \n",
       "9        ₹ 14.0L        ₹ 27.0L             ₹ 19.5L  "
      ]
     },
     "execution_count": 474,
     "metadata": {},
     "output_type": "execute_result"
    }
   ],
   "source": [
    "Ambition_Box = pd.DataFrame()\n",
    "Ambition_Box['Company Name'] = company_name\n",
    "Ambition_Box['Total Salary Record'] = salary_record\n",
    "Ambition_Box['Average Salary'] = average_salary\n",
    "Ambition_Box['Minimum Salary'] = min_salary\n",
    "Ambition_Box['Experience Required'] = exp_reqd\n",
    "Ambition_Box"
   ]
  },
  {
   "cell_type": "markdown",
   "id": "4e0d4b22",
   "metadata": {},
   "source": [
    "# Q9: Write a python program to scrape data for first 10 job results for Data Scientist Designation in Noida location."
   ]
  },
  {
   "cell_type": "code",
   "execution_count": 494,
   "id": "e478dce9",
   "metadata": {},
   "outputs": [],
   "source": [
    "import selenium\n",
    "import pandas as pd\n",
    "from selenium import webdriver\n",
    "import warnings\n",
    "warnings.filterwarnings(\"ignore\")\n",
    "import time"
   ]
  },
  {
   "cell_type": "code",
   "execution_count": 505,
   "id": "2379f44b",
   "metadata": {},
   "outputs": [],
   "source": [
    "from selenium .webdriver.common.by import By"
   ]
  },
  {
   "cell_type": "code",
   "execution_count": 506,
   "id": "838128a0",
   "metadata": {},
   "outputs": [],
   "source": [
    "driver = webdriver.Chrome('/Users/aryanlohan/downloads/chromedriver')\n",
    "driver.get('https://www.ambitionbox.com/')\n",
    "time.sleep(5)"
   ]
  },
  {
   "cell_type": "code",
   "execution_count": 507,
   "id": "7ce798d5",
   "metadata": {},
   "outputs": [],
   "source": [
    "jobs = driver.find_element_by_xpath(\"//a[@class='link jobs']\")\n",
    "jobs.click()"
   ]
  },
  {
   "cell_type": "code",
   "execution_count": 508,
   "id": "8728bd03",
   "metadata": {},
   "outputs": [],
   "source": [
    "designation = driver.find_element_by_xpath(\"//input[@class='input tt-input']\")\n",
    "designation.send_keys(\"Data Scientist\")"
   ]
  },
  {
   "cell_type": "code",
   "execution_count": 509,
   "id": "9a07fdb7",
   "metadata": {},
   "outputs": [],
   "source": [
    "search = driver.find_element_by_xpath(\"//button[@class='ab_btn search-btn round']\")\n",
    "search.click()"
   ]
  },
  {
   "cell_type": "code",
   "execution_count": 510,
   "id": "f87248c1",
   "metadata": {},
   "outputs": [],
   "source": [
    "location = driver.find_element_by_xpath(\"//div[@title='Location']\")\n",
    "location.click()"
   ]
  },
  {
   "cell_type": "code",
   "execution_count": 511,
   "id": "499c4090",
   "metadata": {},
   "outputs": [],
   "source": [
    "location_noida = driver.find_element_by_xpath(\"//input[@placeholder='Search locations']\")\n",
    "location_noida.send_keys(\"Noida\")"
   ]
  },
  {
   "cell_type": "code",
   "execution_count": 512,
   "id": "055d010d",
   "metadata": {},
   "outputs": [],
   "source": [
    "label_noida = driver.find_element_by_xpath(\"//input[@id='location_Noida']\")\n",
    "label_noida.click()"
   ]
  },
  {
   "cell_type": "code",
   "execution_count": 513,
   "id": "958ee2b8",
   "metadata": {},
   "outputs": [],
   "source": [
    "more_jobs = driver.find_element_by_xpath(\"//button[@class='ab_btn load-more-btn invert']\")\n",
    "more_jobs.click()"
   ]
  },
  {
   "cell_type": "code",
   "execution_count": 514,
   "id": "f1c99052",
   "metadata": {},
   "outputs": [],
   "source": [
    "company = driver.find_elements_by_xpath(\"//p[@class='company body-medium']\")\n",
    "company_name = []\n",
    "for i in company:\n",
    "    company_name.append(i.text)"
   ]
  },
  {
   "cell_type": "code",
   "execution_count": 515,
   "id": "51e92586",
   "metadata": {},
   "outputs": [
    {
     "data": {
      "text/plain": [
       "['Optum Global Solutions (India) Private Limited',\n",
       " 'GENPACT India Private Limited',\n",
       " 'Latent bridge',\n",
       " 'Dew Solutions Pvt. Ltd.',\n",
       " 'InfoEdge India Ltd.',\n",
       " 'Info Edge India Limited',\n",
       " 'Info Edge India Limited',\n",
       " 'Careerera',\n",
       " 'CRMnext',\n",
       " 'Careernet Consulting',\n",
       " 'Acidaes Solutions Pvt. Ltd.',\n",
       " 'Paytm',\n",
       " 'Invedus Outsourcing Pvt. Ltd',\n",
       " 'Invedus Outsourcing Pvt. Ltd',\n",
       " 'Sampoorna Consultants Pvt. Ltd',\n",
       " 'Paytm',\n",
       " 'IndiaLends',\n",
       " 'PayMe India',\n",
       " 'Randstad',\n",
       " 'IndiaLends']"
      ]
     },
     "execution_count": 515,
     "metadata": {},
     "output_type": "execute_result"
    }
   ],
   "source": [
    "company_name"
   ]
  },
  {
   "cell_type": "code",
   "execution_count": 516,
   "id": "7cc7e56e",
   "metadata": {},
   "outputs": [],
   "source": [
    "other_info = driver.find_elements_by_xpath(\"//div[@class='other-info']\")\n",
    "info = []\n",
    "for i in other_info:\n",
    "    info.append(i.text.split('\\n'))"
   ]
  },
  {
   "cell_type": "code",
   "execution_count": 517,
   "id": "0f61be0c",
   "metadata": {},
   "outputs": [],
   "source": [
    "days = [i[-1] for i in info]\n",
    "days_ago = [i.split('·', 2)[0] for i in days]"
   ]
  },
  {
   "cell_type": "code",
   "execution_count": 518,
   "id": "405e4ba7",
   "metadata": {},
   "outputs": [],
   "source": [
    "rate = driver.find_elements_by_xpath(\"//div[@class='rating-wrapper']\")"
   ]
  },
  {
   "cell_type": "code",
   "execution_count": 519,
   "id": "9918b102",
   "metadata": {},
   "outputs": [
    {
     "data": {
      "text/plain": [
       "[['4.1', 'based on 1.9k Reviews'],\n",
       " ['4.1', '(1.9k Reviews)'],\n",
       " ['4.0', '(18k Reviews)'],\n",
       " ['4.5', '(54 Reviews)'],\n",
       " ['4.3', '(80 Reviews)'],\n",
       " ['3.9', '(1.7k Reviews)'],\n",
       " ['3.9', '(1.7k Reviews)'],\n",
       " ['3.9', '(1.7k Reviews)'],\n",
       " ['3.8', '(101 Reviews)'],\n",
       " ['4.1', '(74 Reviews)'],\n",
       " ['3.9', '(290 Reviews)'],\n",
       " ['3.7', '(104 Reviews)'],\n",
       " ['3.8', '(4.3k Reviews)'],\n",
       " ['5.0', '(5 Reviews)'],\n",
       " ['5.0', '(5 Reviews)'],\n",
       " ['4.5', '(20 Reviews)'],\n",
       " ['3.8', '(4.3k Reviews)'],\n",
       " ['3.8', '(91 Reviews)'],\n",
       " ['4.2', '(16 Reviews)'],\n",
       " ['4.1', '(1.9k Reviews)'],\n",
       " ['3.8', '(91 Reviews)']]"
      ]
     },
     "execution_count": 519,
     "metadata": {},
     "output_type": "execute_result"
    }
   ],
   "source": [
    "rating = []\n",
    "for i in rate:\n",
    "    rating.append(i.text.split('\\n'))\n",
    "rating[3:]"
   ]
  },
  {
   "cell_type": "code",
   "execution_count": 520,
   "id": "faa69395",
   "metadata": {},
   "outputs": [],
   "source": [
    "ratings = [i[0] for i in rating]\n",
    "ratings = ratings[3:]"
   ]
  },
  {
   "cell_type": "code",
   "execution_count": 521,
   "id": "d90fdf6d",
   "metadata": {},
   "outputs": [
    {
     "data": {
      "text/html": [
       "<div>\n",
       "<style scoped>\n",
       "    .dataframe tbody tr th:only-of-type {\n",
       "        vertical-align: middle;\n",
       "    }\n",
       "\n",
       "    .dataframe tbody tr th {\n",
       "        vertical-align: top;\n",
       "    }\n",
       "\n",
       "    .dataframe thead th {\n",
       "        text-align: right;\n",
       "    }\n",
       "</style>\n",
       "<table border=\"1\" class=\"dataframe\">\n",
       "  <thead>\n",
       "    <tr style=\"text-align: right;\">\n",
       "      <th></th>\n",
       "      <th>Company Name</th>\n",
       "      <th>Days Ago</th>\n",
       "      <th>Ratings</th>\n",
       "    </tr>\n",
       "  </thead>\n",
       "  <tbody>\n",
       "    <tr>\n",
       "      <th>0</th>\n",
       "      <td>Optum Global Solutions (India) Private Limited</td>\n",
       "      <td>12d ago</td>\n",
       "      <td>4.1</td>\n",
       "    </tr>\n",
       "    <tr>\n",
       "      <th>1</th>\n",
       "      <td>GENPACT India Private Limited</td>\n",
       "      <td>19d ago</td>\n",
       "      <td>4.1</td>\n",
       "    </tr>\n",
       "    <tr>\n",
       "      <th>2</th>\n",
       "      <td>Latent bridge</td>\n",
       "      <td>3d ago</td>\n",
       "      <td>4.0</td>\n",
       "    </tr>\n",
       "    <tr>\n",
       "      <th>3</th>\n",
       "      <td>Dew Solutions Pvt. Ltd.</td>\n",
       "      <td>10d ago</td>\n",
       "      <td>4.5</td>\n",
       "    </tr>\n",
       "    <tr>\n",
       "      <th>4</th>\n",
       "      <td>InfoEdge India Ltd.</td>\n",
       "      <td>17d ago</td>\n",
       "      <td>4.3</td>\n",
       "    </tr>\n",
       "    <tr>\n",
       "      <th>5</th>\n",
       "      <td>Info Edge India Limited</td>\n",
       "      <td>18d ago</td>\n",
       "      <td>3.9</td>\n",
       "    </tr>\n",
       "    <tr>\n",
       "      <th>6</th>\n",
       "      <td>Info Edge India Limited</td>\n",
       "      <td>18d ago</td>\n",
       "      <td>3.9</td>\n",
       "    </tr>\n",
       "    <tr>\n",
       "      <th>7</th>\n",
       "      <td>Careerera</td>\n",
       "      <td>5d ago</td>\n",
       "      <td>3.9</td>\n",
       "    </tr>\n",
       "    <tr>\n",
       "      <th>8</th>\n",
       "      <td>CRMnext</td>\n",
       "      <td>13d ago</td>\n",
       "      <td>3.8</td>\n",
       "    </tr>\n",
       "    <tr>\n",
       "      <th>9</th>\n",
       "      <td>Careernet Consulting</td>\n",
       "      <td>1mon ago</td>\n",
       "      <td>4.1</td>\n",
       "    </tr>\n",
       "  </tbody>\n",
       "</table>\n",
       "</div>"
      ],
      "text/plain": [
       "                                     Company Name  Days Ago Ratings\n",
       "0  Optum Global Solutions (India) Private Limited   12d ago     4.1\n",
       "1                   GENPACT India Private Limited   19d ago     4.1\n",
       "2                                   Latent bridge    3d ago     4.0\n",
       "3                         Dew Solutions Pvt. Ltd.   10d ago     4.5\n",
       "4                             InfoEdge India Ltd.   17d ago     4.3\n",
       "5                         Info Edge India Limited   18d ago     3.9\n",
       "6                         Info Edge India Limited   18d ago     3.9\n",
       "7                                       Careerera    5d ago     3.9\n",
       "8                                         CRMnext   13d ago     3.8\n",
       "9                            Careernet Consulting  1mon ago     4.1"
      ]
     },
     "execution_count": 521,
     "metadata": {},
     "output_type": "execute_result"
    }
   ],
   "source": [
    "ambtionbox = pd.DataFrame()\n",
    "ambtionbox['Company Name'] = company_name[:10]\n",
    "ambtionbox['Days Ago'] = days_ago[:10]\n",
    "ambtionbox['Ratings'] = ratings[:10]\n",
    "ambtionbox"
   ]
  },
  {
   "cell_type": "markdown",
   "id": "b07ba497",
   "metadata": {},
   "source": [
    "# Q5: Scrape 100 reviews data from flipkart.com for iphone11 phone."
   ]
  },
  {
   "cell_type": "code",
   "execution_count": 522,
   "id": "1c7142a7",
   "metadata": {},
   "outputs": [],
   "source": [
    "import selenium\n",
    "import pandas as pd\n",
    "from selenium import webdriver\n",
    "import warnings\n",
    "warnings.filterwarnings(\"ignore\")\n",
    "import time"
   ]
  },
  {
   "cell_type": "code",
   "execution_count": 523,
   "id": "4d3a3293",
   "metadata": {},
   "outputs": [],
   "source": [
    "from selenium .webdriver.common.by import By"
   ]
  },
  {
   "cell_type": "code",
   "execution_count": 524,
   "id": "69a2416a",
   "metadata": {},
   "outputs": [],
   "source": [
    "driver.get(\"https://www.flipkart.com/apple-iphone-11-black-64-gb-includes-earpods-power-adapter/p/itm0f37c2240b217?pid=MOBFKCTSVZAXUHGR&lid=LSTMOBFKC\")"
   ]
  },
  {
   "cell_type": "code",
   "execution_count": 525,
   "id": "2b9644f1",
   "metadata": {},
   "outputs": [],
   "source": [
    "review_button =driver.find_element_by_xpath(\"/html/body/div[1]/div/div[3]/div[1]/div[2]/div[9]/div/div/div[5]/div/a/div/span\")\n",
    "review_button.click()"
   ]
  },
  {
   "cell_type": "code",
   "execution_count": 526,
   "id": "2b82a6d3",
   "metadata": {},
   "outputs": [],
   "source": [
    "time.sleep(5)"
   ]
  },
  {
   "cell_type": "code",
   "execution_count": 527,
   "id": "ee33dd92",
   "metadata": {},
   "outputs": [
    {
     "ename": "NoSuchElementException",
     "evalue": "Message: no such element: Unable to locate element: {\"method\":\"xpath\",\"selector\":\"/html/body/div[1]/div/div[3]/div/div/div[2]/div[13]/div/div/nav/a[11]\"}\n  (Session info: chrome=103.0.5060.114)\nStacktrace:\n0   chromedriver                        0x000000010100c079 chromedriver + 4444281\n1   chromedriver                        0x0000000100f98403 chromedriver + 3970051\n2   chromedriver                        0x0000000100c33038 chromedriver + 409656\n3   chromedriver                        0x0000000100c692fd chromedriver + 631549\n4   chromedriver                        0x0000000100c69581 chromedriver + 632193\n5   chromedriver                        0x0000000100c9b4f4 chromedriver + 836852\n6   chromedriver                        0x0000000100c867bd chromedriver + 751549\n7   chromedriver                        0x0000000100c99221 chromedriver + 827937\n8   chromedriver                        0x0000000100c86683 chromedriver + 751235\n9   chromedriver                        0x0000000100c5ca45 chromedriver + 580165\n10  chromedriver                        0x0000000100c5da95 chromedriver + 584341\n11  chromedriver                        0x0000000100fdd55d chromedriver + 4253021\n12  chromedriver                        0x0000000100fe23a1 chromedriver + 4273057\n13  chromedriver                        0x0000000100fe716f chromedriver + 4292975\n14  chromedriver                        0x0000000100fe2dea chromedriver + 4275690\n15  chromedriver                        0x0000000100fbc54f chromedriver + 4117839\n16  chromedriver                        0x0000000100ffced8 chromedriver + 4382424\n17  chromedriver                        0x0000000100ffd05f chromedriver + 4382815\n18  chromedriver                        0x00000001010138d5 chromedriver + 4475093\n19  libsystem_pthread.dylib             0x00007ff819d4c4e1 _pthread_start + 125\n20  libsystem_pthread.dylib             0x00007ff819d47f6b thread_start + 15\n",
     "output_type": "error",
     "traceback": [
      "\u001b[0;31m---------------------------------------------------------------------------\u001b[0m",
      "\u001b[0;31mNoSuchElementException\u001b[0m                    Traceback (most recent call last)",
      "Input \u001b[0;32mIn [527]\u001b[0m, in \u001b[0;36m<cell line: 4>\u001b[0;34m()\u001b[0m\n\u001b[1;32m     13\u001b[0m     full_review\u001b[38;5;241m.\u001b[39mappend(i\u001b[38;5;241m.\u001b[39mtext\u001b[38;5;241m.\u001b[39mreplace(\u001b[38;5;124m'\u001b[39m\u001b[38;5;130;01m\\n\u001b[39;00m\u001b[38;5;124m'\u001b[39m,\u001b[38;5;124m'\u001b[39m\u001b[38;5;124m.\u001b[39m\u001b[38;5;124m'\u001b[39m))\n\u001b[1;32m     14\u001b[0m time\u001b[38;5;241m.\u001b[39msleep(\u001b[38;5;241m5\u001b[39m)\n\u001b[0;32m---> 15\u001b[0m next_button \u001b[38;5;241m=\u001b[39m \u001b[43mdriver\u001b[49m\u001b[38;5;241;43m.\u001b[39;49m\u001b[43mfind_element_by_xpath\u001b[49m\u001b[43m(\u001b[49m\u001b[38;5;124;43m\"\u001b[39;49m\u001b[38;5;124;43m/html/body/div[1]/div/div[3]/div/div/div[2]/div[13]/div/div/nav/a[11]\u001b[39;49m\u001b[38;5;124;43m\"\u001b[39;49m\u001b[43m)\u001b[49m\n\u001b[1;32m     16\u001b[0m next_button\u001b[38;5;241m.\u001b[39mclick()\n\u001b[1;32m     17\u001b[0m time\u001b[38;5;241m.\u001b[39msleep(\u001b[38;5;241m15\u001b[39m)\n",
      "File \u001b[0;32m~/opt/anaconda3/lib/python3.9/site-packages/selenium/webdriver/remote/webdriver.py:526\u001b[0m, in \u001b[0;36mWebDriver.find_element_by_xpath\u001b[0;34m(self, xpath)\u001b[0m\n\u001b[1;32m    504\u001b[0m \u001b[38;5;124;03m\"\"\"\u001b[39;00m\n\u001b[1;32m    505\u001b[0m \u001b[38;5;124;03mFinds an element by xpath.\u001b[39;00m\n\u001b[1;32m    506\u001b[0m \n\u001b[0;32m   (...)\u001b[0m\n\u001b[1;32m    519\u001b[0m \u001b[38;5;124;03m        element = driver.find_element_by_xpath('//div/td[1]')\u001b[39;00m\n\u001b[1;32m    520\u001b[0m \u001b[38;5;124;03m\"\"\"\u001b[39;00m\n\u001b[1;32m    521\u001b[0m warnings\u001b[38;5;241m.\u001b[39mwarn(\n\u001b[1;32m    522\u001b[0m     \u001b[38;5;124m\"\u001b[39m\u001b[38;5;124mfind_element_by_xpath is deprecated. Please use find_element(by=By.XPATH, value=xpath) instead\u001b[39m\u001b[38;5;124m\"\u001b[39m,\n\u001b[1;32m    523\u001b[0m     \u001b[38;5;167;01mDeprecationWarning\u001b[39;00m,\n\u001b[1;32m    524\u001b[0m     stacklevel\u001b[38;5;241m=\u001b[39m\u001b[38;5;241m2\u001b[39m,\n\u001b[1;32m    525\u001b[0m )\n\u001b[0;32m--> 526\u001b[0m \u001b[38;5;28;01mreturn\u001b[39;00m \u001b[38;5;28;43mself\u001b[39;49m\u001b[38;5;241;43m.\u001b[39;49m\u001b[43mfind_element\u001b[49m\u001b[43m(\u001b[49m\u001b[43mby\u001b[49m\u001b[38;5;241;43m=\u001b[39;49m\u001b[43mBy\u001b[49m\u001b[38;5;241;43m.\u001b[39;49m\u001b[43mXPATH\u001b[49m\u001b[43m,\u001b[49m\u001b[43m \u001b[49m\u001b[43mvalue\u001b[49m\u001b[38;5;241;43m=\u001b[39;49m\u001b[43mxpath\u001b[49m\u001b[43m)\u001b[49m\n",
      "File \u001b[0;32m~/opt/anaconda3/lib/python3.9/site-packages/selenium/webdriver/remote/webdriver.py:1251\u001b[0m, in \u001b[0;36mWebDriver.find_element\u001b[0;34m(self, by, value)\u001b[0m\n\u001b[1;32m   1248\u001b[0m     by \u001b[38;5;241m=\u001b[39m By\u001b[38;5;241m.\u001b[39mCSS_SELECTOR\n\u001b[1;32m   1249\u001b[0m     value \u001b[38;5;241m=\u001b[39m \u001b[38;5;124m'\u001b[39m\u001b[38;5;124m[name=\u001b[39m\u001b[38;5;124m\"\u001b[39m\u001b[38;5;132;01m%s\u001b[39;00m\u001b[38;5;124m\"\u001b[39m\u001b[38;5;124m]\u001b[39m\u001b[38;5;124m'\u001b[39m \u001b[38;5;241m%\u001b[39m value\n\u001b[0;32m-> 1251\u001b[0m \u001b[38;5;28;01mreturn\u001b[39;00m \u001b[38;5;28;43mself\u001b[39;49m\u001b[38;5;241;43m.\u001b[39;49m\u001b[43mexecute\u001b[49m\u001b[43m(\u001b[49m\u001b[43mCommand\u001b[49m\u001b[38;5;241;43m.\u001b[39;49m\u001b[43mFIND_ELEMENT\u001b[49m\u001b[43m,\u001b[49m\u001b[43m \u001b[49m\u001b[43m{\u001b[49m\n\u001b[1;32m   1252\u001b[0m \u001b[43m    \u001b[49m\u001b[38;5;124;43m'\u001b[39;49m\u001b[38;5;124;43musing\u001b[39;49m\u001b[38;5;124;43m'\u001b[39;49m\u001b[43m:\u001b[49m\u001b[43m \u001b[49m\u001b[43mby\u001b[49m\u001b[43m,\u001b[49m\n\u001b[1;32m   1253\u001b[0m \u001b[43m    \u001b[49m\u001b[38;5;124;43m'\u001b[39;49m\u001b[38;5;124;43mvalue\u001b[39;49m\u001b[38;5;124;43m'\u001b[39;49m\u001b[43m:\u001b[49m\u001b[43m \u001b[49m\u001b[43mvalue\u001b[49m\u001b[43m}\u001b[49m\u001b[43m)\u001b[49m[\u001b[38;5;124m'\u001b[39m\u001b[38;5;124mvalue\u001b[39m\u001b[38;5;124m'\u001b[39m]\n",
      "File \u001b[0;32m~/opt/anaconda3/lib/python3.9/site-packages/selenium/webdriver/remote/webdriver.py:430\u001b[0m, in \u001b[0;36mWebDriver.execute\u001b[0;34m(self, driver_command, params)\u001b[0m\n\u001b[1;32m    428\u001b[0m response \u001b[38;5;241m=\u001b[39m \u001b[38;5;28mself\u001b[39m\u001b[38;5;241m.\u001b[39mcommand_executor\u001b[38;5;241m.\u001b[39mexecute(driver_command, params)\n\u001b[1;32m    429\u001b[0m \u001b[38;5;28;01mif\u001b[39;00m response:\n\u001b[0;32m--> 430\u001b[0m     \u001b[38;5;28;43mself\u001b[39;49m\u001b[38;5;241;43m.\u001b[39;49m\u001b[43merror_handler\u001b[49m\u001b[38;5;241;43m.\u001b[39;49m\u001b[43mcheck_response\u001b[49m\u001b[43m(\u001b[49m\u001b[43mresponse\u001b[49m\u001b[43m)\u001b[49m\n\u001b[1;32m    431\u001b[0m     response[\u001b[38;5;124m'\u001b[39m\u001b[38;5;124mvalue\u001b[39m\u001b[38;5;124m'\u001b[39m] \u001b[38;5;241m=\u001b[39m \u001b[38;5;28mself\u001b[39m\u001b[38;5;241m.\u001b[39m_unwrap_value(\n\u001b[1;32m    432\u001b[0m         response\u001b[38;5;241m.\u001b[39mget(\u001b[38;5;124m'\u001b[39m\u001b[38;5;124mvalue\u001b[39m\u001b[38;5;124m'\u001b[39m, \u001b[38;5;28;01mNone\u001b[39;00m))\n\u001b[1;32m    433\u001b[0m     \u001b[38;5;28;01mreturn\u001b[39;00m response\n",
      "File \u001b[0;32m~/opt/anaconda3/lib/python3.9/site-packages/selenium/webdriver/remote/errorhandler.py:247\u001b[0m, in \u001b[0;36mErrorHandler.check_response\u001b[0;34m(self, response)\u001b[0m\n\u001b[1;32m    245\u001b[0m         alert_text \u001b[38;5;241m=\u001b[39m value[\u001b[38;5;124m'\u001b[39m\u001b[38;5;124malert\u001b[39m\u001b[38;5;124m'\u001b[39m]\u001b[38;5;241m.\u001b[39mget(\u001b[38;5;124m'\u001b[39m\u001b[38;5;124mtext\u001b[39m\u001b[38;5;124m'\u001b[39m)\n\u001b[1;32m    246\u001b[0m     \u001b[38;5;28;01mraise\u001b[39;00m exception_class(message, screen, stacktrace, alert_text)  \u001b[38;5;66;03m# type: ignore[call-arg]  # mypy is not smart enough here\u001b[39;00m\n\u001b[0;32m--> 247\u001b[0m \u001b[38;5;28;01mraise\u001b[39;00m exception_class(message, screen, stacktrace)\n",
      "\u001b[0;31mNoSuchElementException\u001b[0m: Message: no such element: Unable to locate element: {\"method\":\"xpath\",\"selector\":\"/html/body/div[1]/div/div[3]/div/div/div[2]/div[13]/div/div/nav/a[11]\"}\n  (Session info: chrome=103.0.5060.114)\nStacktrace:\n0   chromedriver                        0x000000010100c079 chromedriver + 4444281\n1   chromedriver                        0x0000000100f98403 chromedriver + 3970051\n2   chromedriver                        0x0000000100c33038 chromedriver + 409656\n3   chromedriver                        0x0000000100c692fd chromedriver + 631549\n4   chromedriver                        0x0000000100c69581 chromedriver + 632193\n5   chromedriver                        0x0000000100c9b4f4 chromedriver + 836852\n6   chromedriver                        0x0000000100c867bd chromedriver + 751549\n7   chromedriver                        0x0000000100c99221 chromedriver + 827937\n8   chromedriver                        0x0000000100c86683 chromedriver + 751235\n9   chromedriver                        0x0000000100c5ca45 chromedriver + 580165\n10  chromedriver                        0x0000000100c5da95 chromedriver + 584341\n11  chromedriver                        0x0000000100fdd55d chromedriver + 4253021\n12  chromedriver                        0x0000000100fe23a1 chromedriver + 4273057\n13  chromedriver                        0x0000000100fe716f chromedriver + 4292975\n14  chromedriver                        0x0000000100fe2dea chromedriver + 4275690\n15  chromedriver                        0x0000000100fbc54f chromedriver + 4117839\n16  chromedriver                        0x0000000100ffced8 chromedriver + 4382424\n17  chromedriver                        0x0000000100ffd05f chromedriver + 4382815\n18  chromedriver                        0x00000001010138d5 chromedriver + 4475093\n19  libsystem_pthread.dylib             0x00007ff819d4c4e1 _pthread_start + 125\n20  libsystem_pthread.dylib             0x00007ff819d47f6b thread_start + 15\n"
     ]
    }
   ],
   "source": [
    "ratings=[]\n",
    "review_summary=[]\n",
    "full_review = []\n",
    "for counter in range(0,11):\n",
    "    rating = driver.find_elements_by_xpath(\"//div[@class='_3LWZlK _1BLPMq']\")\n",
    "    for i in rating:\n",
    "        ratings.append(i.text)\n",
    "    summary = driver.find_elements_by_xpath(\"//p[@class='_2-N8zT']\")\n",
    "    for i in summary:\n",
    "        review_summary.append(i.text)\n",
    "    review = driver.find_elements_by_xpath(\"//div[@class='t-ZTKy']\")\n",
    "    for i in review:\n",
    "        full_review.append(i.text.replace('\\n','.'))\n",
    "    time.sleep(5)\n",
    "    next_button = driver.find_element_by_xpath(\"/html/body/div[1]/div/div[3]/div/div/div[2]/div[13]/div/div/nav/a[11]\")\n",
    "    next_button.click()\n",
    "    time.sleep(15)\n",
    "    counter=counter+1"
   ]
  },
  {
   "cell_type": "code",
   "execution_count": 528,
   "id": "f7607320",
   "metadata": {},
   "outputs": [
    {
     "name": "stdout",
     "output_type": "stream",
     "text": [
      "58\n",
      "58\n",
      "58\n"
     ]
    }
   ],
   "source": [
    "print(len(ratings))\n",
    "print(len(review_summary))\n",
    "print(len(full_review))"
   ]
  },
  {
   "cell_type": "code",
   "execution_count": 529,
   "id": "8d42d451",
   "metadata": {},
   "outputs": [
    {
     "data": {
      "text/html": [
       "<div>\n",
       "<style scoped>\n",
       "    .dataframe tbody tr th:only-of-type {\n",
       "        vertical-align: middle;\n",
       "    }\n",
       "\n",
       "    .dataframe tbody tr th {\n",
       "        vertical-align: top;\n",
       "    }\n",
       "\n",
       "    .dataframe thead th {\n",
       "        text-align: right;\n",
       "    }\n",
       "</style>\n",
       "<table border=\"1\" class=\"dataframe\">\n",
       "  <thead>\n",
       "    <tr style=\"text-align: right;\">\n",
       "      <th></th>\n",
       "      <th>Ratings</th>\n",
       "      <th>Review Summary</th>\n",
       "      <th>Full Review</th>\n",
       "    </tr>\n",
       "  </thead>\n",
       "  <tbody>\n",
       "    <tr>\n",
       "      <th>0</th>\n",
       "      <td>5</td>\n",
       "      <td>Simply awesome</td>\n",
       "      <td>Really satisfied with the Product I received.....</td>\n",
       "    </tr>\n",
       "    <tr>\n",
       "      <th>1</th>\n",
       "      <td>5</td>\n",
       "      <td>Perfect product!</td>\n",
       "      <td>Amazing phone with great cameras and better ba...</td>\n",
       "    </tr>\n",
       "    <tr>\n",
       "      <th>2</th>\n",
       "      <td>5</td>\n",
       "      <td>Best in the market!</td>\n",
       "      <td>Great iPhone very snappy experience as apple k...</td>\n",
       "    </tr>\n",
       "    <tr>\n",
       "      <th>3</th>\n",
       "      <td>5</td>\n",
       "      <td>Highly recommended</td>\n",
       "      <td>What a camera .....just awesome ..you can feel...</td>\n",
       "    </tr>\n",
       "    <tr>\n",
       "      <th>4</th>\n",
       "      <td>5</td>\n",
       "      <td>Worth every penny</td>\n",
       "      <td>Previously I was using one plus 3t it was a gr...</td>\n",
       "    </tr>\n",
       "    <tr>\n",
       "      <th>5</th>\n",
       "      <td>5</td>\n",
       "      <td>Fabulous!</td>\n",
       "      <td>This is my first iOS phone. I am very happy wi...</td>\n",
       "    </tr>\n",
       "    <tr>\n",
       "      <th>6</th>\n",
       "      <td>5</td>\n",
       "      <td>Great product</td>\n",
       "      <td>Amazing Powerful and Durable Gadget...I’m am v...</td>\n",
       "    </tr>\n",
       "    <tr>\n",
       "      <th>7</th>\n",
       "      <td>5</td>\n",
       "      <td>Worth every penny</td>\n",
       "      <td>i11 is worthy to buy, too much happy with the ...</td>\n",
       "    </tr>\n",
       "    <tr>\n",
       "      <th>8</th>\n",
       "      <td>4</td>\n",
       "      <td>Good choice</td>\n",
       "      <td>So far it’s been an AMAZING experience coming ...</td>\n",
       "    </tr>\n",
       "    <tr>\n",
       "      <th>9</th>\n",
       "      <td>5</td>\n",
       "      <td>Highly recommended</td>\n",
       "      <td>iphone 11 is a very good phone to buy only if ...</td>\n",
       "    </tr>\n",
       "    <tr>\n",
       "      <th>10</th>\n",
       "      <td>5</td>\n",
       "      <td>Simply awesome</td>\n",
       "      <td>Really satisfied with the Product I received.....</td>\n",
       "    </tr>\n",
       "    <tr>\n",
       "      <th>11</th>\n",
       "      <td>5</td>\n",
       "      <td>Perfect product!</td>\n",
       "      <td>Amazing phone with great cameras and better ba...</td>\n",
       "    </tr>\n",
       "    <tr>\n",
       "      <th>12</th>\n",
       "      <td>5</td>\n",
       "      <td>Best in the market!</td>\n",
       "      <td>Great iPhone very snappy experience as apple k...</td>\n",
       "    </tr>\n",
       "    <tr>\n",
       "      <th>13</th>\n",
       "      <td>5</td>\n",
       "      <td>Highly recommended</td>\n",
       "      <td>What a camera .....just awesome ..you can feel...</td>\n",
       "    </tr>\n",
       "    <tr>\n",
       "      <th>14</th>\n",
       "      <td>5</td>\n",
       "      <td>Worth every penny</td>\n",
       "      <td>Previously I was using one plus 3t it was a gr...</td>\n",
       "    </tr>\n",
       "    <tr>\n",
       "      <th>15</th>\n",
       "      <td>5</td>\n",
       "      <td>Fabulous!</td>\n",
       "      <td>This is my first iOS phone. I am very happy wi...</td>\n",
       "    </tr>\n",
       "    <tr>\n",
       "      <th>16</th>\n",
       "      <td>5</td>\n",
       "      <td>Great product</td>\n",
       "      <td>Amazing Powerful and Durable Gadget...I’m am v...</td>\n",
       "    </tr>\n",
       "    <tr>\n",
       "      <th>17</th>\n",
       "      <td>5</td>\n",
       "      <td>Worth every penny</td>\n",
       "      <td>i11 is worthy to buy, too much happy with the ...</td>\n",
       "    </tr>\n",
       "    <tr>\n",
       "      <th>18</th>\n",
       "      <td>4</td>\n",
       "      <td>Good choice</td>\n",
       "      <td>So far it’s been an AMAZING experience coming ...</td>\n",
       "    </tr>\n",
       "    <tr>\n",
       "      <th>19</th>\n",
       "      <td>5</td>\n",
       "      <td>Highly recommended</td>\n",
       "      <td>iphone 11 is a very good phone to buy only if ...</td>\n",
       "    </tr>\n",
       "    <tr>\n",
       "      <th>20</th>\n",
       "      <td>5</td>\n",
       "      <td>Highly recommended</td>\n",
       "      <td>It's my first time to use iOS phone and I am l...</td>\n",
       "    </tr>\n",
       "    <tr>\n",
       "      <th>21</th>\n",
       "      <td>5</td>\n",
       "      <td>Perfect product!</td>\n",
       "      <td>It’s a must buy who is looking for an upgrade ...</td>\n",
       "    </tr>\n",
       "    <tr>\n",
       "      <th>22</th>\n",
       "      <td>5</td>\n",
       "      <td>Perfect product!</td>\n",
       "      <td>Value for money❤️❤️.Its awesome mobile phone i...</td>\n",
       "    </tr>\n",
       "    <tr>\n",
       "      <th>23</th>\n",
       "      <td>5</td>\n",
       "      <td>Worth every penny</td>\n",
       "      <td>Smooth like butter, camera like fantabulous, s...</td>\n",
       "    </tr>\n",
       "    <tr>\n",
       "      <th>24</th>\n",
       "      <td>5</td>\n",
       "      <td>Perfect product!</td>\n",
       "      <td>It is just awesome mobile for this price from ...</td>\n",
       "    </tr>\n",
       "    <tr>\n",
       "      <th>25</th>\n",
       "      <td>5</td>\n",
       "      <td>Perfect product!</td>\n",
       "      <td>Iphone is just awesome.. battery backup is ver...</td>\n",
       "    </tr>\n",
       "    <tr>\n",
       "      <th>26</th>\n",
       "      <td>5</td>\n",
       "      <td>Worth every penny</td>\n",
       "      <td>Best budget Iphone till date ❤️ go for it guys...</td>\n",
       "    </tr>\n",
       "    <tr>\n",
       "      <th>27</th>\n",
       "      <td>5</td>\n",
       "      <td>Terrific</td>\n",
       "      <td>Really worth of money. i just love it. It is t...</td>\n",
       "    </tr>\n",
       "    <tr>\n",
       "      <th>28</th>\n",
       "      <td>5</td>\n",
       "      <td>Wonderful</td>\n",
       "      <td>This is my first ever I phone. Before this I w...</td>\n",
       "    </tr>\n",
       "    <tr>\n",
       "      <th>29</th>\n",
       "      <td>5</td>\n",
       "      <td>Simply awesome</td>\n",
       "      <td>Excellent camera, good performance, no lag. Th...</td>\n",
       "    </tr>\n",
       "    <tr>\n",
       "      <th>30</th>\n",
       "      <td>5</td>\n",
       "      <td>Excellent</td>\n",
       "      <td>A perfect phone and a good battery super camer...</td>\n",
       "    </tr>\n",
       "    <tr>\n",
       "      <th>31</th>\n",
       "      <td>5</td>\n",
       "      <td>Excellent</td>\n",
       "      <td>It was amazing experience for me. Honestly i a...</td>\n",
       "    </tr>\n",
       "    <tr>\n",
       "      <th>32</th>\n",
       "      <td>5</td>\n",
       "      <td>Terrific</td>\n",
       "      <td>I bought iPhone 11 On March 2021, And I am Wri...</td>\n",
       "    </tr>\n",
       "    <tr>\n",
       "      <th>33</th>\n",
       "      <td>5</td>\n",
       "      <td>Excellent</td>\n",
       "      <td>Just go for it..This phone is really amazing. ...</td>\n",
       "    </tr>\n",
       "    <tr>\n",
       "      <th>34</th>\n",
       "      <td>5</td>\n",
       "      <td>Worth every penny</td>\n",
       "      <td>Here is the thing..The only reason why you sho...</td>\n",
       "    </tr>\n",
       "    <tr>\n",
       "      <th>35</th>\n",
       "      <td>5</td>\n",
       "      <td>Super!</td>\n",
       "      <td>This is my first ever iPhone..And I truly don’...</td>\n",
       "    </tr>\n",
       "    <tr>\n",
       "      <th>36</th>\n",
       "      <td>5</td>\n",
       "      <td>Wonderful</td>\n",
       "      <td>Nice value for money good and best price I pho...</td>\n",
       "    </tr>\n",
       "    <tr>\n",
       "      <th>37</th>\n",
       "      <td>5</td>\n",
       "      <td>Best in the market!</td>\n",
       "      <td>Don’t expect much from front camera… especiall...</td>\n",
       "    </tr>\n",
       "    <tr>\n",
       "      <th>38</th>\n",
       "      <td>5</td>\n",
       "      <td>Mind-blowing purchase</td>\n",
       "      <td>Absolutely powerful gadget. Loved it’s look! S...</td>\n",
       "    </tr>\n",
       "    <tr>\n",
       "      <th>39</th>\n",
       "      <td>5</td>\n",
       "      <td>Worth every penny</td>\n",
       "      <td>Undoubtedly Iphone 11 is the most successful m...</td>\n",
       "    </tr>\n",
       "    <tr>\n",
       "      <th>40</th>\n",
       "      <td>5</td>\n",
       "      <td>Excellent</td>\n",
       "      <td>A perfect phone and a good battery super camer...</td>\n",
       "    </tr>\n",
       "    <tr>\n",
       "      <th>41</th>\n",
       "      <td>5</td>\n",
       "      <td>Excellent</td>\n",
       "      <td>It was amazing experience for me. Honestly i a...</td>\n",
       "    </tr>\n",
       "    <tr>\n",
       "      <th>42</th>\n",
       "      <td>5</td>\n",
       "      <td>Terrific</td>\n",
       "      <td>I bought iPhone 11 On March 2021, And I am Wri...</td>\n",
       "    </tr>\n",
       "    <tr>\n",
       "      <th>43</th>\n",
       "      <td>5</td>\n",
       "      <td>Excellent</td>\n",
       "      <td>Just go for it..This phone is really amazing. ...</td>\n",
       "    </tr>\n",
       "    <tr>\n",
       "      <th>44</th>\n",
       "      <td>5</td>\n",
       "      <td>Worth every penny</td>\n",
       "      <td>Here is the thing..The only reason why you sho...</td>\n",
       "    </tr>\n",
       "    <tr>\n",
       "      <th>45</th>\n",
       "      <td>5</td>\n",
       "      <td>Super!</td>\n",
       "      <td>This is my first ever iPhone..And I truly don’...</td>\n",
       "    </tr>\n",
       "    <tr>\n",
       "      <th>46</th>\n",
       "      <td>5</td>\n",
       "      <td>Wonderful</td>\n",
       "      <td>Nice value for money good and best price I pho...</td>\n",
       "    </tr>\n",
       "    <tr>\n",
       "      <th>47</th>\n",
       "      <td>5</td>\n",
       "      <td>Best in the market!</td>\n",
       "      <td>Don’t expect much from front camera… especiall...</td>\n",
       "    </tr>\n",
       "    <tr>\n",
       "      <th>48</th>\n",
       "      <td>5</td>\n",
       "      <td>Mind-blowing purchase</td>\n",
       "      <td>Absolutely powerful gadget. Loved it’s look! S...</td>\n",
       "    </tr>\n",
       "    <tr>\n",
       "      <th>49</th>\n",
       "      <td>5</td>\n",
       "      <td>Worth every penny</td>\n",
       "      <td>Undoubtedly Iphone 11 is the most successful m...</td>\n",
       "    </tr>\n",
       "    <tr>\n",
       "      <th>50</th>\n",
       "      <td>5</td>\n",
       "      <td>Great product</td>\n",
       "      <td>This iphone 11 by apple is simply amazing . Io...</td>\n",
       "    </tr>\n",
       "    <tr>\n",
       "      <th>51</th>\n",
       "      <td>5</td>\n",
       "      <td>excellent</td>\n",
       "      <td>I liked it very much, super performance , givi...</td>\n",
       "    </tr>\n",
       "    <tr>\n",
       "      <th>52</th>\n",
       "      <td>5</td>\n",
       "      <td>Fabulous!</td>\n",
       "      <td>This is my first I phone and I'm very happy to...</td>\n",
       "    </tr>\n",
       "    <tr>\n",
       "      <th>53</th>\n",
       "      <td>5</td>\n",
       "      <td>Best in the market!</td>\n",
       "      <td>Super cool 😍</td>\n",
       "    </tr>\n",
       "    <tr>\n",
       "      <th>54</th>\n",
       "      <td>5</td>\n",
       "      <td>Perfect product!</td>\n",
       "      <td>Excellent service by Flipkart. The phone is tr...</td>\n",
       "    </tr>\n",
       "    <tr>\n",
       "      <th>55</th>\n",
       "      <td>5</td>\n",
       "      <td>Perfect product!</td>\n",
       "      <td>A great device with a good battery backup that...</td>\n",
       "    </tr>\n",
       "    <tr>\n",
       "      <th>56</th>\n",
       "      <td>5</td>\n",
       "      <td>Super!</td>\n",
       "      <td>Good display in this phone however screen is L...</td>\n",
       "    </tr>\n",
       "    <tr>\n",
       "      <th>57</th>\n",
       "      <td>5</td>\n",
       "      <td>Terrific purchase</td>\n",
       "      <td>Value for money 😍</td>\n",
       "    </tr>\n",
       "  </tbody>\n",
       "</table>\n",
       "</div>"
      ],
      "text/plain": [
       "   Ratings         Review Summary  \\\n",
       "0        5         Simply awesome   \n",
       "1        5       Perfect product!   \n",
       "2        5    Best in the market!   \n",
       "3        5     Highly recommended   \n",
       "4        5      Worth every penny   \n",
       "5        5              Fabulous!   \n",
       "6        5          Great product   \n",
       "7        5      Worth every penny   \n",
       "8        4            Good choice   \n",
       "9        5     Highly recommended   \n",
       "10       5         Simply awesome   \n",
       "11       5       Perfect product!   \n",
       "12       5    Best in the market!   \n",
       "13       5     Highly recommended   \n",
       "14       5      Worth every penny   \n",
       "15       5              Fabulous!   \n",
       "16       5          Great product   \n",
       "17       5      Worth every penny   \n",
       "18       4            Good choice   \n",
       "19       5     Highly recommended   \n",
       "20       5     Highly recommended   \n",
       "21       5       Perfect product!   \n",
       "22       5       Perfect product!   \n",
       "23       5      Worth every penny   \n",
       "24       5       Perfect product!   \n",
       "25       5       Perfect product!   \n",
       "26       5      Worth every penny   \n",
       "27       5               Terrific   \n",
       "28       5              Wonderful   \n",
       "29       5         Simply awesome   \n",
       "30       5              Excellent   \n",
       "31       5              Excellent   \n",
       "32       5               Terrific   \n",
       "33       5              Excellent   \n",
       "34       5      Worth every penny   \n",
       "35       5                 Super!   \n",
       "36       5              Wonderful   \n",
       "37       5    Best in the market!   \n",
       "38       5  Mind-blowing purchase   \n",
       "39       5      Worth every penny   \n",
       "40       5              Excellent   \n",
       "41       5              Excellent   \n",
       "42       5               Terrific   \n",
       "43       5              Excellent   \n",
       "44       5      Worth every penny   \n",
       "45       5                 Super!   \n",
       "46       5              Wonderful   \n",
       "47       5    Best in the market!   \n",
       "48       5  Mind-blowing purchase   \n",
       "49       5      Worth every penny   \n",
       "50       5          Great product   \n",
       "51       5              excellent   \n",
       "52       5              Fabulous!   \n",
       "53       5    Best in the market!   \n",
       "54       5       Perfect product!   \n",
       "55       5       Perfect product!   \n",
       "56       5                 Super!   \n",
       "57       5      Terrific purchase   \n",
       "\n",
       "                                          Full Review  \n",
       "0   Really satisfied with the Product I received.....  \n",
       "1   Amazing phone with great cameras and better ba...  \n",
       "2   Great iPhone very snappy experience as apple k...  \n",
       "3   What a camera .....just awesome ..you can feel...  \n",
       "4   Previously I was using one plus 3t it was a gr...  \n",
       "5   This is my first iOS phone. I am very happy wi...  \n",
       "6   Amazing Powerful and Durable Gadget...I’m am v...  \n",
       "7   i11 is worthy to buy, too much happy with the ...  \n",
       "8   So far it’s been an AMAZING experience coming ...  \n",
       "9   iphone 11 is a very good phone to buy only if ...  \n",
       "10  Really satisfied with the Product I received.....  \n",
       "11  Amazing phone with great cameras and better ba...  \n",
       "12  Great iPhone very snappy experience as apple k...  \n",
       "13  What a camera .....just awesome ..you can feel...  \n",
       "14  Previously I was using one plus 3t it was a gr...  \n",
       "15  This is my first iOS phone. I am very happy wi...  \n",
       "16  Amazing Powerful and Durable Gadget...I’m am v...  \n",
       "17  i11 is worthy to buy, too much happy with the ...  \n",
       "18  So far it’s been an AMAZING experience coming ...  \n",
       "19  iphone 11 is a very good phone to buy only if ...  \n",
       "20  It's my first time to use iOS phone and I am l...  \n",
       "21  It’s a must buy who is looking for an upgrade ...  \n",
       "22  Value for money❤️❤️.Its awesome mobile phone i...  \n",
       "23  Smooth like butter, camera like fantabulous, s...  \n",
       "24  It is just awesome mobile for this price from ...  \n",
       "25  Iphone is just awesome.. battery backup is ver...  \n",
       "26  Best budget Iphone till date ❤️ go for it guys...  \n",
       "27  Really worth of money. i just love it. It is t...  \n",
       "28  This is my first ever I phone. Before this I w...  \n",
       "29  Excellent camera, good performance, no lag. Th...  \n",
       "30  A perfect phone and a good battery super camer...  \n",
       "31  It was amazing experience for me. Honestly i a...  \n",
       "32  I bought iPhone 11 On March 2021, And I am Wri...  \n",
       "33  Just go for it..This phone is really amazing. ...  \n",
       "34  Here is the thing..The only reason why you sho...  \n",
       "35  This is my first ever iPhone..And I truly don’...  \n",
       "36  Nice value for money good and best price I pho...  \n",
       "37  Don’t expect much from front camera… especiall...  \n",
       "38  Absolutely powerful gadget. Loved it’s look! S...  \n",
       "39  Undoubtedly Iphone 11 is the most successful m...  \n",
       "40  A perfect phone and a good battery super camer...  \n",
       "41  It was amazing experience for me. Honestly i a...  \n",
       "42  I bought iPhone 11 On March 2021, And I am Wri...  \n",
       "43  Just go for it..This phone is really amazing. ...  \n",
       "44  Here is the thing..The only reason why you sho...  \n",
       "45  This is my first ever iPhone..And I truly don’...  \n",
       "46  Nice value for money good and best price I pho...  \n",
       "47  Don’t expect much from front camera… especiall...  \n",
       "48  Absolutely powerful gadget. Loved it’s look! S...  \n",
       "49  Undoubtedly Iphone 11 is the most successful m...  \n",
       "50  This iphone 11 by apple is simply amazing . Io...  \n",
       "51  I liked it very much, super performance , givi...  \n",
       "52  This is my first I phone and I'm very happy to...  \n",
       "53                                       Super cool 😍  \n",
       "54  Excellent service by Flipkart. The phone is tr...  \n",
       "55  A great device with a good battery backup that...  \n",
       "56  Good display in this phone however screen is L...  \n",
       "57                                  Value for money 😍  "
      ]
     },
     "execution_count": 529,
     "metadata": {},
     "output_type": "execute_result"
    }
   ],
   "source": [
    "iphone = pd.DataFrame()\n",
    "iphone['Ratings'] = ratings[:100]\n",
    "iphone['Review Summary'] = review_summary[:100]\n",
    "iphone['Full Review'] = full_review[:100]\n",
    "iphone"
   ]
  },
  {
   "cell_type": "code",
   "execution_count": null,
   "id": "59476393",
   "metadata": {},
   "outputs": [],
   "source": []
  }
 ],
 "metadata": {
  "kernelspec": {
   "display_name": "Python 3 (ipykernel)",
   "language": "python",
   "name": "python3"
  },
  "language_info": {
   "codemirror_mode": {
    "name": "ipython",
    "version": 3
   },
   "file_extension": ".py",
   "mimetype": "text/x-python",
   "name": "python",
   "nbconvert_exporter": "python",
   "pygments_lexer": "ipython3",
   "version": "3.9.12"
  }
 },
 "nbformat": 4,
 "nbformat_minor": 5
}
